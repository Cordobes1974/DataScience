{
  "cells": [
    {
      "cell_type": "markdown",
      "metadata": {
        "id": "view-in-github",
        "colab_type": "text"
      },
      "source": [
        "<a href=\"https://colab.research.google.com/github/Cordobes1974/DataScience/blob/main/ProyectoDS_ParteI_Rodrigo_Casas.ipynb\" target=\"_parent\"><img src=\"https://colab.research.google.com/assets/colab-badge.svg\" alt=\"Open In Colab\"/></a>"
      ]
    },
    {
      "cell_type": "code",
      "execution_count": 218,
      "metadata": {
        "colab": {
          "base_uri": "https://localhost:8080/"
        },
        "id": "eUB-jF7Zq3j4",
        "outputId": "c5c5c364-855f-430e-d6c6-5478aa0d577b"
      },
      "outputs": [
        {
          "output_type": "stream",
          "name": "stdout",
          "text": [
            "Drive already mounted at /content/drive; to attempt to forcibly remount, call drive.mount(\"/content/drive\", force_remount=True).\n"
          ]
        }
      ],
      "source": [
        "# Imports de bibliotecas para manipulación de datos y visualización y machine learning\n",
        "import pandas as pd\n",
        "import numpy as np\n",
        "import matplotlib as mpl\n",
        "import matplotlib.pyplot as plt\n",
        "import sklearn\n",
        "\n",
        "# Imports de bibliotecas para modelado y aprendizaje automático\n",
        "from sklearn.model_selection import train_test_split\n",
        "from sklearn.preprocessing import LabelEncoder\n",
        "from sklearn.preprocessing import MinMaxScaler\n",
        "from sklearn.metrics import accuracy_score\n",
        "from sklearn.tree import DecisionTreeClassifier\n",
        "from sklearn.linear_model import LogisticRegression\n",
        "from sklearn.linear_model import LogisticRegressionCV\n",
        "from sklearn.linear_model import LinearRegression\n",
        "from sklearn.svm import SVC\n",
        "from sklearn.neural_network import MLPClassifier\n",
        "from sklearn.model_selection import KFold, cross_val_score\n",
        "from sklearn.model_selection import GridSearchCV\n",
        "from sklearn.pipeline import Pipeline\n",
        "from sklearn.metrics import confusion_matrix, f1_score, precision_recall_curve, roc_curve, auc\n",
        "import sklearn.datasets\n",
        "\n",
        "import seaborn as sns\n",
        "\n",
        "# Para el uso de Técnicas de Remuestreo como SMOTE\n",
        "from imblearn.over_sampling import SMOTE\n",
        "\n",
        "# Para hacer algún ajuste de hiperparámetros:\n",
        "from sklearn.model_selection import GridSearchCV\n",
        "\n",
        "# Configuración del entorno de Python en Google Colab\n",
        "from google.colab import drive\n",
        "drive.mount('/content/drive')"
      ]
    },
    {
      "cell_type": "markdown",
      "metadata": {
        "id": "ZVOOtwIR95mH"
      },
      "source": [
        "# **Hipótesis.**\n",
        "\n",
        "Seguiré éstos pasos:\n",
        "\n",
        "1) Definir el objetivo de la Hipótesis.\n",
        "\n",
        "Quiero calcular el \"Costo que tendría el Servicio para el Hospital\", como \"Variable Objetivo\".\n",
        "\n",
        "También deseo investigar o demostrar, por ejemplo: Poder analizar si ciertos factores, influyen en la recuperación de pacientes, con una enfermedad específica.\n",
        "\n",
        "Cúales Enfermedades se dan en mayor cantidad?\n",
        "\n",
        "Hay vinculación con La Edad y/o el Género de los Pacientes?\n",
        "\n",
        "\n",
        "2) Seleccionar las variables: Identificar las variables dependientes e independientes en el dataset. Por ejemplo, tener variables como edad, género, historial médico, tratamientos recibidos, etc.\n",
        "\n",
        "3) Formular la Hipótesis: Redactar una hipótesis clara y comprobable.\n",
        "\n",
        "4) Preparar el Dataset: Trabajaré para asegurarme de que el dataset esté limpio y listo para el análisis.\n",
        "Esto incluye manejar datos faltantes, normalizar variables, tratar los Outliers, (Para que no distorsionen el análisis), etc.\n",
        "\n",
        "5) Análisis de Datos: Utilizar Técnicas Estadísticas, para analizar los datos y probar la Hipótesis.\n",
        "\n",
        "6) Interpretar los resultados: Analizar los resultados obtenidos, para ver si apoyan o refutan mi hipótesis.\n",
        "\n",
        "Asegurarme de considerar posibles sesgos o limitaciones en el análisis."
      ]
    },
    {
      "cell_type": "markdown",
      "source": [
        "\n",
        "\n",
        "---\n",
        "\n",
        "\n",
        "**A continuación, incluyo una breve explicación de cada Variable:**\n",
        "\n",
        "Name:                   Nombre del Paciente\n",
        "\n",
        "Age:                    Edad del Paciente\n",
        "\n",
        "Gender:                 Género del Paciente\n",
        "\n",
        "Blood Type:             Tipo de Sangre.\n",
        "\n",
        "Medical Condition:      Condición Médica.\n",
        "\n",
        "Date of Admission:      Fecha de Ingreso.\n",
        "\n",
        "Doctor:                 Doctor que lo atiende.\n",
        "\n",
        "Hospital:              Hospital en que ha sido internado.\n",
        "\n",
        "Insurance Provider:     Proveedor de Seguros.\n",
        "\n",
        "Billing Amount:        Monto de Facturación.\n",
        "\n",
        "Room Number:            Número de Habitación.\n",
        "\n",
        "Admission Type:         Tipo de Admisión.\n",
        "\n",
        "Discharge Date:         Fecha de alta.\n",
        "\n",
        "Medication:             Medicamento.\n",
        "\n",
        "Test Results:           Resultados de la prueba."
      ],
      "metadata": {
        "id": "AJ7fXar7R7w1"
      }
    },
    {
      "cell_type": "markdown",
      "metadata": {
        "id": "Y-Fl7aPcgFi5"
      },
      "source": [
        "# **Aclaraciones:**\n",
        "Dadas las hipótesis planteadas, las variables más interesantes para analizar serían:\n",
        "\n",
        "**Analizar si ciertos factores influyen en la recuperación de pacientes con una enfermedad específica:**\n",
        "\n",
        "Medical Condition: La condición médica es crucial para entender qué factores influyen en la recuperación.\n",
        "\n",
        "Age: La edad puede ser un factor determinante en la recuperación de ciertas enfermedades.\n",
        "\n",
        "Gender: El género también puede influir en la respuesta a tratamientos y la recuperación.\n",
        "\n",
        "Admission Type: El tipo de admisión (emergencia, urgente, electiva) podría estar relacionado con la gravedad de la condición y afectar la recuperación.\n",
        "\n",
        "Test Results: Los resultados de pruebas médicas pueden ser indicadores importantes de la progresión de la enfermedad y la efectividad del tratamiento.\n",
        "\n",
        "Medication: Los medicamentos administrados pueden ser analizados para entender su impacto en la recuperación.\n",
        "\n",
        "Discharge Date: La fecha de alta puede ser utilizada para calcular el tiempo de recuperación y analizar su relación con otros factores.\n",
        "\n",
        "**Para analizar qué enfermedades se dan en mayor cantidad:**\n",
        "\n",
        "Medical Condition: Esta variable nos permitirá identificar las enfermedades más frecuentes en el conjunto de datos.\n",
        "\n",
        "**Para analizar la vinculación con la edad y el género:**\n",
        "\n",
        "Age: La edad nos permitirá analizar la distribución de enfermedades por grupos etarios.\n",
        "\n",
        "Gender: El género nos ayudará a identificar si existen diferencias en la prevalencia de enfermedades entre hombres y mujeres.\n",
        "\n",
        "**Para calcular el costo que tendría el servicio para el hospital:**\n",
        "\n",
        "**Billing Amount: Esta variable representa el costo total de los servicios médicos prestados y es esencial para calcular el costo total para el hospital.**\n",
        "\n",
        "Admission Type: El tipo de admisión puede estar relacionado con el costo, ya que las admisiones de emergencia suelen ser más costosas.\n",
        "\n",
        "Medical Condition: El costo del tratamiento puede variar según la condición médica.\n",
        "\n",
        "**Contexto comercial y analítico:**\n",
        "\n",
        "Estas variables son relevantes desde un punto de vista comercial y analítico porque:\n",
        "\n",
        "Permiten identificar factores que influyen en la recuperación de pacientes, lo que puede ayudar a mejorar los tratamientos y reducir los costos.\n",
        "\n",
        "Ayudan a entender la prevalencia de enfermedades y su relación con la edad y el género, lo que puede ser útil para planificar estrategias de salud pública.\n",
        "\n",
        "Facilitan el cálculo del costo de los servicios médicos, lo que permite al hospital tomar decisiones informadas sobre la asignación de recursos."
      ]
    },
    {
      "cell_type": "markdown",
      "metadata": {
        "id": "hYUB8qHiqD3E"
      },
      "source": [
        "# Obtención del Dataset:\n",
        "\n",
        "Me ha costado encontrar un dataset completo, que se adecúe a las condiciones requeridas.\n",
        "\n",
        "Finalmente, he tomado éste Dataset, desde la página web de Kaggle.\n",
        "\n",
        "En el siguiente Link:\n",
        "https://www.kaggle.com/datasets/prasad22/healthcare-dataset\n",
        "\n",
        "Información brindada por el autor del Dataset:\n",
        "\n",
        "Contexto:\n",
        "Este conjunto de datos sintéticos de atención médica, se creó para servir como un recurso valioso para los entusiastas de la ciencia de datos, el aprendizaje automático y el análisis de datos. **Está diseñado para imitar datos de atención médica del mundo real**, lo que permite a los usuarios practicar, desarrollar y mostrar sus habilidades de manipulación y análisis de datos en el contexto de la industria de la atención médica.\n",
        "\n",
        "Inspiración:\n",
        "La inspiración detrás de este conjunto de datos, se basa en la necesidad de datos sanitarios prácticos y diversos para fines educativos y de investigación. Los datos sanitarios suelen ser sensibles y estar sujetos a normas de privacidad, lo que dificulta su acceso para el aprendizaje y la experimentación.\n",
        "\n",
        "Para abordar esta brecha, he aprovechado la biblioteca Faker de Python, para generar un conjunto de datos que refleje la estructura y los atributos que se encuentran comúnmente en los registros sanitarios.\n",
        "\n",
        "Al proporcionar estos datos sintéticos, espero fomentar la innovación, el aprendizaje y el intercambio de conocimientos en el ámbito de la analítica sanitaria.\n",
        "\n",
        "Dataset Information:\n",
        "Cada columna proporciona información específica sobre el paciente, su ingreso y los servicios de atención médica brindados, lo que hace que este conjunto de datos sea adecuado para diversas tareas de análisis y modelado de datos en el ámbito de la atención médica."
      ]
    },
    {
      "cell_type": "code",
      "execution_count": 219,
      "metadata": {
        "id": "SPmLD59HQp9v"
      },
      "outputs": [],
      "source": [
        "pathCurso = '/content/drive/MyDrive/COMISION61170-RODRIGOCASAS'"
      ]
    },
    {
      "cell_type": "markdown",
      "metadata": {
        "id": "g5LV8JkhDG9e"
      },
      "source": [
        "# **Lectura del Dataset o Importación de datos**"
      ]
    },
    {
      "cell_type": "code",
      "execution_count": 220,
      "metadata": {
        "id": "6dAqEUvQRosK"
      },
      "outputs": [],
      "source": [
        "# Cambié a Archivo Tipo: Libro de Excel, (Formato .xlsx); habiendo realizado previamente, la Separación de Texto en Columna, (Separado por Comas).\n",
        "# Con el objetivo de solucionar el inconveniente con múltiples filas NaN.\n",
        "# Además debí reducir a la mitad, la cantidad de Filas, ya que al realizar el tratamiento y análisis; me quedaba sin RAM en Colab.\n",
        "df=pd.read_excel(pathCurso+'/healthcare_dataset BACKUP.xlsx')"
      ]
    },
    {
      "cell_type": "code",
      "source": [
        "print(pathCurso + '/healthcare_dataset BACKUP.xlsx')"
      ],
      "metadata": {
        "colab": {
          "base_uri": "https://localhost:8080/"
        },
        "id": "aUzoU30sJkrZ",
        "outputId": "b8d02d1c-6e6e-481d-a5c8-d9aea48fefec"
      },
      "execution_count": 221,
      "outputs": [
        {
          "output_type": "stream",
          "name": "stdout",
          "text": [
            "/content/drive/MyDrive/COMISION61170-RODRIGOCASAS/healthcare_dataset BACKUP.xlsx\n"
          ]
        }
      ]
    },
    {
      "cell_type": "markdown",
      "metadata": {
        "id": "WjBlzLJN7eqb"
      },
      "source": [
        "# **Análisis inicial del Dataset**"
      ]
    },
    {
      "cell_type": "code",
      "execution_count": 222,
      "metadata": {
        "colab": {
          "base_uri": "https://localhost:8080/",
          "height": 348
        },
        "id": "Ybr9zV0m7aKQ",
        "outputId": "c7b01c9e-274d-431a-b9b1-b4a3003178ce"
      },
      "outputs": [
        {
          "output_type": "execute_result",
          "data": {
            "text/plain": [
              "  First Name Last Name  Age  Gender BloodType MedicalCondition  \\\n",
              "0      Bobby   Jackson   30    Male        B-           Cancer   \n",
              "1     Leslie     Terry   62    Male        A+          Obesity   \n",
              "2      Danny     Smith   76  Female        A-          Obesity   \n",
              "3     Andrew     Watts   28  Female        O+         Diabetes   \n",
              "4   Adrienne      Bell   43  Female       AB+           Cancer   \n",
              "\n",
              "  DateofAdmission            Doctor                    Hospital  \\\n",
              "0      2024-01-31     Matthew Smith             Sons and Miller   \n",
              "1      2019-08-20   Samantha Davies                     Kim Inc   \n",
              "2      2022-09-22  Tiffany Mitchell                    Cook PLC   \n",
              "3      2020-11-18       Kevin Wells  Hernandez Rogers and Vang,   \n",
              "4      2022-09-19    Kathleen Hanna                 White-White   \n",
              "\n",
              "  InsuranceProvider      BillingAmount  RoomNumber AdmissionType  \\\n",
              "0        Blue Cross  18856281305978100         328        Urgent   \n",
              "1          Medicare  33643327286577800         265     Emergency   \n",
              "2             Aetna  27955096078842400         205     Emergency   \n",
              "3          Medicare   3790978240987520         450      Elective   \n",
              "4             Aetna  14238317813937600         458        Urgent   \n",
              "\n",
              "  DischargeDate   Medication   TestResults  \n",
              "0    2024-02-02  Paracetamol        Normal  \n",
              "1    2019-08-26    Ibuprofen  Inconclusive  \n",
              "2    2022-10-07      Aspirin        Normal  \n",
              "3    2020-12-18    Ibuprofen      Abnormal  \n",
              "4    2022-10-09   Penicillin      Abnormal  "
            ],
            "text/html": [
              "\n",
              "  <div id=\"df-125e4d2f-0f8d-43d3-8538-701cc9a40cbb\" class=\"colab-df-container\">\n",
              "    <div>\n",
              "<style scoped>\n",
              "    .dataframe tbody tr th:only-of-type {\n",
              "        vertical-align: middle;\n",
              "    }\n",
              "\n",
              "    .dataframe tbody tr th {\n",
              "        vertical-align: top;\n",
              "    }\n",
              "\n",
              "    .dataframe thead th {\n",
              "        text-align: right;\n",
              "    }\n",
              "</style>\n",
              "<table border=\"1\" class=\"dataframe\">\n",
              "  <thead>\n",
              "    <tr style=\"text-align: right;\">\n",
              "      <th></th>\n",
              "      <th>First Name</th>\n",
              "      <th>Last Name</th>\n",
              "      <th>Age</th>\n",
              "      <th>Gender</th>\n",
              "      <th>BloodType</th>\n",
              "      <th>MedicalCondition</th>\n",
              "      <th>DateofAdmission</th>\n",
              "      <th>Doctor</th>\n",
              "      <th>Hospital</th>\n",
              "      <th>InsuranceProvider</th>\n",
              "      <th>BillingAmount</th>\n",
              "      <th>RoomNumber</th>\n",
              "      <th>AdmissionType</th>\n",
              "      <th>DischargeDate</th>\n",
              "      <th>Medication</th>\n",
              "      <th>TestResults</th>\n",
              "    </tr>\n",
              "  </thead>\n",
              "  <tbody>\n",
              "    <tr>\n",
              "      <th>0</th>\n",
              "      <td>Bobby</td>\n",
              "      <td>Jackson</td>\n",
              "      <td>30</td>\n",
              "      <td>Male</td>\n",
              "      <td>B-</td>\n",
              "      <td>Cancer</td>\n",
              "      <td>2024-01-31</td>\n",
              "      <td>Matthew Smith</td>\n",
              "      <td>Sons and Miller</td>\n",
              "      <td>Blue Cross</td>\n",
              "      <td>18856281305978100</td>\n",
              "      <td>328</td>\n",
              "      <td>Urgent</td>\n",
              "      <td>2024-02-02</td>\n",
              "      <td>Paracetamol</td>\n",
              "      <td>Normal</td>\n",
              "    </tr>\n",
              "    <tr>\n",
              "      <th>1</th>\n",
              "      <td>Leslie</td>\n",
              "      <td>Terry</td>\n",
              "      <td>62</td>\n",
              "      <td>Male</td>\n",
              "      <td>A+</td>\n",
              "      <td>Obesity</td>\n",
              "      <td>2019-08-20</td>\n",
              "      <td>Samantha Davies</td>\n",
              "      <td>Kim Inc</td>\n",
              "      <td>Medicare</td>\n",
              "      <td>33643327286577800</td>\n",
              "      <td>265</td>\n",
              "      <td>Emergency</td>\n",
              "      <td>2019-08-26</td>\n",
              "      <td>Ibuprofen</td>\n",
              "      <td>Inconclusive</td>\n",
              "    </tr>\n",
              "    <tr>\n",
              "      <th>2</th>\n",
              "      <td>Danny</td>\n",
              "      <td>Smith</td>\n",
              "      <td>76</td>\n",
              "      <td>Female</td>\n",
              "      <td>A-</td>\n",
              "      <td>Obesity</td>\n",
              "      <td>2022-09-22</td>\n",
              "      <td>Tiffany Mitchell</td>\n",
              "      <td>Cook PLC</td>\n",
              "      <td>Aetna</td>\n",
              "      <td>27955096078842400</td>\n",
              "      <td>205</td>\n",
              "      <td>Emergency</td>\n",
              "      <td>2022-10-07</td>\n",
              "      <td>Aspirin</td>\n",
              "      <td>Normal</td>\n",
              "    </tr>\n",
              "    <tr>\n",
              "      <th>3</th>\n",
              "      <td>Andrew</td>\n",
              "      <td>Watts</td>\n",
              "      <td>28</td>\n",
              "      <td>Female</td>\n",
              "      <td>O+</td>\n",
              "      <td>Diabetes</td>\n",
              "      <td>2020-11-18</td>\n",
              "      <td>Kevin Wells</td>\n",
              "      <td>Hernandez Rogers and Vang,</td>\n",
              "      <td>Medicare</td>\n",
              "      <td>3790978240987520</td>\n",
              "      <td>450</td>\n",
              "      <td>Elective</td>\n",
              "      <td>2020-12-18</td>\n",
              "      <td>Ibuprofen</td>\n",
              "      <td>Abnormal</td>\n",
              "    </tr>\n",
              "    <tr>\n",
              "      <th>4</th>\n",
              "      <td>Adrienne</td>\n",
              "      <td>Bell</td>\n",
              "      <td>43</td>\n",
              "      <td>Female</td>\n",
              "      <td>AB+</td>\n",
              "      <td>Cancer</td>\n",
              "      <td>2022-09-19</td>\n",
              "      <td>Kathleen Hanna</td>\n",
              "      <td>White-White</td>\n",
              "      <td>Aetna</td>\n",
              "      <td>14238317813937600</td>\n",
              "      <td>458</td>\n",
              "      <td>Urgent</td>\n",
              "      <td>2022-10-09</td>\n",
              "      <td>Penicillin</td>\n",
              "      <td>Abnormal</td>\n",
              "    </tr>\n",
              "  </tbody>\n",
              "</table>\n",
              "</div>\n",
              "    <div class=\"colab-df-buttons\">\n",
              "\n",
              "  <div class=\"colab-df-container\">\n",
              "    <button class=\"colab-df-convert\" onclick=\"convertToInteractive('df-125e4d2f-0f8d-43d3-8538-701cc9a40cbb')\"\n",
              "            title=\"Convert this dataframe to an interactive table.\"\n",
              "            style=\"display:none;\">\n",
              "\n",
              "  <svg xmlns=\"http://www.w3.org/2000/svg\" height=\"24px\" viewBox=\"0 -960 960 960\">\n",
              "    <path d=\"M120-120v-720h720v720H120Zm60-500h600v-160H180v160Zm220 220h160v-160H400v160Zm0 220h160v-160H400v160ZM180-400h160v-160H180v160Zm440 0h160v-160H620v160ZM180-180h160v-160H180v160Zm440 0h160v-160H620v160Z\"/>\n",
              "  </svg>\n",
              "    </button>\n",
              "\n",
              "  <style>\n",
              "    .colab-df-container {\n",
              "      display:flex;\n",
              "      gap: 12px;\n",
              "    }\n",
              "\n",
              "    .colab-df-convert {\n",
              "      background-color: #E8F0FE;\n",
              "      border: none;\n",
              "      border-radius: 50%;\n",
              "      cursor: pointer;\n",
              "      display: none;\n",
              "      fill: #1967D2;\n",
              "      height: 32px;\n",
              "      padding: 0 0 0 0;\n",
              "      width: 32px;\n",
              "    }\n",
              "\n",
              "    .colab-df-convert:hover {\n",
              "      background-color: #E2EBFA;\n",
              "      box-shadow: 0px 1px 2px rgba(60, 64, 67, 0.3), 0px 1px 3px 1px rgba(60, 64, 67, 0.15);\n",
              "      fill: #174EA6;\n",
              "    }\n",
              "\n",
              "    .colab-df-buttons div {\n",
              "      margin-bottom: 4px;\n",
              "    }\n",
              "\n",
              "    [theme=dark] .colab-df-convert {\n",
              "      background-color: #3B4455;\n",
              "      fill: #D2E3FC;\n",
              "    }\n",
              "\n",
              "    [theme=dark] .colab-df-convert:hover {\n",
              "      background-color: #434B5C;\n",
              "      box-shadow: 0px 1px 3px 1px rgba(0, 0, 0, 0.15);\n",
              "      filter: drop-shadow(0px 1px 2px rgba(0, 0, 0, 0.3));\n",
              "      fill: #FFFFFF;\n",
              "    }\n",
              "  </style>\n",
              "\n",
              "    <script>\n",
              "      const buttonEl =\n",
              "        document.querySelector('#df-125e4d2f-0f8d-43d3-8538-701cc9a40cbb button.colab-df-convert');\n",
              "      buttonEl.style.display =\n",
              "        google.colab.kernel.accessAllowed ? 'block' : 'none';\n",
              "\n",
              "      async function convertToInteractive(key) {\n",
              "        const element = document.querySelector('#df-125e4d2f-0f8d-43d3-8538-701cc9a40cbb');\n",
              "        const dataTable =\n",
              "          await google.colab.kernel.invokeFunction('convertToInteractive',\n",
              "                                                    [key], {});\n",
              "        if (!dataTable) return;\n",
              "\n",
              "        const docLinkHtml = 'Like what you see? Visit the ' +\n",
              "          '<a target=\"_blank\" href=https://colab.research.google.com/notebooks/data_table.ipynb>data table notebook</a>'\n",
              "          + ' to learn more about interactive tables.';\n",
              "        element.innerHTML = '';\n",
              "        dataTable['output_type'] = 'display_data';\n",
              "        await google.colab.output.renderOutput(dataTable, element);\n",
              "        const docLink = document.createElement('div');\n",
              "        docLink.innerHTML = docLinkHtml;\n",
              "        element.appendChild(docLink);\n",
              "      }\n",
              "    </script>\n",
              "  </div>\n",
              "\n",
              "\n",
              "<div id=\"df-0a65425b-1913-4149-8f81-3ee67258c850\">\n",
              "  <button class=\"colab-df-quickchart\" onclick=\"quickchart('df-0a65425b-1913-4149-8f81-3ee67258c850')\"\n",
              "            title=\"Suggest charts\"\n",
              "            style=\"display:none;\">\n",
              "\n",
              "<svg xmlns=\"http://www.w3.org/2000/svg\" height=\"24px\"viewBox=\"0 0 24 24\"\n",
              "     width=\"24px\">\n",
              "    <g>\n",
              "        <path d=\"M19 3H5c-1.1 0-2 .9-2 2v14c0 1.1.9 2 2 2h14c1.1 0 2-.9 2-2V5c0-1.1-.9-2-2-2zM9 17H7v-7h2v7zm4 0h-2V7h2v10zm4 0h-2v-4h2v4z\"/>\n",
              "    </g>\n",
              "</svg>\n",
              "  </button>\n",
              "\n",
              "<style>\n",
              "  .colab-df-quickchart {\n",
              "      --bg-color: #E8F0FE;\n",
              "      --fill-color: #1967D2;\n",
              "      --hover-bg-color: #E2EBFA;\n",
              "      --hover-fill-color: #174EA6;\n",
              "      --disabled-fill-color: #AAA;\n",
              "      --disabled-bg-color: #DDD;\n",
              "  }\n",
              "\n",
              "  [theme=dark] .colab-df-quickchart {\n",
              "      --bg-color: #3B4455;\n",
              "      --fill-color: #D2E3FC;\n",
              "      --hover-bg-color: #434B5C;\n",
              "      --hover-fill-color: #FFFFFF;\n",
              "      --disabled-bg-color: #3B4455;\n",
              "      --disabled-fill-color: #666;\n",
              "  }\n",
              "\n",
              "  .colab-df-quickchart {\n",
              "    background-color: var(--bg-color);\n",
              "    border: none;\n",
              "    border-radius: 50%;\n",
              "    cursor: pointer;\n",
              "    display: none;\n",
              "    fill: var(--fill-color);\n",
              "    height: 32px;\n",
              "    padding: 0;\n",
              "    width: 32px;\n",
              "  }\n",
              "\n",
              "  .colab-df-quickchart:hover {\n",
              "    background-color: var(--hover-bg-color);\n",
              "    box-shadow: 0 1px 2px rgba(60, 64, 67, 0.3), 0 1px 3px 1px rgba(60, 64, 67, 0.15);\n",
              "    fill: var(--button-hover-fill-color);\n",
              "  }\n",
              "\n",
              "  .colab-df-quickchart-complete:disabled,\n",
              "  .colab-df-quickchart-complete:disabled:hover {\n",
              "    background-color: var(--disabled-bg-color);\n",
              "    fill: var(--disabled-fill-color);\n",
              "    box-shadow: none;\n",
              "  }\n",
              "\n",
              "  .colab-df-spinner {\n",
              "    border: 2px solid var(--fill-color);\n",
              "    border-color: transparent;\n",
              "    border-bottom-color: var(--fill-color);\n",
              "    animation:\n",
              "      spin 1s steps(1) infinite;\n",
              "  }\n",
              "\n",
              "  @keyframes spin {\n",
              "    0% {\n",
              "      border-color: transparent;\n",
              "      border-bottom-color: var(--fill-color);\n",
              "      border-left-color: var(--fill-color);\n",
              "    }\n",
              "    20% {\n",
              "      border-color: transparent;\n",
              "      border-left-color: var(--fill-color);\n",
              "      border-top-color: var(--fill-color);\n",
              "    }\n",
              "    30% {\n",
              "      border-color: transparent;\n",
              "      border-left-color: var(--fill-color);\n",
              "      border-top-color: var(--fill-color);\n",
              "      border-right-color: var(--fill-color);\n",
              "    }\n",
              "    40% {\n",
              "      border-color: transparent;\n",
              "      border-right-color: var(--fill-color);\n",
              "      border-top-color: var(--fill-color);\n",
              "    }\n",
              "    60% {\n",
              "      border-color: transparent;\n",
              "      border-right-color: var(--fill-color);\n",
              "    }\n",
              "    80% {\n",
              "      border-color: transparent;\n",
              "      border-right-color: var(--fill-color);\n",
              "      border-bottom-color: var(--fill-color);\n",
              "    }\n",
              "    90% {\n",
              "      border-color: transparent;\n",
              "      border-bottom-color: var(--fill-color);\n",
              "    }\n",
              "  }\n",
              "</style>\n",
              "\n",
              "  <script>\n",
              "    async function quickchart(key) {\n",
              "      const quickchartButtonEl =\n",
              "        document.querySelector('#' + key + ' button');\n",
              "      quickchartButtonEl.disabled = true;  // To prevent multiple clicks.\n",
              "      quickchartButtonEl.classList.add('colab-df-spinner');\n",
              "      try {\n",
              "        const charts = await google.colab.kernel.invokeFunction(\n",
              "            'suggestCharts', [key], {});\n",
              "      } catch (error) {\n",
              "        console.error('Error during call to suggestCharts:', error);\n",
              "      }\n",
              "      quickchartButtonEl.classList.remove('colab-df-spinner');\n",
              "      quickchartButtonEl.classList.add('colab-df-quickchart-complete');\n",
              "    }\n",
              "    (() => {\n",
              "      let quickchartButtonEl =\n",
              "        document.querySelector('#df-0a65425b-1913-4149-8f81-3ee67258c850 button');\n",
              "      quickchartButtonEl.style.display =\n",
              "        google.colab.kernel.accessAllowed ? 'block' : 'none';\n",
              "    })();\n",
              "  </script>\n",
              "</div>\n",
              "\n",
              "    </div>\n",
              "  </div>\n"
            ],
            "application/vnd.google.colaboratory.intrinsic+json": {
              "type": "dataframe",
              "variable_name": "df",
              "summary": "{\n  \"name\": \"df\",\n  \"rows\": 24999,\n  \"fields\": [\n    {\n      \"column\": \"First Name\",\n      \"properties\": {\n        \"dtype\": \"category\",\n        \"num_unique_values\": 688,\n        \"samples\": [\n          \"Olivia\",\n          \"Darius\",\n          \"Carla\"\n        ],\n        \"semantic_type\": \"\",\n        \"description\": \"\"\n      }\n    },\n    {\n      \"column\": \"Last Name\",\n      \"properties\": {\n        \"dtype\": \"category\",\n        \"num_unique_values\": 1004,\n        \"samples\": [\n          \"Greer\",\n          \"Hammond\",\n          \"Dalton\"\n        ],\n        \"semantic_type\": \"\",\n        \"description\": \"\"\n      }\n    },\n    {\n      \"column\": \"Age\",\n      \"properties\": {\n        \"dtype\": \"number\",\n        \"std\": 19,\n        \"min\": 18,\n        \"max\": 85,\n        \"num_unique_values\": 68,\n        \"samples\": [\n          29,\n          63,\n          43\n        ],\n        \"semantic_type\": \"\",\n        \"description\": \"\"\n      }\n    },\n    {\n      \"column\": \"Gender\",\n      \"properties\": {\n        \"dtype\": \"category\",\n        \"num_unique_values\": 2,\n        \"samples\": [\n          \"Female\",\n          \"Male\"\n        ],\n        \"semantic_type\": \"\",\n        \"description\": \"\"\n      }\n    },\n    {\n      \"column\": \"BloodType\",\n      \"properties\": {\n        \"dtype\": \"category\",\n        \"num_unique_values\": 8,\n        \"samples\": [\n          \"A+\",\n          \"AB-\"\n        ],\n        \"semantic_type\": \"\",\n        \"description\": \"\"\n      }\n    },\n    {\n      \"column\": \"MedicalCondition\",\n      \"properties\": {\n        \"dtype\": \"category\",\n        \"num_unique_values\": 6,\n        \"samples\": [\n          \"Cancer\",\n          \"Obesity\"\n        ],\n        \"semantic_type\": \"\",\n        \"description\": \"\"\n      }\n    },\n    {\n      \"column\": \"DateofAdmission\",\n      \"properties\": {\n        \"dtype\": \"date\",\n        \"min\": \"2019-05-08 00:00:00\",\n        \"max\": \"2024-05-07 00:00:00\",\n        \"num_unique_values\": 1827,\n        \"samples\": [\n          \"2022-12-24 00:00:00\",\n          \"2022-02-14 00:00:00\"\n        ],\n        \"semantic_type\": \"\",\n        \"description\": \"\"\n      }\n    },\n    {\n      \"column\": \"Doctor\",\n      \"properties\": {\n        \"dtype\": \"string\",\n        \"num_unique_values\": 22096,\n        \"samples\": [\n          \"Rachel Cook\",\n          \"Theresa Martin\"\n        ],\n        \"semantic_type\": \"\",\n        \"description\": \"\"\n      }\n    },\n    {\n      \"column\": \"Hospital\",\n      \"properties\": {\n        \"dtype\": \"string\",\n        \"num_unique_values\": 21445,\n        \"samples\": [\n          \"Reed Sons and\",\n          \"Ball-Bell\"\n        ],\n        \"semantic_type\": \"\",\n        \"description\": \"\"\n      }\n    },\n    {\n      \"column\": \"InsuranceProvider\",\n      \"properties\": {\n        \"dtype\": \"category\",\n        \"num_unique_values\": 6,\n        \"samples\": [\n          \"Blue Cross\",\n          \"Medicare\"\n        ],\n        \"semantic_type\": \"\",\n        \"description\": \"\"\n      }\n    },\n    {\n      \"column\": \"BillingAmount\",\n      \"properties\": {\n        \"dtype\": \"number\",\n        \"std\": 13810537014963580,\n        \"min\": 144242393735,\n        \"max\": 81541564149807104,\n        \"num_unique_values\": 24999,\n        \"samples\": [\n          4903010758227820,\n          15631566130227100\n        ],\n        \"semantic_type\": \"\",\n        \"description\": \"\"\n      }\n    },\n    {\n      \"column\": \"RoomNumber\",\n      \"properties\": {\n        \"dtype\": \"number\",\n        \"std\": 115,\n        \"min\": 101,\n        \"max\": 500,\n        \"num_unique_values\": 400,\n        \"samples\": [\n          176,\n          146\n        ],\n        \"semantic_type\": \"\",\n        \"description\": \"\"\n      }\n    },\n    {\n      \"column\": \"AdmissionType\",\n      \"properties\": {\n        \"dtype\": \"category\",\n        \"num_unique_values\": 3,\n        \"samples\": [\n          \"Urgent\",\n          \"Emergency\"\n        ],\n        \"semantic_type\": \"\",\n        \"description\": \"\"\n      }\n    },\n    {\n      \"column\": \"DischargeDate\",\n      \"properties\": {\n        \"dtype\": \"date\",\n        \"min\": \"2019-05-09 00:00:00\",\n        \"max\": \"2024-06-05 00:00:00\",\n        \"num_unique_values\": 1854,\n        \"samples\": [\n          \"2020-10-29 00:00:00\",\n          \"2023-05-19 00:00:00\"\n        ],\n        \"semantic_type\": \"\",\n        \"description\": \"\"\n      }\n    },\n    {\n      \"column\": \"Medication\",\n      \"properties\": {\n        \"dtype\": \"category\",\n        \"num_unique_values\": 5,\n        \"samples\": [\n          \"Ibuprofen\",\n          \"Lipitor\"\n        ],\n        \"semantic_type\": \"\",\n        \"description\": \"\"\n      }\n    },\n    {\n      \"column\": \"TestResults\",\n      \"properties\": {\n        \"dtype\": \"category\",\n        \"num_unique_values\": 3,\n        \"samples\": [\n          \"Normal\",\n          \"Inconclusive\"\n        ],\n        \"semantic_type\": \"\",\n        \"description\": \"\"\n      }\n    }\n  ]\n}"
            }
          },
          "metadata": {},
          "execution_count": 222
        }
      ],
      "source": [
        "df.head()"
      ]
    },
    {
      "cell_type": "code",
      "execution_count": 223,
      "metadata": {
        "colab": {
          "base_uri": "https://localhost:8080/"
        },
        "id": "9uALr_ERWgYH",
        "outputId": "02c083f4-616c-46b5-92ed-5809196e0b60"
      },
      "outputs": [
        {
          "output_type": "stream",
          "name": "stdout",
          "text": [
            "<class 'pandas.core.frame.DataFrame'>\n",
            "RangeIndex: 24999 entries, 0 to 24998\n",
            "Data columns (total 16 columns):\n",
            " #   Column             Non-Null Count  Dtype         \n",
            "---  ------             --------------  -----         \n",
            " 0   First Name         24999 non-null  object        \n",
            " 1   Last Name          24999 non-null  object        \n",
            " 2   Age                24999 non-null  int64         \n",
            " 3   Gender             24999 non-null  object        \n",
            " 4   BloodType          24999 non-null  object        \n",
            " 5   MedicalCondition   24999 non-null  object        \n",
            " 6   DateofAdmission    24999 non-null  datetime64[ns]\n",
            " 7   Doctor             24999 non-null  object        \n",
            " 8   Hospital           24999 non-null  object        \n",
            " 9   InsuranceProvider  24999 non-null  object        \n",
            " 10  BillingAmount      24999 non-null  int64         \n",
            " 11  RoomNumber         24999 non-null  int64         \n",
            " 12  AdmissionType      24999 non-null  object        \n",
            " 13  DischargeDate      24999 non-null  datetime64[ns]\n",
            " 14  Medication         24999 non-null  object        \n",
            " 15  TestResults        24999 non-null  object        \n",
            "dtypes: datetime64[ns](2), int64(3), object(11)\n",
            "memory usage: 3.1+ MB\n"
          ]
        }
      ],
      "source": [
        "df.info()"
      ]
    },
    {
      "cell_type": "code",
      "source": [
        "index = df.index\n",
        "print(index)"
      ],
      "metadata": {
        "colab": {
          "base_uri": "https://localhost:8080/"
        },
        "id": "b9tA1FLNW3dd",
        "outputId": "aea4a754-140a-4f1d-9f30-4bcde41ef2af"
      },
      "execution_count": 224,
      "outputs": [
        {
          "output_type": "stream",
          "name": "stdout",
          "text": [
            "RangeIndex(start=0, stop=24999, step=1)\n"
          ]
        }
      ]
    },
    {
      "cell_type": "code",
      "execution_count": 225,
      "metadata": {
        "colab": {
          "base_uri": "https://localhost:8080/",
          "height": 424
        },
        "id": "H9vCsJU2ZAjg",
        "outputId": "b6d36b38-9e73-4839-8612-44f4100a8454"
      },
      "outputs": [
        {
          "output_type": "execute_result",
          "data": {
            "text/plain": [
              "                Age                DateofAdmission  BillingAmount  \\\n",
              "count  24999.000000                          24999   2.499900e+04   \n",
              "mean      51.696108  2021-10-28 12:20:39.025560832   1.412771e+16   \n",
              "min       18.000000            2019-05-08 00:00:00   1.442424e+11   \n",
              "25%       35.000000            2020-07-24 00:00:00   3.613059e+15   \n",
              "50%       52.000000            2021-10-30 00:00:00   7.602571e+15   \n",
              "75%       69.000000            2023-01-28 00:00:00   2.327247e+16   \n",
              "max       85.000000            2024-05-07 00:00:00   8.154156e+16   \n",
              "std       19.580256                            NaN   1.381054e+16   \n",
              "\n",
              "         RoomNumber                  DischargeDate  \n",
              "count  24999.000000                          24999  \n",
              "mean     300.260890  2021-11-13 00:07:08.561142528  \n",
              "min      101.000000            2019-05-09 00:00:00  \n",
              "25%      201.000000            2020-08-08 12:00:00  \n",
              "50%      301.000000            2021-11-14 00:00:00  \n",
              "75%      399.000000            2023-02-13 00:00:00  \n",
              "max      500.000000            2024-06-05 00:00:00  \n",
              "std      115.114697                            NaN  "
            ],
            "text/html": [
              "\n",
              "  <div id=\"df-5ffeb454-6009-41e6-ba17-21832c10a3ce\" class=\"colab-df-container\">\n",
              "    <div>\n",
              "<style scoped>\n",
              "    .dataframe tbody tr th:only-of-type {\n",
              "        vertical-align: middle;\n",
              "    }\n",
              "\n",
              "    .dataframe tbody tr th {\n",
              "        vertical-align: top;\n",
              "    }\n",
              "\n",
              "    .dataframe thead th {\n",
              "        text-align: right;\n",
              "    }\n",
              "</style>\n",
              "<table border=\"1\" class=\"dataframe\">\n",
              "  <thead>\n",
              "    <tr style=\"text-align: right;\">\n",
              "      <th></th>\n",
              "      <th>Age</th>\n",
              "      <th>DateofAdmission</th>\n",
              "      <th>BillingAmount</th>\n",
              "      <th>RoomNumber</th>\n",
              "      <th>DischargeDate</th>\n",
              "    </tr>\n",
              "  </thead>\n",
              "  <tbody>\n",
              "    <tr>\n",
              "      <th>count</th>\n",
              "      <td>24999.000000</td>\n",
              "      <td>24999</td>\n",
              "      <td>2.499900e+04</td>\n",
              "      <td>24999.000000</td>\n",
              "      <td>24999</td>\n",
              "    </tr>\n",
              "    <tr>\n",
              "      <th>mean</th>\n",
              "      <td>51.696108</td>\n",
              "      <td>2021-10-28 12:20:39.025560832</td>\n",
              "      <td>1.412771e+16</td>\n",
              "      <td>300.260890</td>\n",
              "      <td>2021-11-13 00:07:08.561142528</td>\n",
              "    </tr>\n",
              "    <tr>\n",
              "      <th>min</th>\n",
              "      <td>18.000000</td>\n",
              "      <td>2019-05-08 00:00:00</td>\n",
              "      <td>1.442424e+11</td>\n",
              "      <td>101.000000</td>\n",
              "      <td>2019-05-09 00:00:00</td>\n",
              "    </tr>\n",
              "    <tr>\n",
              "      <th>25%</th>\n",
              "      <td>35.000000</td>\n",
              "      <td>2020-07-24 00:00:00</td>\n",
              "      <td>3.613059e+15</td>\n",
              "      <td>201.000000</td>\n",
              "      <td>2020-08-08 12:00:00</td>\n",
              "    </tr>\n",
              "    <tr>\n",
              "      <th>50%</th>\n",
              "      <td>52.000000</td>\n",
              "      <td>2021-10-30 00:00:00</td>\n",
              "      <td>7.602571e+15</td>\n",
              "      <td>301.000000</td>\n",
              "      <td>2021-11-14 00:00:00</td>\n",
              "    </tr>\n",
              "    <tr>\n",
              "      <th>75%</th>\n",
              "      <td>69.000000</td>\n",
              "      <td>2023-01-28 00:00:00</td>\n",
              "      <td>2.327247e+16</td>\n",
              "      <td>399.000000</td>\n",
              "      <td>2023-02-13 00:00:00</td>\n",
              "    </tr>\n",
              "    <tr>\n",
              "      <th>max</th>\n",
              "      <td>85.000000</td>\n",
              "      <td>2024-05-07 00:00:00</td>\n",
              "      <td>8.154156e+16</td>\n",
              "      <td>500.000000</td>\n",
              "      <td>2024-06-05 00:00:00</td>\n",
              "    </tr>\n",
              "    <tr>\n",
              "      <th>std</th>\n",
              "      <td>19.580256</td>\n",
              "      <td>NaN</td>\n",
              "      <td>1.381054e+16</td>\n",
              "      <td>115.114697</td>\n",
              "      <td>NaN</td>\n",
              "    </tr>\n",
              "  </tbody>\n",
              "</table>\n",
              "</div>\n",
              "    <div class=\"colab-df-buttons\">\n",
              "\n",
              "  <div class=\"colab-df-container\">\n",
              "    <button class=\"colab-df-convert\" onclick=\"convertToInteractive('df-5ffeb454-6009-41e6-ba17-21832c10a3ce')\"\n",
              "            title=\"Convert this dataframe to an interactive table.\"\n",
              "            style=\"display:none;\">\n",
              "\n",
              "  <svg xmlns=\"http://www.w3.org/2000/svg\" height=\"24px\" viewBox=\"0 -960 960 960\">\n",
              "    <path d=\"M120-120v-720h720v720H120Zm60-500h600v-160H180v160Zm220 220h160v-160H400v160Zm0 220h160v-160H400v160ZM180-400h160v-160H180v160Zm440 0h160v-160H620v160ZM180-180h160v-160H180v160Zm440 0h160v-160H620v160Z\"/>\n",
              "  </svg>\n",
              "    </button>\n",
              "\n",
              "  <style>\n",
              "    .colab-df-container {\n",
              "      display:flex;\n",
              "      gap: 12px;\n",
              "    }\n",
              "\n",
              "    .colab-df-convert {\n",
              "      background-color: #E8F0FE;\n",
              "      border: none;\n",
              "      border-radius: 50%;\n",
              "      cursor: pointer;\n",
              "      display: none;\n",
              "      fill: #1967D2;\n",
              "      height: 32px;\n",
              "      padding: 0 0 0 0;\n",
              "      width: 32px;\n",
              "    }\n",
              "\n",
              "    .colab-df-convert:hover {\n",
              "      background-color: #E2EBFA;\n",
              "      box-shadow: 0px 1px 2px rgba(60, 64, 67, 0.3), 0px 1px 3px 1px rgba(60, 64, 67, 0.15);\n",
              "      fill: #174EA6;\n",
              "    }\n",
              "\n",
              "    .colab-df-buttons div {\n",
              "      margin-bottom: 4px;\n",
              "    }\n",
              "\n",
              "    [theme=dark] .colab-df-convert {\n",
              "      background-color: #3B4455;\n",
              "      fill: #D2E3FC;\n",
              "    }\n",
              "\n",
              "    [theme=dark] .colab-df-convert:hover {\n",
              "      background-color: #434B5C;\n",
              "      box-shadow: 0px 1px 3px 1px rgba(0, 0, 0, 0.15);\n",
              "      filter: drop-shadow(0px 1px 2px rgba(0, 0, 0, 0.3));\n",
              "      fill: #FFFFFF;\n",
              "    }\n",
              "  </style>\n",
              "\n",
              "    <script>\n",
              "      const buttonEl =\n",
              "        document.querySelector('#df-5ffeb454-6009-41e6-ba17-21832c10a3ce button.colab-df-convert');\n",
              "      buttonEl.style.display =\n",
              "        google.colab.kernel.accessAllowed ? 'block' : 'none';\n",
              "\n",
              "      async function convertToInteractive(key) {\n",
              "        const element = document.querySelector('#df-5ffeb454-6009-41e6-ba17-21832c10a3ce');\n",
              "        const dataTable =\n",
              "          await google.colab.kernel.invokeFunction('convertToInteractive',\n",
              "                                                    [key], {});\n",
              "        if (!dataTable) return;\n",
              "\n",
              "        const docLinkHtml = 'Like what you see? Visit the ' +\n",
              "          '<a target=\"_blank\" href=https://colab.research.google.com/notebooks/data_table.ipynb>data table notebook</a>'\n",
              "          + ' to learn more about interactive tables.';\n",
              "        element.innerHTML = '';\n",
              "        dataTable['output_type'] = 'display_data';\n",
              "        await google.colab.output.renderOutput(dataTable, element);\n",
              "        const docLink = document.createElement('div');\n",
              "        docLink.innerHTML = docLinkHtml;\n",
              "        element.appendChild(docLink);\n",
              "      }\n",
              "    </script>\n",
              "  </div>\n",
              "\n",
              "\n",
              "<div id=\"df-37fae0fa-93c5-4d15-9788-77191bb497dc\">\n",
              "  <button class=\"colab-df-quickchart\" onclick=\"quickchart('df-37fae0fa-93c5-4d15-9788-77191bb497dc')\"\n",
              "            title=\"Suggest charts\"\n",
              "            style=\"display:none;\">\n",
              "\n",
              "<svg xmlns=\"http://www.w3.org/2000/svg\" height=\"24px\"viewBox=\"0 0 24 24\"\n",
              "     width=\"24px\">\n",
              "    <g>\n",
              "        <path d=\"M19 3H5c-1.1 0-2 .9-2 2v14c0 1.1.9 2 2 2h14c1.1 0 2-.9 2-2V5c0-1.1-.9-2-2-2zM9 17H7v-7h2v7zm4 0h-2V7h2v10zm4 0h-2v-4h2v4z\"/>\n",
              "    </g>\n",
              "</svg>\n",
              "  </button>\n",
              "\n",
              "<style>\n",
              "  .colab-df-quickchart {\n",
              "      --bg-color: #E8F0FE;\n",
              "      --fill-color: #1967D2;\n",
              "      --hover-bg-color: #E2EBFA;\n",
              "      --hover-fill-color: #174EA6;\n",
              "      --disabled-fill-color: #AAA;\n",
              "      --disabled-bg-color: #DDD;\n",
              "  }\n",
              "\n",
              "  [theme=dark] .colab-df-quickchart {\n",
              "      --bg-color: #3B4455;\n",
              "      --fill-color: #D2E3FC;\n",
              "      --hover-bg-color: #434B5C;\n",
              "      --hover-fill-color: #FFFFFF;\n",
              "      --disabled-bg-color: #3B4455;\n",
              "      --disabled-fill-color: #666;\n",
              "  }\n",
              "\n",
              "  .colab-df-quickchart {\n",
              "    background-color: var(--bg-color);\n",
              "    border: none;\n",
              "    border-radius: 50%;\n",
              "    cursor: pointer;\n",
              "    display: none;\n",
              "    fill: var(--fill-color);\n",
              "    height: 32px;\n",
              "    padding: 0;\n",
              "    width: 32px;\n",
              "  }\n",
              "\n",
              "  .colab-df-quickchart:hover {\n",
              "    background-color: var(--hover-bg-color);\n",
              "    box-shadow: 0 1px 2px rgba(60, 64, 67, 0.3), 0 1px 3px 1px rgba(60, 64, 67, 0.15);\n",
              "    fill: var(--button-hover-fill-color);\n",
              "  }\n",
              "\n",
              "  .colab-df-quickchart-complete:disabled,\n",
              "  .colab-df-quickchart-complete:disabled:hover {\n",
              "    background-color: var(--disabled-bg-color);\n",
              "    fill: var(--disabled-fill-color);\n",
              "    box-shadow: none;\n",
              "  }\n",
              "\n",
              "  .colab-df-spinner {\n",
              "    border: 2px solid var(--fill-color);\n",
              "    border-color: transparent;\n",
              "    border-bottom-color: var(--fill-color);\n",
              "    animation:\n",
              "      spin 1s steps(1) infinite;\n",
              "  }\n",
              "\n",
              "  @keyframes spin {\n",
              "    0% {\n",
              "      border-color: transparent;\n",
              "      border-bottom-color: var(--fill-color);\n",
              "      border-left-color: var(--fill-color);\n",
              "    }\n",
              "    20% {\n",
              "      border-color: transparent;\n",
              "      border-left-color: var(--fill-color);\n",
              "      border-top-color: var(--fill-color);\n",
              "    }\n",
              "    30% {\n",
              "      border-color: transparent;\n",
              "      border-left-color: var(--fill-color);\n",
              "      border-top-color: var(--fill-color);\n",
              "      border-right-color: var(--fill-color);\n",
              "    }\n",
              "    40% {\n",
              "      border-color: transparent;\n",
              "      border-right-color: var(--fill-color);\n",
              "      border-top-color: var(--fill-color);\n",
              "    }\n",
              "    60% {\n",
              "      border-color: transparent;\n",
              "      border-right-color: var(--fill-color);\n",
              "    }\n",
              "    80% {\n",
              "      border-color: transparent;\n",
              "      border-right-color: var(--fill-color);\n",
              "      border-bottom-color: var(--fill-color);\n",
              "    }\n",
              "    90% {\n",
              "      border-color: transparent;\n",
              "      border-bottom-color: var(--fill-color);\n",
              "    }\n",
              "  }\n",
              "</style>\n",
              "\n",
              "  <script>\n",
              "    async function quickchart(key) {\n",
              "      const quickchartButtonEl =\n",
              "        document.querySelector('#' + key + ' button');\n",
              "      quickchartButtonEl.disabled = true;  // To prevent multiple clicks.\n",
              "      quickchartButtonEl.classList.add('colab-df-spinner');\n",
              "      try {\n",
              "        const charts = await google.colab.kernel.invokeFunction(\n",
              "            'suggestCharts', [key], {});\n",
              "      } catch (error) {\n",
              "        console.error('Error during call to suggestCharts:', error);\n",
              "      }\n",
              "      quickchartButtonEl.classList.remove('colab-df-spinner');\n",
              "      quickchartButtonEl.classList.add('colab-df-quickchart-complete');\n",
              "    }\n",
              "    (() => {\n",
              "      let quickchartButtonEl =\n",
              "        document.querySelector('#df-37fae0fa-93c5-4d15-9788-77191bb497dc button');\n",
              "      quickchartButtonEl.style.display =\n",
              "        google.colab.kernel.accessAllowed ? 'block' : 'none';\n",
              "    })();\n",
              "  </script>\n",
              "</div>\n",
              "\n",
              "    </div>\n",
              "  </div>\n"
            ],
            "application/vnd.google.colaboratory.intrinsic+json": {
              "type": "dataframe",
              "summary": "{\n  \"name\": \"df\",\n  \"rows\": 8,\n  \"fields\": [\n    {\n      \"column\": \"Age\",\n      \"properties\": {\n        \"dtype\": \"number\",\n        \"std\": 8821.829788585446,\n        \"min\": 18.0,\n        \"max\": 24999.0,\n        \"num_unique_values\": 8,\n        \"samples\": [\n          51.69610784431377,\n          69.0,\n          24999.0\n        ],\n        \"semantic_type\": \"\",\n        \"description\": \"\"\n      }\n    },\n    {\n      \"column\": \"DateofAdmission\",\n      \"properties\": {\n        \"dtype\": \"date\",\n        \"min\": \"1970-01-01 00:00:00.000024999\",\n        \"max\": \"2024-05-07 00:00:00\",\n        \"num_unique_values\": 7,\n        \"samples\": [\n          \"24999\",\n          \"2021-10-28 12:20:39.025560832\",\n          \"2023-01-28 00:00:00\"\n        ],\n        \"semantic_type\": \"\",\n        \"description\": \"\"\n      }\n    },\n    {\n      \"column\": \"BillingAmount\",\n      \"properties\": {\n        \"dtype\": \"number\",\n        \"std\": 2.6888555359249668e+16,\n        \"min\": 24999.0,\n        \"max\": 8.15415641498071e+16,\n        \"num_unique_values\": 8,\n        \"samples\": [\n          1.4127711482773164e+16,\n          2.32724748477789e+16,\n          24999.0\n        ],\n        \"semantic_type\": \"\",\n        \"description\": \"\"\n      }\n    },\n    {\n      \"column\": \"RoomNumber\",\n      \"properties\": {\n        \"dtype\": \"number\",\n        \"std\": 8742.690037557073,\n        \"min\": 101.0,\n        \"max\": 24999.0,\n        \"num_unique_values\": 8,\n        \"samples\": [\n          300.2608904356174,\n          399.0,\n          24999.0\n        ],\n        \"semantic_type\": \"\",\n        \"description\": \"\"\n      }\n    },\n    {\n      \"column\": \"DischargeDate\",\n      \"properties\": {\n        \"dtype\": \"date\",\n        \"min\": \"1970-01-01 00:00:00.000024999\",\n        \"max\": \"2024-06-05 00:00:00\",\n        \"num_unique_values\": 7,\n        \"samples\": [\n          \"24999\",\n          \"2021-11-13 00:07:08.561142528\",\n          \"2023-02-13 00:00:00\"\n        ],\n        \"semantic_type\": \"\",\n        \"description\": \"\"\n      }\n    }\n  ]\n}"
            }
          },
          "metadata": {},
          "execution_count": 225
        }
      ],
      "source": [
        "df.describe()"
      ]
    },
    {
      "cell_type": "code",
      "execution_count": 226,
      "metadata": {
        "colab": {
          "base_uri": "https://localhost:8080/"
        },
        "id": "J9n2jbjasugz",
        "outputId": "2b99e32f-cdc7-4732-88f1-c050e8b2ea6d"
      },
      "outputs": [
        {
          "output_type": "stream",
          "name": "stdout",
          "text": [
            "Filas, columnas:  (24999, 16)\n",
            "\n",
            "Nombres de las variables: \n",
            " Index(['First Name', 'Last Name', 'Age', 'Gender', 'BloodType',\n",
            "       'MedicalCondition', 'DateofAdmission', 'Doctor', 'Hospital',\n",
            "       'InsuranceProvider', 'BillingAmount', 'RoomNumber', 'AdmissionType',\n",
            "       'DischargeDate', 'Medication', 'TestResults'],\n",
            "      dtype='object')\n",
            "\n",
            "Tipos de datos: \n",
            " First Name                   object\n",
            "Last Name                    object\n",
            "Age                           int64\n",
            "Gender                       object\n",
            "BloodType                    object\n",
            "MedicalCondition             object\n",
            "DateofAdmission      datetime64[ns]\n",
            "Doctor                       object\n",
            "Hospital                     object\n",
            "InsuranceProvider            object\n",
            "BillingAmount                 int64\n",
            "RoomNumber                    int64\n",
            "AdmissionType                object\n",
            "DischargeDate        datetime64[ns]\n",
            "Medication                   object\n",
            "TestResults                  object\n",
            "dtype: object\n",
            "\n",
            "Estadísticas descriptivas: \n",
            "                 Age  BillingAmount    RoomNumber\n",
            "count  24999.000000   2.499900e+04  24999.000000\n",
            "mean      51.696108   1.412771e+16    300.260890\n",
            "std       19.580256   1.381054e+16    115.114697\n",
            "min       18.000000   1.442424e+11    101.000000\n",
            "25%       35.000000   3.613059e+15    201.000000\n",
            "50%       52.000000   7.602571e+15    301.000000\n",
            "75%       69.000000   2.327247e+16    399.000000\n",
            "max       85.000000   8.154156e+16    500.000000\n",
            "\n",
            "Frecuencia de valores únicos de First Name\n",
            "First Name\n",
            "Michael        615\n",
            "David          397\n",
            "Jennifer       384\n",
            "James          374\n",
            "Christopher    355\n",
            "              ... \n",
            "Cristian         1\n",
            "Nina             1\n",
            "Terrance         1\n",
            "Vernon           1\n",
            "Pedro            1\n",
            "Name: count, Length: 688, dtype: int64\n",
            "\n",
            "Frecuencia de valores únicos de Last Name\n",
            "Last Name\n",
            "Smith        561\n",
            "Johnson      426\n",
            "Williams     334\n",
            "Jones        331\n",
            "Brown        326\n",
            "            ... \n",
            "Mosley         2\n",
            "DouglasIi      1\n",
            "Rowen          1\n",
            "MorrisIi       1\n",
            "SpearsIi       1\n",
            "Name: count, Length: 1004, dtype: int64\n",
            "\n",
            "Frecuencia de valores únicos de Gender\n",
            "Gender\n",
            "Male      12524\n",
            "Female    12475\n",
            "Name: count, dtype: int64\n",
            "\n",
            "Frecuencia de valores únicos de BloodType\n",
            "BloodType\n",
            "AB+    3170\n",
            "B+     3150\n",
            "A+     3140\n",
            "O+     3126\n",
            "B-     3123\n",
            "A-     3115\n",
            "AB-    3095\n",
            "O-     3080\n",
            "Name: count, dtype: int64\n",
            "\n",
            "Frecuencia de valores únicos de MedicalCondition\n",
            "MedicalCondition\n",
            "Arthritis       4274\n",
            "Hypertension    4225\n",
            "Asthma          4136\n",
            "Diabetes        4134\n",
            "Cancer          4125\n",
            "Obesity         4105\n",
            "Name: count, dtype: int64\n",
            "\n",
            "Frecuencia de valores únicos de Doctor\n",
            "Doctor\n",
            "Michael Smith         11\n",
            "Matthew Smith         10\n",
            "John Smith            10\n",
            "Robert Smith          10\n",
            "Christopher Smith     10\n",
            "                      ..\n",
            "Matthew Davis          1\n",
            "Desiree Jones          1\n",
            "s. Lisa Joseph DDS     1\n",
            "David Pacheco          1\n",
            "Sara Morrison          1\n",
            "Name: count, Length: 22096, dtype: int64\n",
            "\n",
            "Frecuencia de valores únicos de Hospital\n",
            "Hospital\n",
            "Ltd Smith                    21\n",
            "Johnson PLC                  20\n",
            "Johnson Inc                  16\n",
            "Smith PLC                    16\n",
            "Smith Ltd                    16\n",
            "                             ..\n",
            "Kirby Inc                     1\n",
            "Lopez Hall and Meyer,         1\n",
            "Foster Smith and Elliott,     1\n",
            "Obrien LLC                    1\n",
            "Johnson-Rosales               1\n",
            "Name: count, Length: 21445, dtype: int64\n",
            "\n",
            "Frecuencia de valores únicos de InsuranceProvider\n",
            "InsuranceProvider\n",
            "Cigna               5055\n",
            "UnitedHealthcare    5019\n",
            "Medicare            4953\n",
            "Aetna               4950\n",
            "Blue Cross          4948\n",
            "BlueCross             74\n",
            "Name: count, dtype: int64\n",
            "\n",
            "Frecuencia de valores únicos de AdmissionType\n",
            "AdmissionType\n",
            "Elective     8515\n",
            "Urgent       8387\n",
            "Emergency    8097\n",
            "Name: count, dtype: int64\n",
            "\n",
            "Frecuencia de valores únicos de Medication\n",
            "Medication\n",
            "Penicillin     5076\n",
            "Lipitor        5069\n",
            "Ibuprofen      5002\n",
            "Paracetamol    4973\n",
            "Aspirin        4879\n",
            "Name: count, dtype: int64\n",
            "\n",
            "Frecuencia de valores únicos de TestResults\n",
            "TestResults\n",
            "Abnormal        8370\n",
            "Inconclusive    8320\n",
            "Normal          8309\n",
            "Name: count, dtype: int64\n"
          ]
        }
      ],
      "source": [
        "# Tamaño del conjunto de datos\n",
        "print(\"Filas, columnas: \", df.shape)\n",
        "\n",
        "# Nombres de las variables\n",
        "print(\"\\nNombres de las variables: \\n\", df.columns)\n",
        "\n",
        "# Tipo de datos de cada variable\n",
        "print(\"\\nTipos de datos: \\n\", df.dtypes)\n",
        "\n",
        "# Contar cada Tipo de Variable\n",
        "df.dtypes.value_counts()\n",
        "\n",
        "# Estadísticas descriptivas de las variables numéricas\n",
        "print(\"\\nEstadísticas descriptivas: \\n\", df.describe(include=[np.number]))\n",
        "\n",
        "# Frecuencia de valores únicos en las variables categóricas\n",
        "for col in df.select_dtypes(include=['object']).columns:\n",
        "    print(\"\\nFrecuencia de valores únicos de\", col)\n",
        "    print(df[col].value_counts())"
      ]
    },
    {
      "cell_type": "code",
      "execution_count": 227,
      "metadata": {
        "colab": {
          "base_uri": "https://localhost:8080/",
          "height": 515
        },
        "id": "RY4YwTa4A-lH",
        "outputId": "4c1889e4-e10b-458d-bd08-a90029ebc399"
      },
      "outputs": [
        {
          "output_type": "execute_result",
          "data": {
            "text/plain": [
              "      First Name  Last Name  Age  Gender BloodType MedicalCondition  \\\n",
              "11841     Sharon      Jones   75  Female        B+         Diabetes   \n",
              "15353     Sharon    Sanders   57  Female        O-           Asthma   \n",
              "1578     Michael  Christian   54  Female        B+         Diabetes   \n",
              "16479      Tanya      Baird   19  Female        O-           Asthma   \n",
              "9190     Kenneth      Perez   18  Female        B-     Hypertension   \n",
              "14981    Jessica    Osborne   79  Female        A+           Asthma   \n",
              "12145     Samuel      Carey   73  Female        A+          Obesity   \n",
              "\n",
              "      DateofAdmission             Doctor                         Hospital  \\\n",
              "11841      2020-07-14      Samuel Patton                 Cameron-Williams   \n",
              "15353      2021-12-14    Richard Vincent                       Romero Inc   \n",
              "1578       2023-02-28      Marcus Warren                       Ltd Austin   \n",
              "16479      2020-08-06  Anthony Middleton                        PLC Blair   \n",
              "9190       2020-07-13  Jonathan Robinson     and Sullivan, Anderson Hayes   \n",
              "14981      2021-09-24   Kathleen Preston  Stevens Lawrence, Rodriguez and   \n",
              "12145      2021-07-11    Michael Schultz              Owens, Kidd and Cox   \n",
              "\n",
              "      InsuranceProvider      BillingAmount  RoomNumber AdmissionType  \\\n",
              "11841          Medicare   4160669685261550         323      Elective   \n",
              "15353  UnitedHealthcare   4708399903573940         186      Elective   \n",
              "1578              Aetna   2766124412668270         451        Urgent   \n",
              "16479             Aetna  21278385006243400         380        Urgent   \n",
              "9190         Blue Cross    378850773240639         486        Urgent   \n",
              "14981        Blue Cross   1312708984369340         470      Elective   \n",
              "12145  UnitedHealthcare  23461659519283900         300      Elective   \n",
              "\n",
              "      DischargeDate   Medication   TestResults  \n",
              "11841    2020-08-11      Lipitor      Abnormal  \n",
              "15353    2022-01-08      Lipitor      Abnormal  \n",
              "1578     2023-03-11  Paracetamol  Inconclusive  \n",
              "16479    2020-09-03  Paracetamol      Abnormal  \n",
              "9190     2020-07-28  Paracetamol  Inconclusive  \n",
              "14981    2021-10-10      Aspirin        Normal  \n",
              "12145    2021-07-30   Penicillin      Abnormal  "
            ],
            "text/html": [
              "\n",
              "  <div id=\"df-b856e6a8-f61d-4a11-9d19-a72b6ea6c008\" class=\"colab-df-container\">\n",
              "    <div>\n",
              "<style scoped>\n",
              "    .dataframe tbody tr th:only-of-type {\n",
              "        vertical-align: middle;\n",
              "    }\n",
              "\n",
              "    .dataframe tbody tr th {\n",
              "        vertical-align: top;\n",
              "    }\n",
              "\n",
              "    .dataframe thead th {\n",
              "        text-align: right;\n",
              "    }\n",
              "</style>\n",
              "<table border=\"1\" class=\"dataframe\">\n",
              "  <thead>\n",
              "    <tr style=\"text-align: right;\">\n",
              "      <th></th>\n",
              "      <th>First Name</th>\n",
              "      <th>Last Name</th>\n",
              "      <th>Age</th>\n",
              "      <th>Gender</th>\n",
              "      <th>BloodType</th>\n",
              "      <th>MedicalCondition</th>\n",
              "      <th>DateofAdmission</th>\n",
              "      <th>Doctor</th>\n",
              "      <th>Hospital</th>\n",
              "      <th>InsuranceProvider</th>\n",
              "      <th>BillingAmount</th>\n",
              "      <th>RoomNumber</th>\n",
              "      <th>AdmissionType</th>\n",
              "      <th>DischargeDate</th>\n",
              "      <th>Medication</th>\n",
              "      <th>TestResults</th>\n",
              "    </tr>\n",
              "  </thead>\n",
              "  <tbody>\n",
              "    <tr>\n",
              "      <th>11841</th>\n",
              "      <td>Sharon</td>\n",
              "      <td>Jones</td>\n",
              "      <td>75</td>\n",
              "      <td>Female</td>\n",
              "      <td>B+</td>\n",
              "      <td>Diabetes</td>\n",
              "      <td>2020-07-14</td>\n",
              "      <td>Samuel Patton</td>\n",
              "      <td>Cameron-Williams</td>\n",
              "      <td>Medicare</td>\n",
              "      <td>4160669685261550</td>\n",
              "      <td>323</td>\n",
              "      <td>Elective</td>\n",
              "      <td>2020-08-11</td>\n",
              "      <td>Lipitor</td>\n",
              "      <td>Abnormal</td>\n",
              "    </tr>\n",
              "    <tr>\n",
              "      <th>15353</th>\n",
              "      <td>Sharon</td>\n",
              "      <td>Sanders</td>\n",
              "      <td>57</td>\n",
              "      <td>Female</td>\n",
              "      <td>O-</td>\n",
              "      <td>Asthma</td>\n",
              "      <td>2021-12-14</td>\n",
              "      <td>Richard Vincent</td>\n",
              "      <td>Romero Inc</td>\n",
              "      <td>UnitedHealthcare</td>\n",
              "      <td>4708399903573940</td>\n",
              "      <td>186</td>\n",
              "      <td>Elective</td>\n",
              "      <td>2022-01-08</td>\n",
              "      <td>Lipitor</td>\n",
              "      <td>Abnormal</td>\n",
              "    </tr>\n",
              "    <tr>\n",
              "      <th>1578</th>\n",
              "      <td>Michael</td>\n",
              "      <td>Christian</td>\n",
              "      <td>54</td>\n",
              "      <td>Female</td>\n",
              "      <td>B+</td>\n",
              "      <td>Diabetes</td>\n",
              "      <td>2023-02-28</td>\n",
              "      <td>Marcus Warren</td>\n",
              "      <td>Ltd Austin</td>\n",
              "      <td>Aetna</td>\n",
              "      <td>2766124412668270</td>\n",
              "      <td>451</td>\n",
              "      <td>Urgent</td>\n",
              "      <td>2023-03-11</td>\n",
              "      <td>Paracetamol</td>\n",
              "      <td>Inconclusive</td>\n",
              "    </tr>\n",
              "    <tr>\n",
              "      <th>16479</th>\n",
              "      <td>Tanya</td>\n",
              "      <td>Baird</td>\n",
              "      <td>19</td>\n",
              "      <td>Female</td>\n",
              "      <td>O-</td>\n",
              "      <td>Asthma</td>\n",
              "      <td>2020-08-06</td>\n",
              "      <td>Anthony Middleton</td>\n",
              "      <td>PLC Blair</td>\n",
              "      <td>Aetna</td>\n",
              "      <td>21278385006243400</td>\n",
              "      <td>380</td>\n",
              "      <td>Urgent</td>\n",
              "      <td>2020-09-03</td>\n",
              "      <td>Paracetamol</td>\n",
              "      <td>Abnormal</td>\n",
              "    </tr>\n",
              "    <tr>\n",
              "      <th>9190</th>\n",
              "      <td>Kenneth</td>\n",
              "      <td>Perez</td>\n",
              "      <td>18</td>\n",
              "      <td>Female</td>\n",
              "      <td>B-</td>\n",
              "      <td>Hypertension</td>\n",
              "      <td>2020-07-13</td>\n",
              "      <td>Jonathan Robinson</td>\n",
              "      <td>and Sullivan, Anderson Hayes</td>\n",
              "      <td>Blue Cross</td>\n",
              "      <td>378850773240639</td>\n",
              "      <td>486</td>\n",
              "      <td>Urgent</td>\n",
              "      <td>2020-07-28</td>\n",
              "      <td>Paracetamol</td>\n",
              "      <td>Inconclusive</td>\n",
              "    </tr>\n",
              "    <tr>\n",
              "      <th>14981</th>\n",
              "      <td>Jessica</td>\n",
              "      <td>Osborne</td>\n",
              "      <td>79</td>\n",
              "      <td>Female</td>\n",
              "      <td>A+</td>\n",
              "      <td>Asthma</td>\n",
              "      <td>2021-09-24</td>\n",
              "      <td>Kathleen Preston</td>\n",
              "      <td>Stevens Lawrence, Rodriguez and</td>\n",
              "      <td>Blue Cross</td>\n",
              "      <td>1312708984369340</td>\n",
              "      <td>470</td>\n",
              "      <td>Elective</td>\n",
              "      <td>2021-10-10</td>\n",
              "      <td>Aspirin</td>\n",
              "      <td>Normal</td>\n",
              "    </tr>\n",
              "    <tr>\n",
              "      <th>12145</th>\n",
              "      <td>Samuel</td>\n",
              "      <td>Carey</td>\n",
              "      <td>73</td>\n",
              "      <td>Female</td>\n",
              "      <td>A+</td>\n",
              "      <td>Obesity</td>\n",
              "      <td>2021-07-11</td>\n",
              "      <td>Michael Schultz</td>\n",
              "      <td>Owens, Kidd and Cox</td>\n",
              "      <td>UnitedHealthcare</td>\n",
              "      <td>23461659519283900</td>\n",
              "      <td>300</td>\n",
              "      <td>Elective</td>\n",
              "      <td>2021-07-30</td>\n",
              "      <td>Penicillin</td>\n",
              "      <td>Abnormal</td>\n",
              "    </tr>\n",
              "  </tbody>\n",
              "</table>\n",
              "</div>\n",
              "    <div class=\"colab-df-buttons\">\n",
              "\n",
              "  <div class=\"colab-df-container\">\n",
              "    <button class=\"colab-df-convert\" onclick=\"convertToInteractive('df-b856e6a8-f61d-4a11-9d19-a72b6ea6c008')\"\n",
              "            title=\"Convert this dataframe to an interactive table.\"\n",
              "            style=\"display:none;\">\n",
              "\n",
              "  <svg xmlns=\"http://www.w3.org/2000/svg\" height=\"24px\" viewBox=\"0 -960 960 960\">\n",
              "    <path d=\"M120-120v-720h720v720H120Zm60-500h600v-160H180v160Zm220 220h160v-160H400v160Zm0 220h160v-160H400v160ZM180-400h160v-160H180v160Zm440 0h160v-160H620v160ZM180-180h160v-160H180v160Zm440 0h160v-160H620v160Z\"/>\n",
              "  </svg>\n",
              "    </button>\n",
              "\n",
              "  <style>\n",
              "    .colab-df-container {\n",
              "      display:flex;\n",
              "      gap: 12px;\n",
              "    }\n",
              "\n",
              "    .colab-df-convert {\n",
              "      background-color: #E8F0FE;\n",
              "      border: none;\n",
              "      border-radius: 50%;\n",
              "      cursor: pointer;\n",
              "      display: none;\n",
              "      fill: #1967D2;\n",
              "      height: 32px;\n",
              "      padding: 0 0 0 0;\n",
              "      width: 32px;\n",
              "    }\n",
              "\n",
              "    .colab-df-convert:hover {\n",
              "      background-color: #E2EBFA;\n",
              "      box-shadow: 0px 1px 2px rgba(60, 64, 67, 0.3), 0px 1px 3px 1px rgba(60, 64, 67, 0.15);\n",
              "      fill: #174EA6;\n",
              "    }\n",
              "\n",
              "    .colab-df-buttons div {\n",
              "      margin-bottom: 4px;\n",
              "    }\n",
              "\n",
              "    [theme=dark] .colab-df-convert {\n",
              "      background-color: #3B4455;\n",
              "      fill: #D2E3FC;\n",
              "    }\n",
              "\n",
              "    [theme=dark] .colab-df-convert:hover {\n",
              "      background-color: #434B5C;\n",
              "      box-shadow: 0px 1px 3px 1px rgba(0, 0, 0, 0.15);\n",
              "      filter: drop-shadow(0px 1px 2px rgba(0, 0, 0, 0.3));\n",
              "      fill: #FFFFFF;\n",
              "    }\n",
              "  </style>\n",
              "\n",
              "    <script>\n",
              "      const buttonEl =\n",
              "        document.querySelector('#df-b856e6a8-f61d-4a11-9d19-a72b6ea6c008 button.colab-df-convert');\n",
              "      buttonEl.style.display =\n",
              "        google.colab.kernel.accessAllowed ? 'block' : 'none';\n",
              "\n",
              "      async function convertToInteractive(key) {\n",
              "        const element = document.querySelector('#df-b856e6a8-f61d-4a11-9d19-a72b6ea6c008');\n",
              "        const dataTable =\n",
              "          await google.colab.kernel.invokeFunction('convertToInteractive',\n",
              "                                                    [key], {});\n",
              "        if (!dataTable) return;\n",
              "\n",
              "        const docLinkHtml = 'Like what you see? Visit the ' +\n",
              "          '<a target=\"_blank\" href=https://colab.research.google.com/notebooks/data_table.ipynb>data table notebook</a>'\n",
              "          + ' to learn more about interactive tables.';\n",
              "        element.innerHTML = '';\n",
              "        dataTable['output_type'] = 'display_data';\n",
              "        await google.colab.output.renderOutput(dataTable, element);\n",
              "        const docLink = document.createElement('div');\n",
              "        docLink.innerHTML = docLinkHtml;\n",
              "        element.appendChild(docLink);\n",
              "      }\n",
              "    </script>\n",
              "  </div>\n",
              "\n",
              "\n",
              "<div id=\"df-7cc54cc6-cbed-4e8a-a754-ac008f413bd6\">\n",
              "  <button class=\"colab-df-quickchart\" onclick=\"quickchart('df-7cc54cc6-cbed-4e8a-a754-ac008f413bd6')\"\n",
              "            title=\"Suggest charts\"\n",
              "            style=\"display:none;\">\n",
              "\n",
              "<svg xmlns=\"http://www.w3.org/2000/svg\" height=\"24px\"viewBox=\"0 0 24 24\"\n",
              "     width=\"24px\">\n",
              "    <g>\n",
              "        <path d=\"M19 3H5c-1.1 0-2 .9-2 2v14c0 1.1.9 2 2 2h14c1.1 0 2-.9 2-2V5c0-1.1-.9-2-2-2zM9 17H7v-7h2v7zm4 0h-2V7h2v10zm4 0h-2v-4h2v4z\"/>\n",
              "    </g>\n",
              "</svg>\n",
              "  </button>\n",
              "\n",
              "<style>\n",
              "  .colab-df-quickchart {\n",
              "      --bg-color: #E8F0FE;\n",
              "      --fill-color: #1967D2;\n",
              "      --hover-bg-color: #E2EBFA;\n",
              "      --hover-fill-color: #174EA6;\n",
              "      --disabled-fill-color: #AAA;\n",
              "      --disabled-bg-color: #DDD;\n",
              "  }\n",
              "\n",
              "  [theme=dark] .colab-df-quickchart {\n",
              "      --bg-color: #3B4455;\n",
              "      --fill-color: #D2E3FC;\n",
              "      --hover-bg-color: #434B5C;\n",
              "      --hover-fill-color: #FFFFFF;\n",
              "      --disabled-bg-color: #3B4455;\n",
              "      --disabled-fill-color: #666;\n",
              "  }\n",
              "\n",
              "  .colab-df-quickchart {\n",
              "    background-color: var(--bg-color);\n",
              "    border: none;\n",
              "    border-radius: 50%;\n",
              "    cursor: pointer;\n",
              "    display: none;\n",
              "    fill: var(--fill-color);\n",
              "    height: 32px;\n",
              "    padding: 0;\n",
              "    width: 32px;\n",
              "  }\n",
              "\n",
              "  .colab-df-quickchart:hover {\n",
              "    background-color: var(--hover-bg-color);\n",
              "    box-shadow: 0 1px 2px rgba(60, 64, 67, 0.3), 0 1px 3px 1px rgba(60, 64, 67, 0.15);\n",
              "    fill: var(--button-hover-fill-color);\n",
              "  }\n",
              "\n",
              "  .colab-df-quickchart-complete:disabled,\n",
              "  .colab-df-quickchart-complete:disabled:hover {\n",
              "    background-color: var(--disabled-bg-color);\n",
              "    fill: var(--disabled-fill-color);\n",
              "    box-shadow: none;\n",
              "  }\n",
              "\n",
              "  .colab-df-spinner {\n",
              "    border: 2px solid var(--fill-color);\n",
              "    border-color: transparent;\n",
              "    border-bottom-color: var(--fill-color);\n",
              "    animation:\n",
              "      spin 1s steps(1) infinite;\n",
              "  }\n",
              "\n",
              "  @keyframes spin {\n",
              "    0% {\n",
              "      border-color: transparent;\n",
              "      border-bottom-color: var(--fill-color);\n",
              "      border-left-color: var(--fill-color);\n",
              "    }\n",
              "    20% {\n",
              "      border-color: transparent;\n",
              "      border-left-color: var(--fill-color);\n",
              "      border-top-color: var(--fill-color);\n",
              "    }\n",
              "    30% {\n",
              "      border-color: transparent;\n",
              "      border-left-color: var(--fill-color);\n",
              "      border-top-color: var(--fill-color);\n",
              "      border-right-color: var(--fill-color);\n",
              "    }\n",
              "    40% {\n",
              "      border-color: transparent;\n",
              "      border-right-color: var(--fill-color);\n",
              "      border-top-color: var(--fill-color);\n",
              "    }\n",
              "    60% {\n",
              "      border-color: transparent;\n",
              "      border-right-color: var(--fill-color);\n",
              "    }\n",
              "    80% {\n",
              "      border-color: transparent;\n",
              "      border-right-color: var(--fill-color);\n",
              "      border-bottom-color: var(--fill-color);\n",
              "    }\n",
              "    90% {\n",
              "      border-color: transparent;\n",
              "      border-bottom-color: var(--fill-color);\n",
              "    }\n",
              "  }\n",
              "</style>\n",
              "\n",
              "  <script>\n",
              "    async function quickchart(key) {\n",
              "      const quickchartButtonEl =\n",
              "        document.querySelector('#' + key + ' button');\n",
              "      quickchartButtonEl.disabled = true;  // To prevent multiple clicks.\n",
              "      quickchartButtonEl.classList.add('colab-df-spinner');\n",
              "      try {\n",
              "        const charts = await google.colab.kernel.invokeFunction(\n",
              "            'suggestCharts', [key], {});\n",
              "      } catch (error) {\n",
              "        console.error('Error during call to suggestCharts:', error);\n",
              "      }\n",
              "      quickchartButtonEl.classList.remove('colab-df-spinner');\n",
              "      quickchartButtonEl.classList.add('colab-df-quickchart-complete');\n",
              "    }\n",
              "    (() => {\n",
              "      let quickchartButtonEl =\n",
              "        document.querySelector('#df-7cc54cc6-cbed-4e8a-a754-ac008f413bd6 button');\n",
              "      quickchartButtonEl.style.display =\n",
              "        google.colab.kernel.accessAllowed ? 'block' : 'none';\n",
              "    })();\n",
              "  </script>\n",
              "</div>\n",
              "\n",
              "    </div>\n",
              "  </div>\n"
            ],
            "application/vnd.google.colaboratory.intrinsic+json": {
              "type": "dataframe",
              "summary": "{\n  \"name\": \"df\",\n  \"rows\": 7,\n  \"fields\": [\n    {\n      \"column\": \"First Name\",\n      \"properties\": {\n        \"dtype\": \"string\",\n        \"num_unique_values\": 6,\n        \"samples\": [\n          \"Sharon\",\n          \"Michael\",\n          \"Samuel\"\n        ],\n        \"semantic_type\": \"\",\n        \"description\": \"\"\n      }\n    },\n    {\n      \"column\": \"Last Name\",\n      \"properties\": {\n        \"dtype\": \"string\",\n        \"num_unique_values\": 7,\n        \"samples\": [\n          \"Jones\",\n          \"Sanders\",\n          \"Osborne\"\n        ],\n        \"semantic_type\": \"\",\n        \"description\": \"\"\n      }\n    },\n    {\n      \"column\": \"Age\",\n      \"properties\": {\n        \"dtype\": \"number\",\n        \"std\": 25,\n        \"min\": 18,\n        \"max\": 79,\n        \"num_unique_values\": 7,\n        \"samples\": [\n          75,\n          57,\n          79\n        ],\n        \"semantic_type\": \"\",\n        \"description\": \"\"\n      }\n    },\n    {\n      \"column\": \"Gender\",\n      \"properties\": {\n        \"dtype\": \"category\",\n        \"num_unique_values\": 1,\n        \"samples\": [\n          \"Female\"\n        ],\n        \"semantic_type\": \"\",\n        \"description\": \"\"\n      }\n    },\n    {\n      \"column\": \"BloodType\",\n      \"properties\": {\n        \"dtype\": \"string\",\n        \"num_unique_values\": 4,\n        \"samples\": [\n          \"O-\"\n        ],\n        \"semantic_type\": \"\",\n        \"description\": \"\"\n      }\n    },\n    {\n      \"column\": \"MedicalCondition\",\n      \"properties\": {\n        \"dtype\": \"string\",\n        \"num_unique_values\": 4,\n        \"samples\": [\n          \"Asthma\"\n        ],\n        \"semantic_type\": \"\",\n        \"description\": \"\"\n      }\n    },\n    {\n      \"column\": \"DateofAdmission\",\n      \"properties\": {\n        \"dtype\": \"date\",\n        \"min\": \"2020-07-13 00:00:00\",\n        \"max\": \"2023-02-28 00:00:00\",\n        \"num_unique_values\": 7,\n        \"samples\": [\n          \"2020-07-14 00:00:00\"\n        ],\n        \"semantic_type\": \"\",\n        \"description\": \"\"\n      }\n    },\n    {\n      \"column\": \"Doctor\",\n      \"properties\": {\n        \"dtype\": \"string\",\n        \"num_unique_values\": 7,\n        \"samples\": [\n          \"Samuel Patton\"\n        ],\n        \"semantic_type\": \"\",\n        \"description\": \"\"\n      }\n    },\n    {\n      \"column\": \"Hospital\",\n      \"properties\": {\n        \"dtype\": \"string\",\n        \"num_unique_values\": 7,\n        \"samples\": [\n          \"Cameron-Williams\"\n        ],\n        \"semantic_type\": \"\",\n        \"description\": \"\"\n      }\n    },\n    {\n      \"column\": \"InsuranceProvider\",\n      \"properties\": {\n        \"dtype\": \"string\",\n        \"num_unique_values\": 4,\n        \"samples\": [\n          \"UnitedHealthcare\"\n        ],\n        \"semantic_type\": \"\",\n        \"description\": \"\"\n      }\n    },\n    {\n      \"column\": \"BillingAmount\",\n      \"properties\": {\n        \"dtype\": \"number\",\n        \"std\": 9751397385356080,\n        \"min\": 378850773240639,\n        \"max\": 23461659519283900,\n        \"num_unique_values\": 7,\n        \"samples\": [\n          4160669685261550\n        ],\n        \"semantic_type\": \"\",\n        \"description\": \"\"\n      }\n    },\n    {\n      \"column\": \"RoomNumber\",\n      \"properties\": {\n        \"dtype\": \"number\",\n        \"std\": 108,\n        \"min\": 186,\n        \"max\": 486,\n        \"num_unique_values\": 7,\n        \"samples\": [\n          323\n        ],\n        \"semantic_type\": \"\",\n        \"description\": \"\"\n      }\n    },\n    {\n      \"column\": \"AdmissionType\",\n      \"properties\": {\n        \"dtype\": \"category\",\n        \"num_unique_values\": 2,\n        \"samples\": [\n          \"Urgent\"\n        ],\n        \"semantic_type\": \"\",\n        \"description\": \"\"\n      }\n    },\n    {\n      \"column\": \"DischargeDate\",\n      \"properties\": {\n        \"dtype\": \"date\",\n        \"min\": \"2020-07-28 00:00:00\",\n        \"max\": \"2023-03-11 00:00:00\",\n        \"num_unique_values\": 7,\n        \"samples\": [\n          \"2020-08-11 00:00:00\"\n        ],\n        \"semantic_type\": \"\",\n        \"description\": \"\"\n      }\n    },\n    {\n      \"column\": \"Medication\",\n      \"properties\": {\n        \"dtype\": \"string\",\n        \"num_unique_values\": 4,\n        \"samples\": [\n          \"Paracetamol\"\n        ],\n        \"semantic_type\": \"\",\n        \"description\": \"\"\n      }\n    },\n    {\n      \"column\": \"TestResults\",\n      \"properties\": {\n        \"dtype\": \"category\",\n        \"num_unique_values\": 3,\n        \"samples\": [\n          \"Abnormal\"\n        ],\n        \"semantic_type\": \"\",\n        \"description\": \"\"\n      }\n    }\n  ]\n}"
            }
          },
          "metadata": {},
          "execution_count": 227
        }
      ],
      "source": [
        "df.sample(7)"
      ]
    },
    {
      "cell_type": "code",
      "execution_count": 228,
      "metadata": {
        "colab": {
          "base_uri": "https://localhost:8080/",
          "height": 348
        },
        "id": "cr1WQdCzBKIm",
        "outputId": "2abca516-bb8f-47da-c39f-b4925d85e966"
      },
      "outputs": [
        {
          "output_type": "execute_result",
          "data": {
            "text/plain": [
              "      First Name Last Name  Age  Gender BloodType MedicalCondition  \\\n",
              "24994    Tiffany     Boyle   80  Female        A+           Cancer   \n",
              "24995      Jason    Barber   50  Female       AB-          Obesity   \n",
              "24996    Michael    Mooney   69    Male       AB+           Cancer   \n",
              "24997     Harold    Acosta   82  Female        O-           Asthma   \n",
              "24998   Jennifer     Smith   64    Male        B-           Cancer   \n",
              "\n",
              "      DateofAdmission         Doctor           Hospital InsuranceProvider  \\\n",
              "24994      2021-09-07  Steven Parker        Jackson PLC             Aetna   \n",
              "24995      2021-11-02    Eric Mendez  Harrison-Melendez        Blue Cross   \n",
              "24996      2020-07-22   Laura Martin     Torres-Jimenez          Medicare   \n",
              "24997      2023-10-23     Mary David  Sons Espinoza and             Aetna   \n",
              "24998      2019-12-04  Sara Morrison    Johnson-Rosales        Blue Cross   \n",
              "\n",
              "           BillingAmount  RoomNumber AdmissionType DischargeDate   Medication  \\\n",
              "24994   1662910729312820         399        Urgent    2021-09-24    Ibuprofen   \n",
              "24995   3446756060165950         198     Emergency    2021-11-11   Penicillin   \n",
              "24996   9243881646384610         178      Elective    2020-08-15   Penicillin   \n",
              "24997   2559003031125610         390        Urgent    2023-10-24  Paracetamol   \n",
              "24998  19969318588272000         461        Urgent    2019-12-16  Paracetamol   \n",
              "\n",
              "        TestResults  \n",
              "24994        Normal  \n",
              "24995        Normal  \n",
              "24996      Abnormal  \n",
              "24997  Inconclusive  \n",
              "24998        Normal  "
            ],
            "text/html": [
              "\n",
              "  <div id=\"df-d73a829e-2ee1-4b5d-9479-8d631f255386\" class=\"colab-df-container\">\n",
              "    <div>\n",
              "<style scoped>\n",
              "    .dataframe tbody tr th:only-of-type {\n",
              "        vertical-align: middle;\n",
              "    }\n",
              "\n",
              "    .dataframe tbody tr th {\n",
              "        vertical-align: top;\n",
              "    }\n",
              "\n",
              "    .dataframe thead th {\n",
              "        text-align: right;\n",
              "    }\n",
              "</style>\n",
              "<table border=\"1\" class=\"dataframe\">\n",
              "  <thead>\n",
              "    <tr style=\"text-align: right;\">\n",
              "      <th></th>\n",
              "      <th>First Name</th>\n",
              "      <th>Last Name</th>\n",
              "      <th>Age</th>\n",
              "      <th>Gender</th>\n",
              "      <th>BloodType</th>\n",
              "      <th>MedicalCondition</th>\n",
              "      <th>DateofAdmission</th>\n",
              "      <th>Doctor</th>\n",
              "      <th>Hospital</th>\n",
              "      <th>InsuranceProvider</th>\n",
              "      <th>BillingAmount</th>\n",
              "      <th>RoomNumber</th>\n",
              "      <th>AdmissionType</th>\n",
              "      <th>DischargeDate</th>\n",
              "      <th>Medication</th>\n",
              "      <th>TestResults</th>\n",
              "    </tr>\n",
              "  </thead>\n",
              "  <tbody>\n",
              "    <tr>\n",
              "      <th>24994</th>\n",
              "      <td>Tiffany</td>\n",
              "      <td>Boyle</td>\n",
              "      <td>80</td>\n",
              "      <td>Female</td>\n",
              "      <td>A+</td>\n",
              "      <td>Cancer</td>\n",
              "      <td>2021-09-07</td>\n",
              "      <td>Steven Parker</td>\n",
              "      <td>Jackson PLC</td>\n",
              "      <td>Aetna</td>\n",
              "      <td>1662910729312820</td>\n",
              "      <td>399</td>\n",
              "      <td>Urgent</td>\n",
              "      <td>2021-09-24</td>\n",
              "      <td>Ibuprofen</td>\n",
              "      <td>Normal</td>\n",
              "    </tr>\n",
              "    <tr>\n",
              "      <th>24995</th>\n",
              "      <td>Jason</td>\n",
              "      <td>Barber</td>\n",
              "      <td>50</td>\n",
              "      <td>Female</td>\n",
              "      <td>AB-</td>\n",
              "      <td>Obesity</td>\n",
              "      <td>2021-11-02</td>\n",
              "      <td>Eric Mendez</td>\n",
              "      <td>Harrison-Melendez</td>\n",
              "      <td>Blue Cross</td>\n",
              "      <td>3446756060165950</td>\n",
              "      <td>198</td>\n",
              "      <td>Emergency</td>\n",
              "      <td>2021-11-11</td>\n",
              "      <td>Penicillin</td>\n",
              "      <td>Normal</td>\n",
              "    </tr>\n",
              "    <tr>\n",
              "      <th>24996</th>\n",
              "      <td>Michael</td>\n",
              "      <td>Mooney</td>\n",
              "      <td>69</td>\n",
              "      <td>Male</td>\n",
              "      <td>AB+</td>\n",
              "      <td>Cancer</td>\n",
              "      <td>2020-07-22</td>\n",
              "      <td>Laura Martin</td>\n",
              "      <td>Torres-Jimenez</td>\n",
              "      <td>Medicare</td>\n",
              "      <td>9243881646384610</td>\n",
              "      <td>178</td>\n",
              "      <td>Elective</td>\n",
              "      <td>2020-08-15</td>\n",
              "      <td>Penicillin</td>\n",
              "      <td>Abnormal</td>\n",
              "    </tr>\n",
              "    <tr>\n",
              "      <th>24997</th>\n",
              "      <td>Harold</td>\n",
              "      <td>Acosta</td>\n",
              "      <td>82</td>\n",
              "      <td>Female</td>\n",
              "      <td>O-</td>\n",
              "      <td>Asthma</td>\n",
              "      <td>2023-10-23</td>\n",
              "      <td>Mary David</td>\n",
              "      <td>Sons Espinoza and</td>\n",
              "      <td>Aetna</td>\n",
              "      <td>2559003031125610</td>\n",
              "      <td>390</td>\n",
              "      <td>Urgent</td>\n",
              "      <td>2023-10-24</td>\n",
              "      <td>Paracetamol</td>\n",
              "      <td>Inconclusive</td>\n",
              "    </tr>\n",
              "    <tr>\n",
              "      <th>24998</th>\n",
              "      <td>Jennifer</td>\n",
              "      <td>Smith</td>\n",
              "      <td>64</td>\n",
              "      <td>Male</td>\n",
              "      <td>B-</td>\n",
              "      <td>Cancer</td>\n",
              "      <td>2019-12-04</td>\n",
              "      <td>Sara Morrison</td>\n",
              "      <td>Johnson-Rosales</td>\n",
              "      <td>Blue Cross</td>\n",
              "      <td>19969318588272000</td>\n",
              "      <td>461</td>\n",
              "      <td>Urgent</td>\n",
              "      <td>2019-12-16</td>\n",
              "      <td>Paracetamol</td>\n",
              "      <td>Normal</td>\n",
              "    </tr>\n",
              "  </tbody>\n",
              "</table>\n",
              "</div>\n",
              "    <div class=\"colab-df-buttons\">\n",
              "\n",
              "  <div class=\"colab-df-container\">\n",
              "    <button class=\"colab-df-convert\" onclick=\"convertToInteractive('df-d73a829e-2ee1-4b5d-9479-8d631f255386')\"\n",
              "            title=\"Convert this dataframe to an interactive table.\"\n",
              "            style=\"display:none;\">\n",
              "\n",
              "  <svg xmlns=\"http://www.w3.org/2000/svg\" height=\"24px\" viewBox=\"0 -960 960 960\">\n",
              "    <path d=\"M120-120v-720h720v720H120Zm60-500h600v-160H180v160Zm220 220h160v-160H400v160Zm0 220h160v-160H400v160ZM180-400h160v-160H180v160Zm440 0h160v-160H620v160ZM180-180h160v-160H180v160Zm440 0h160v-160H620v160Z\"/>\n",
              "  </svg>\n",
              "    </button>\n",
              "\n",
              "  <style>\n",
              "    .colab-df-container {\n",
              "      display:flex;\n",
              "      gap: 12px;\n",
              "    }\n",
              "\n",
              "    .colab-df-convert {\n",
              "      background-color: #E8F0FE;\n",
              "      border: none;\n",
              "      border-radius: 50%;\n",
              "      cursor: pointer;\n",
              "      display: none;\n",
              "      fill: #1967D2;\n",
              "      height: 32px;\n",
              "      padding: 0 0 0 0;\n",
              "      width: 32px;\n",
              "    }\n",
              "\n",
              "    .colab-df-convert:hover {\n",
              "      background-color: #E2EBFA;\n",
              "      box-shadow: 0px 1px 2px rgba(60, 64, 67, 0.3), 0px 1px 3px 1px rgba(60, 64, 67, 0.15);\n",
              "      fill: #174EA6;\n",
              "    }\n",
              "\n",
              "    .colab-df-buttons div {\n",
              "      margin-bottom: 4px;\n",
              "    }\n",
              "\n",
              "    [theme=dark] .colab-df-convert {\n",
              "      background-color: #3B4455;\n",
              "      fill: #D2E3FC;\n",
              "    }\n",
              "\n",
              "    [theme=dark] .colab-df-convert:hover {\n",
              "      background-color: #434B5C;\n",
              "      box-shadow: 0px 1px 3px 1px rgba(0, 0, 0, 0.15);\n",
              "      filter: drop-shadow(0px 1px 2px rgba(0, 0, 0, 0.3));\n",
              "      fill: #FFFFFF;\n",
              "    }\n",
              "  </style>\n",
              "\n",
              "    <script>\n",
              "      const buttonEl =\n",
              "        document.querySelector('#df-d73a829e-2ee1-4b5d-9479-8d631f255386 button.colab-df-convert');\n",
              "      buttonEl.style.display =\n",
              "        google.colab.kernel.accessAllowed ? 'block' : 'none';\n",
              "\n",
              "      async function convertToInteractive(key) {\n",
              "        const element = document.querySelector('#df-d73a829e-2ee1-4b5d-9479-8d631f255386');\n",
              "        const dataTable =\n",
              "          await google.colab.kernel.invokeFunction('convertToInteractive',\n",
              "                                                    [key], {});\n",
              "        if (!dataTable) return;\n",
              "\n",
              "        const docLinkHtml = 'Like what you see? Visit the ' +\n",
              "          '<a target=\"_blank\" href=https://colab.research.google.com/notebooks/data_table.ipynb>data table notebook</a>'\n",
              "          + ' to learn more about interactive tables.';\n",
              "        element.innerHTML = '';\n",
              "        dataTable['output_type'] = 'display_data';\n",
              "        await google.colab.output.renderOutput(dataTable, element);\n",
              "        const docLink = document.createElement('div');\n",
              "        docLink.innerHTML = docLinkHtml;\n",
              "        element.appendChild(docLink);\n",
              "      }\n",
              "    </script>\n",
              "  </div>\n",
              "\n",
              "\n",
              "<div id=\"df-6f0b47f5-8c6c-43d7-9a33-c27719ea25ac\">\n",
              "  <button class=\"colab-df-quickchart\" onclick=\"quickchart('df-6f0b47f5-8c6c-43d7-9a33-c27719ea25ac')\"\n",
              "            title=\"Suggest charts\"\n",
              "            style=\"display:none;\">\n",
              "\n",
              "<svg xmlns=\"http://www.w3.org/2000/svg\" height=\"24px\"viewBox=\"0 0 24 24\"\n",
              "     width=\"24px\">\n",
              "    <g>\n",
              "        <path d=\"M19 3H5c-1.1 0-2 .9-2 2v14c0 1.1.9 2 2 2h14c1.1 0 2-.9 2-2V5c0-1.1-.9-2-2-2zM9 17H7v-7h2v7zm4 0h-2V7h2v10zm4 0h-2v-4h2v4z\"/>\n",
              "    </g>\n",
              "</svg>\n",
              "  </button>\n",
              "\n",
              "<style>\n",
              "  .colab-df-quickchart {\n",
              "      --bg-color: #E8F0FE;\n",
              "      --fill-color: #1967D2;\n",
              "      --hover-bg-color: #E2EBFA;\n",
              "      --hover-fill-color: #174EA6;\n",
              "      --disabled-fill-color: #AAA;\n",
              "      --disabled-bg-color: #DDD;\n",
              "  }\n",
              "\n",
              "  [theme=dark] .colab-df-quickchart {\n",
              "      --bg-color: #3B4455;\n",
              "      --fill-color: #D2E3FC;\n",
              "      --hover-bg-color: #434B5C;\n",
              "      --hover-fill-color: #FFFFFF;\n",
              "      --disabled-bg-color: #3B4455;\n",
              "      --disabled-fill-color: #666;\n",
              "  }\n",
              "\n",
              "  .colab-df-quickchart {\n",
              "    background-color: var(--bg-color);\n",
              "    border: none;\n",
              "    border-radius: 50%;\n",
              "    cursor: pointer;\n",
              "    display: none;\n",
              "    fill: var(--fill-color);\n",
              "    height: 32px;\n",
              "    padding: 0;\n",
              "    width: 32px;\n",
              "  }\n",
              "\n",
              "  .colab-df-quickchart:hover {\n",
              "    background-color: var(--hover-bg-color);\n",
              "    box-shadow: 0 1px 2px rgba(60, 64, 67, 0.3), 0 1px 3px 1px rgba(60, 64, 67, 0.15);\n",
              "    fill: var(--button-hover-fill-color);\n",
              "  }\n",
              "\n",
              "  .colab-df-quickchart-complete:disabled,\n",
              "  .colab-df-quickchart-complete:disabled:hover {\n",
              "    background-color: var(--disabled-bg-color);\n",
              "    fill: var(--disabled-fill-color);\n",
              "    box-shadow: none;\n",
              "  }\n",
              "\n",
              "  .colab-df-spinner {\n",
              "    border: 2px solid var(--fill-color);\n",
              "    border-color: transparent;\n",
              "    border-bottom-color: var(--fill-color);\n",
              "    animation:\n",
              "      spin 1s steps(1) infinite;\n",
              "  }\n",
              "\n",
              "  @keyframes spin {\n",
              "    0% {\n",
              "      border-color: transparent;\n",
              "      border-bottom-color: var(--fill-color);\n",
              "      border-left-color: var(--fill-color);\n",
              "    }\n",
              "    20% {\n",
              "      border-color: transparent;\n",
              "      border-left-color: var(--fill-color);\n",
              "      border-top-color: var(--fill-color);\n",
              "    }\n",
              "    30% {\n",
              "      border-color: transparent;\n",
              "      border-left-color: var(--fill-color);\n",
              "      border-top-color: var(--fill-color);\n",
              "      border-right-color: var(--fill-color);\n",
              "    }\n",
              "    40% {\n",
              "      border-color: transparent;\n",
              "      border-right-color: var(--fill-color);\n",
              "      border-top-color: var(--fill-color);\n",
              "    }\n",
              "    60% {\n",
              "      border-color: transparent;\n",
              "      border-right-color: var(--fill-color);\n",
              "    }\n",
              "    80% {\n",
              "      border-color: transparent;\n",
              "      border-right-color: var(--fill-color);\n",
              "      border-bottom-color: var(--fill-color);\n",
              "    }\n",
              "    90% {\n",
              "      border-color: transparent;\n",
              "      border-bottom-color: var(--fill-color);\n",
              "    }\n",
              "  }\n",
              "</style>\n",
              "\n",
              "  <script>\n",
              "    async function quickchart(key) {\n",
              "      const quickchartButtonEl =\n",
              "        document.querySelector('#' + key + ' button');\n",
              "      quickchartButtonEl.disabled = true;  // To prevent multiple clicks.\n",
              "      quickchartButtonEl.classList.add('colab-df-spinner');\n",
              "      try {\n",
              "        const charts = await google.colab.kernel.invokeFunction(\n",
              "            'suggestCharts', [key], {});\n",
              "      } catch (error) {\n",
              "        console.error('Error during call to suggestCharts:', error);\n",
              "      }\n",
              "      quickchartButtonEl.classList.remove('colab-df-spinner');\n",
              "      quickchartButtonEl.classList.add('colab-df-quickchart-complete');\n",
              "    }\n",
              "    (() => {\n",
              "      let quickchartButtonEl =\n",
              "        document.querySelector('#df-6f0b47f5-8c6c-43d7-9a33-c27719ea25ac button');\n",
              "      quickchartButtonEl.style.display =\n",
              "        google.colab.kernel.accessAllowed ? 'block' : 'none';\n",
              "    })();\n",
              "  </script>\n",
              "</div>\n",
              "\n",
              "    </div>\n",
              "  </div>\n"
            ],
            "application/vnd.google.colaboratory.intrinsic+json": {
              "type": "dataframe",
              "summary": "{\n  \"name\": \"df\",\n  \"rows\": 5,\n  \"fields\": [\n    {\n      \"column\": \"First Name\",\n      \"properties\": {\n        \"dtype\": \"string\",\n        \"num_unique_values\": 5,\n        \"samples\": [\n          \"Jason\",\n          \"Jennifer\",\n          \"Michael\"\n        ],\n        \"semantic_type\": \"\",\n        \"description\": \"\"\n      }\n    },\n    {\n      \"column\": \"Last Name\",\n      \"properties\": {\n        \"dtype\": \"string\",\n        \"num_unique_values\": 5,\n        \"samples\": [\n          \"Barber\",\n          \"Smith\",\n          \"Mooney\"\n        ],\n        \"semantic_type\": \"\",\n        \"description\": \"\"\n      }\n    },\n    {\n      \"column\": \"Age\",\n      \"properties\": {\n        \"dtype\": \"number\",\n        \"std\": 13,\n        \"min\": 50,\n        \"max\": 82,\n        \"num_unique_values\": 5,\n        \"samples\": [\n          50,\n          64,\n          69\n        ],\n        \"semantic_type\": \"\",\n        \"description\": \"\"\n      }\n    },\n    {\n      \"column\": \"Gender\",\n      \"properties\": {\n        \"dtype\": \"category\",\n        \"num_unique_values\": 2,\n        \"samples\": [\n          \"Male\",\n          \"Female\"\n        ],\n        \"semantic_type\": \"\",\n        \"description\": \"\"\n      }\n    },\n    {\n      \"column\": \"BloodType\",\n      \"properties\": {\n        \"dtype\": \"string\",\n        \"num_unique_values\": 5,\n        \"samples\": [\n          \"AB-\",\n          \"B-\"\n        ],\n        \"semantic_type\": \"\",\n        \"description\": \"\"\n      }\n    },\n    {\n      \"column\": \"MedicalCondition\",\n      \"properties\": {\n        \"dtype\": \"string\",\n        \"num_unique_values\": 3,\n        \"samples\": [\n          \"Cancer\",\n          \"Obesity\"\n        ],\n        \"semantic_type\": \"\",\n        \"description\": \"\"\n      }\n    },\n    {\n      \"column\": \"DateofAdmission\",\n      \"properties\": {\n        \"dtype\": \"date\",\n        \"min\": \"2019-12-04 00:00:00\",\n        \"max\": \"2023-10-23 00:00:00\",\n        \"num_unique_values\": 5,\n        \"samples\": [\n          \"2021-11-02 00:00:00\",\n          \"2019-12-04 00:00:00\"\n        ],\n        \"semantic_type\": \"\",\n        \"description\": \"\"\n      }\n    },\n    {\n      \"column\": \"Doctor\",\n      \"properties\": {\n        \"dtype\": \"string\",\n        \"num_unique_values\": 5,\n        \"samples\": [\n          \"Eric Mendez\",\n          \"Sara Morrison\"\n        ],\n        \"semantic_type\": \"\",\n        \"description\": \"\"\n      }\n    },\n    {\n      \"column\": \"Hospital\",\n      \"properties\": {\n        \"dtype\": \"string\",\n        \"num_unique_values\": 5,\n        \"samples\": [\n          \"Harrison-Melendez\",\n          \"Johnson-Rosales\"\n        ],\n        \"semantic_type\": \"\",\n        \"description\": \"\"\n      }\n    },\n    {\n      \"column\": \"InsuranceProvider\",\n      \"properties\": {\n        \"dtype\": \"string\",\n        \"num_unique_values\": 3,\n        \"samples\": [\n          \"Aetna\",\n          \"Blue Cross\"\n        ],\n        \"semantic_type\": \"\",\n        \"description\": \"\"\n      }\n    },\n    {\n      \"column\": \"BillingAmount\",\n      \"properties\": {\n        \"dtype\": \"number\",\n        \"std\": 7638102856123778,\n        \"min\": 1662910729312820,\n        \"max\": 19969318588272000,\n        \"num_unique_values\": 5,\n        \"samples\": [\n          3446756060165950,\n          19969318588272000\n        ],\n        \"semantic_type\": \"\",\n        \"description\": \"\"\n      }\n    },\n    {\n      \"column\": \"RoomNumber\",\n      \"properties\": {\n        \"dtype\": \"number\",\n        \"std\": 128,\n        \"min\": 178,\n        \"max\": 461,\n        \"num_unique_values\": 5,\n        \"samples\": [\n          198,\n          461\n        ],\n        \"semantic_type\": \"\",\n        \"description\": \"\"\n      }\n    },\n    {\n      \"column\": \"AdmissionType\",\n      \"properties\": {\n        \"dtype\": \"string\",\n        \"num_unique_values\": 3,\n        \"samples\": [\n          \"Urgent\",\n          \"Emergency\"\n        ],\n        \"semantic_type\": \"\",\n        \"description\": \"\"\n      }\n    },\n    {\n      \"column\": \"DischargeDate\",\n      \"properties\": {\n        \"dtype\": \"date\",\n        \"min\": \"2019-12-16 00:00:00\",\n        \"max\": \"2023-10-24 00:00:00\",\n        \"num_unique_values\": 5,\n        \"samples\": [\n          \"2021-11-11 00:00:00\",\n          \"2019-12-16 00:00:00\"\n        ],\n        \"semantic_type\": \"\",\n        \"description\": \"\"\n      }\n    },\n    {\n      \"column\": \"Medication\",\n      \"properties\": {\n        \"dtype\": \"string\",\n        \"num_unique_values\": 3,\n        \"samples\": [\n          \"Ibuprofen\",\n          \"Penicillin\"\n        ],\n        \"semantic_type\": \"\",\n        \"description\": \"\"\n      }\n    },\n    {\n      \"column\": \"TestResults\",\n      \"properties\": {\n        \"dtype\": \"string\",\n        \"num_unique_values\": 3,\n        \"samples\": [\n          \"Normal\",\n          \"Abnormal\"\n        ],\n        \"semantic_type\": \"\",\n        \"description\": \"\"\n      }\n    }\n  ]\n}"
            }
          },
          "metadata": {},
          "execution_count": 228
        }
      ],
      "source": [
        "df.tail()"
      ]
    },
    {
      "cell_type": "code",
      "execution_count": 229,
      "metadata": {
        "colab": {
          "base_uri": "https://localhost:8080/"
        },
        "id": "wa-EBlytaa9P",
        "outputId": "1aced538-884d-46e4-8ee1-4aa076e9a56a"
      },
      "outputs": [
        {
          "output_type": "execute_result",
          "data": {
            "text/plain": [
              "399984"
            ]
          },
          "metadata": {},
          "execution_count": 229
        }
      ],
      "source": [
        "df.size"
      ]
    },
    {
      "cell_type": "code",
      "execution_count": 230,
      "metadata": {
        "colab": {
          "base_uri": "https://localhost:8080/"
        },
        "id": "3jsqn048aeNb",
        "outputId": "6097e7b5-0150-4c66-d471-5063237e669b"
      },
      "outputs": [
        {
          "output_type": "execute_result",
          "data": {
            "text/plain": [
              "RangeIndex(start=0, stop=24999, step=1)"
            ]
          },
          "metadata": {},
          "execution_count": 230
        }
      ],
      "source": [
        "df.index"
      ]
    },
    {
      "cell_type": "code",
      "execution_count": 231,
      "metadata": {
        "colab": {
          "base_uri": "https://localhost:8080/"
        },
        "id": "eZC6llvBasUg",
        "outputId": "7eed698b-00da-45cc-b702-2cffdd608ef0"
      },
      "outputs": [
        {
          "output_type": "execute_result",
          "data": {
            "text/plain": [
              "2"
            ]
          },
          "metadata": {},
          "execution_count": 231
        }
      ],
      "source": [
        "df.ndim"
      ]
    },
    {
      "cell_type": "code",
      "execution_count": 232,
      "metadata": {
        "colab": {
          "base_uri": "https://localhost:8080/",
          "height": 669
        },
        "id": "0aCZRmPSa0eZ",
        "outputId": "5b103df6-44a8-46f3-f41a-6d6189db1593"
      },
      "outputs": [
        {
          "output_type": "execute_result",
          "data": {
            "text/plain": [
              "      First Name Last Name  Age  Gender BloodType MedicalCondition  \\\n",
              "0          Bobby   Jackson   30    Male        B-           Cancer   \n",
              "1         Leslie     Terry   62    Male        A+          Obesity   \n",
              "2          Danny     Smith   76  Female        A-          Obesity   \n",
              "3         Andrew     Watts   28  Female        O+         Diabetes   \n",
              "4       Adrienne      Bell   43  Female       AB+           Cancer   \n",
              "...          ...       ...  ...     ...       ...              ...   \n",
              "24994    Tiffany     Boyle   80  Female        A+           Cancer   \n",
              "24995      Jason    Barber   50  Female       AB-          Obesity   \n",
              "24996    Michael    Mooney   69    Male       AB+           Cancer   \n",
              "24997     Harold    Acosta   82  Female        O-           Asthma   \n",
              "24998   Jennifer     Smith   64    Male        B-           Cancer   \n",
              "\n",
              "      DateofAdmission            Doctor                    Hospital  \\\n",
              "0          2024-01-31     Matthew Smith             Sons and Miller   \n",
              "1          2019-08-20   Samantha Davies                     Kim Inc   \n",
              "2          2022-09-22  Tiffany Mitchell                    Cook PLC   \n",
              "3          2020-11-18       Kevin Wells  Hernandez Rogers and Vang,   \n",
              "4          2022-09-19    Kathleen Hanna                 White-White   \n",
              "...               ...               ...                         ...   \n",
              "24994      2021-09-07     Steven Parker                 Jackson PLC   \n",
              "24995      2021-11-02       Eric Mendez           Harrison-Melendez   \n",
              "24996      2020-07-22      Laura Martin              Torres-Jimenez   \n",
              "24997      2023-10-23        Mary David           Sons Espinoza and   \n",
              "24998      2019-12-04     Sara Morrison             Johnson-Rosales   \n",
              "\n",
              "      InsuranceProvider      BillingAmount  RoomNumber AdmissionType  \\\n",
              "0            Blue Cross  18856281305978100         328        Urgent   \n",
              "1              Medicare  33643327286577800         265     Emergency   \n",
              "2                 Aetna  27955096078842400         205     Emergency   \n",
              "3              Medicare   3790978240987520         450      Elective   \n",
              "4                 Aetna  14238317813937600         458        Urgent   \n",
              "...                 ...                ...         ...           ...   \n",
              "24994             Aetna   1662910729312820         399        Urgent   \n",
              "24995        Blue Cross   3446756060165950         198     Emergency   \n",
              "24996          Medicare   9243881646384610         178      Elective   \n",
              "24997             Aetna   2559003031125610         390        Urgent   \n",
              "24998        Blue Cross  19969318588272000         461        Urgent   \n",
              "\n",
              "      DischargeDate   Medication   TestResults  \n",
              "0        2024-02-02  Paracetamol        Normal  \n",
              "1        2019-08-26    Ibuprofen  Inconclusive  \n",
              "2        2022-10-07      Aspirin        Normal  \n",
              "3        2020-12-18    Ibuprofen      Abnormal  \n",
              "4        2022-10-09   Penicillin      Abnormal  \n",
              "...             ...          ...           ...  \n",
              "24994    2021-09-24    Ibuprofen        Normal  \n",
              "24995    2021-11-11   Penicillin        Normal  \n",
              "24996    2020-08-15   Penicillin      Abnormal  \n",
              "24997    2023-10-24  Paracetamol  Inconclusive  \n",
              "24998    2019-12-16  Paracetamol        Normal  \n",
              "\n",
              "[24999 rows x 16 columns]"
            ],
            "text/html": [
              "\n",
              "  <div id=\"df-7a2d6bf0-f1de-49d9-ab12-059039ff5f03\" class=\"colab-df-container\">\n",
              "    <div>\n",
              "<style scoped>\n",
              "    .dataframe tbody tr th:only-of-type {\n",
              "        vertical-align: middle;\n",
              "    }\n",
              "\n",
              "    .dataframe tbody tr th {\n",
              "        vertical-align: top;\n",
              "    }\n",
              "\n",
              "    .dataframe thead th {\n",
              "        text-align: right;\n",
              "    }\n",
              "</style>\n",
              "<table border=\"1\" class=\"dataframe\">\n",
              "  <thead>\n",
              "    <tr style=\"text-align: right;\">\n",
              "      <th></th>\n",
              "      <th>First Name</th>\n",
              "      <th>Last Name</th>\n",
              "      <th>Age</th>\n",
              "      <th>Gender</th>\n",
              "      <th>BloodType</th>\n",
              "      <th>MedicalCondition</th>\n",
              "      <th>DateofAdmission</th>\n",
              "      <th>Doctor</th>\n",
              "      <th>Hospital</th>\n",
              "      <th>InsuranceProvider</th>\n",
              "      <th>BillingAmount</th>\n",
              "      <th>RoomNumber</th>\n",
              "      <th>AdmissionType</th>\n",
              "      <th>DischargeDate</th>\n",
              "      <th>Medication</th>\n",
              "      <th>TestResults</th>\n",
              "    </tr>\n",
              "  </thead>\n",
              "  <tbody>\n",
              "    <tr>\n",
              "      <th>0</th>\n",
              "      <td>Bobby</td>\n",
              "      <td>Jackson</td>\n",
              "      <td>30</td>\n",
              "      <td>Male</td>\n",
              "      <td>B-</td>\n",
              "      <td>Cancer</td>\n",
              "      <td>2024-01-31</td>\n",
              "      <td>Matthew Smith</td>\n",
              "      <td>Sons and Miller</td>\n",
              "      <td>Blue Cross</td>\n",
              "      <td>18856281305978100</td>\n",
              "      <td>328</td>\n",
              "      <td>Urgent</td>\n",
              "      <td>2024-02-02</td>\n",
              "      <td>Paracetamol</td>\n",
              "      <td>Normal</td>\n",
              "    </tr>\n",
              "    <tr>\n",
              "      <th>1</th>\n",
              "      <td>Leslie</td>\n",
              "      <td>Terry</td>\n",
              "      <td>62</td>\n",
              "      <td>Male</td>\n",
              "      <td>A+</td>\n",
              "      <td>Obesity</td>\n",
              "      <td>2019-08-20</td>\n",
              "      <td>Samantha Davies</td>\n",
              "      <td>Kim Inc</td>\n",
              "      <td>Medicare</td>\n",
              "      <td>33643327286577800</td>\n",
              "      <td>265</td>\n",
              "      <td>Emergency</td>\n",
              "      <td>2019-08-26</td>\n",
              "      <td>Ibuprofen</td>\n",
              "      <td>Inconclusive</td>\n",
              "    </tr>\n",
              "    <tr>\n",
              "      <th>2</th>\n",
              "      <td>Danny</td>\n",
              "      <td>Smith</td>\n",
              "      <td>76</td>\n",
              "      <td>Female</td>\n",
              "      <td>A-</td>\n",
              "      <td>Obesity</td>\n",
              "      <td>2022-09-22</td>\n",
              "      <td>Tiffany Mitchell</td>\n",
              "      <td>Cook PLC</td>\n",
              "      <td>Aetna</td>\n",
              "      <td>27955096078842400</td>\n",
              "      <td>205</td>\n",
              "      <td>Emergency</td>\n",
              "      <td>2022-10-07</td>\n",
              "      <td>Aspirin</td>\n",
              "      <td>Normal</td>\n",
              "    </tr>\n",
              "    <tr>\n",
              "      <th>3</th>\n",
              "      <td>Andrew</td>\n",
              "      <td>Watts</td>\n",
              "      <td>28</td>\n",
              "      <td>Female</td>\n",
              "      <td>O+</td>\n",
              "      <td>Diabetes</td>\n",
              "      <td>2020-11-18</td>\n",
              "      <td>Kevin Wells</td>\n",
              "      <td>Hernandez Rogers and Vang,</td>\n",
              "      <td>Medicare</td>\n",
              "      <td>3790978240987520</td>\n",
              "      <td>450</td>\n",
              "      <td>Elective</td>\n",
              "      <td>2020-12-18</td>\n",
              "      <td>Ibuprofen</td>\n",
              "      <td>Abnormal</td>\n",
              "    </tr>\n",
              "    <tr>\n",
              "      <th>4</th>\n",
              "      <td>Adrienne</td>\n",
              "      <td>Bell</td>\n",
              "      <td>43</td>\n",
              "      <td>Female</td>\n",
              "      <td>AB+</td>\n",
              "      <td>Cancer</td>\n",
              "      <td>2022-09-19</td>\n",
              "      <td>Kathleen Hanna</td>\n",
              "      <td>White-White</td>\n",
              "      <td>Aetna</td>\n",
              "      <td>14238317813937600</td>\n",
              "      <td>458</td>\n",
              "      <td>Urgent</td>\n",
              "      <td>2022-10-09</td>\n",
              "      <td>Penicillin</td>\n",
              "      <td>Abnormal</td>\n",
              "    </tr>\n",
              "    <tr>\n",
              "      <th>...</th>\n",
              "      <td>...</td>\n",
              "      <td>...</td>\n",
              "      <td>...</td>\n",
              "      <td>...</td>\n",
              "      <td>...</td>\n",
              "      <td>...</td>\n",
              "      <td>...</td>\n",
              "      <td>...</td>\n",
              "      <td>...</td>\n",
              "      <td>...</td>\n",
              "      <td>...</td>\n",
              "      <td>...</td>\n",
              "      <td>...</td>\n",
              "      <td>...</td>\n",
              "      <td>...</td>\n",
              "      <td>...</td>\n",
              "    </tr>\n",
              "    <tr>\n",
              "      <th>24994</th>\n",
              "      <td>Tiffany</td>\n",
              "      <td>Boyle</td>\n",
              "      <td>80</td>\n",
              "      <td>Female</td>\n",
              "      <td>A+</td>\n",
              "      <td>Cancer</td>\n",
              "      <td>2021-09-07</td>\n",
              "      <td>Steven Parker</td>\n",
              "      <td>Jackson PLC</td>\n",
              "      <td>Aetna</td>\n",
              "      <td>1662910729312820</td>\n",
              "      <td>399</td>\n",
              "      <td>Urgent</td>\n",
              "      <td>2021-09-24</td>\n",
              "      <td>Ibuprofen</td>\n",
              "      <td>Normal</td>\n",
              "    </tr>\n",
              "    <tr>\n",
              "      <th>24995</th>\n",
              "      <td>Jason</td>\n",
              "      <td>Barber</td>\n",
              "      <td>50</td>\n",
              "      <td>Female</td>\n",
              "      <td>AB-</td>\n",
              "      <td>Obesity</td>\n",
              "      <td>2021-11-02</td>\n",
              "      <td>Eric Mendez</td>\n",
              "      <td>Harrison-Melendez</td>\n",
              "      <td>Blue Cross</td>\n",
              "      <td>3446756060165950</td>\n",
              "      <td>198</td>\n",
              "      <td>Emergency</td>\n",
              "      <td>2021-11-11</td>\n",
              "      <td>Penicillin</td>\n",
              "      <td>Normal</td>\n",
              "    </tr>\n",
              "    <tr>\n",
              "      <th>24996</th>\n",
              "      <td>Michael</td>\n",
              "      <td>Mooney</td>\n",
              "      <td>69</td>\n",
              "      <td>Male</td>\n",
              "      <td>AB+</td>\n",
              "      <td>Cancer</td>\n",
              "      <td>2020-07-22</td>\n",
              "      <td>Laura Martin</td>\n",
              "      <td>Torres-Jimenez</td>\n",
              "      <td>Medicare</td>\n",
              "      <td>9243881646384610</td>\n",
              "      <td>178</td>\n",
              "      <td>Elective</td>\n",
              "      <td>2020-08-15</td>\n",
              "      <td>Penicillin</td>\n",
              "      <td>Abnormal</td>\n",
              "    </tr>\n",
              "    <tr>\n",
              "      <th>24997</th>\n",
              "      <td>Harold</td>\n",
              "      <td>Acosta</td>\n",
              "      <td>82</td>\n",
              "      <td>Female</td>\n",
              "      <td>O-</td>\n",
              "      <td>Asthma</td>\n",
              "      <td>2023-10-23</td>\n",
              "      <td>Mary David</td>\n",
              "      <td>Sons Espinoza and</td>\n",
              "      <td>Aetna</td>\n",
              "      <td>2559003031125610</td>\n",
              "      <td>390</td>\n",
              "      <td>Urgent</td>\n",
              "      <td>2023-10-24</td>\n",
              "      <td>Paracetamol</td>\n",
              "      <td>Inconclusive</td>\n",
              "    </tr>\n",
              "    <tr>\n",
              "      <th>24998</th>\n",
              "      <td>Jennifer</td>\n",
              "      <td>Smith</td>\n",
              "      <td>64</td>\n",
              "      <td>Male</td>\n",
              "      <td>B-</td>\n",
              "      <td>Cancer</td>\n",
              "      <td>2019-12-04</td>\n",
              "      <td>Sara Morrison</td>\n",
              "      <td>Johnson-Rosales</td>\n",
              "      <td>Blue Cross</td>\n",
              "      <td>19969318588272000</td>\n",
              "      <td>461</td>\n",
              "      <td>Urgent</td>\n",
              "      <td>2019-12-16</td>\n",
              "      <td>Paracetamol</td>\n",
              "      <td>Normal</td>\n",
              "    </tr>\n",
              "  </tbody>\n",
              "</table>\n",
              "<p>24999 rows × 16 columns</p>\n",
              "</div>\n",
              "    <div class=\"colab-df-buttons\">\n",
              "\n",
              "  <div class=\"colab-df-container\">\n",
              "    <button class=\"colab-df-convert\" onclick=\"convertToInteractive('df-7a2d6bf0-f1de-49d9-ab12-059039ff5f03')\"\n",
              "            title=\"Convert this dataframe to an interactive table.\"\n",
              "            style=\"display:none;\">\n",
              "\n",
              "  <svg xmlns=\"http://www.w3.org/2000/svg\" height=\"24px\" viewBox=\"0 -960 960 960\">\n",
              "    <path d=\"M120-120v-720h720v720H120Zm60-500h600v-160H180v160Zm220 220h160v-160H400v160Zm0 220h160v-160H400v160ZM180-400h160v-160H180v160Zm440 0h160v-160H620v160ZM180-180h160v-160H180v160Zm440 0h160v-160H620v160Z\"/>\n",
              "  </svg>\n",
              "    </button>\n",
              "\n",
              "  <style>\n",
              "    .colab-df-container {\n",
              "      display:flex;\n",
              "      gap: 12px;\n",
              "    }\n",
              "\n",
              "    .colab-df-convert {\n",
              "      background-color: #E8F0FE;\n",
              "      border: none;\n",
              "      border-radius: 50%;\n",
              "      cursor: pointer;\n",
              "      display: none;\n",
              "      fill: #1967D2;\n",
              "      height: 32px;\n",
              "      padding: 0 0 0 0;\n",
              "      width: 32px;\n",
              "    }\n",
              "\n",
              "    .colab-df-convert:hover {\n",
              "      background-color: #E2EBFA;\n",
              "      box-shadow: 0px 1px 2px rgba(60, 64, 67, 0.3), 0px 1px 3px 1px rgba(60, 64, 67, 0.15);\n",
              "      fill: #174EA6;\n",
              "    }\n",
              "\n",
              "    .colab-df-buttons div {\n",
              "      margin-bottom: 4px;\n",
              "    }\n",
              "\n",
              "    [theme=dark] .colab-df-convert {\n",
              "      background-color: #3B4455;\n",
              "      fill: #D2E3FC;\n",
              "    }\n",
              "\n",
              "    [theme=dark] .colab-df-convert:hover {\n",
              "      background-color: #434B5C;\n",
              "      box-shadow: 0px 1px 3px 1px rgba(0, 0, 0, 0.15);\n",
              "      filter: drop-shadow(0px 1px 2px rgba(0, 0, 0, 0.3));\n",
              "      fill: #FFFFFF;\n",
              "    }\n",
              "  </style>\n",
              "\n",
              "    <script>\n",
              "      const buttonEl =\n",
              "        document.querySelector('#df-7a2d6bf0-f1de-49d9-ab12-059039ff5f03 button.colab-df-convert');\n",
              "      buttonEl.style.display =\n",
              "        google.colab.kernel.accessAllowed ? 'block' : 'none';\n",
              "\n",
              "      async function convertToInteractive(key) {\n",
              "        const element = document.querySelector('#df-7a2d6bf0-f1de-49d9-ab12-059039ff5f03');\n",
              "        const dataTable =\n",
              "          await google.colab.kernel.invokeFunction('convertToInteractive',\n",
              "                                                    [key], {});\n",
              "        if (!dataTable) return;\n",
              "\n",
              "        const docLinkHtml = 'Like what you see? Visit the ' +\n",
              "          '<a target=\"_blank\" href=https://colab.research.google.com/notebooks/data_table.ipynb>data table notebook</a>'\n",
              "          + ' to learn more about interactive tables.';\n",
              "        element.innerHTML = '';\n",
              "        dataTable['output_type'] = 'display_data';\n",
              "        await google.colab.output.renderOutput(dataTable, element);\n",
              "        const docLink = document.createElement('div');\n",
              "        docLink.innerHTML = docLinkHtml;\n",
              "        element.appendChild(docLink);\n",
              "      }\n",
              "    </script>\n",
              "  </div>\n",
              "\n",
              "\n",
              "<div id=\"df-dfeede84-b661-473e-944e-08a677aa3089\">\n",
              "  <button class=\"colab-df-quickchart\" onclick=\"quickchart('df-dfeede84-b661-473e-944e-08a677aa3089')\"\n",
              "            title=\"Suggest charts\"\n",
              "            style=\"display:none;\">\n",
              "\n",
              "<svg xmlns=\"http://www.w3.org/2000/svg\" height=\"24px\"viewBox=\"0 0 24 24\"\n",
              "     width=\"24px\">\n",
              "    <g>\n",
              "        <path d=\"M19 3H5c-1.1 0-2 .9-2 2v14c0 1.1.9 2 2 2h14c1.1 0 2-.9 2-2V5c0-1.1-.9-2-2-2zM9 17H7v-7h2v7zm4 0h-2V7h2v10zm4 0h-2v-4h2v4z\"/>\n",
              "    </g>\n",
              "</svg>\n",
              "  </button>\n",
              "\n",
              "<style>\n",
              "  .colab-df-quickchart {\n",
              "      --bg-color: #E8F0FE;\n",
              "      --fill-color: #1967D2;\n",
              "      --hover-bg-color: #E2EBFA;\n",
              "      --hover-fill-color: #174EA6;\n",
              "      --disabled-fill-color: #AAA;\n",
              "      --disabled-bg-color: #DDD;\n",
              "  }\n",
              "\n",
              "  [theme=dark] .colab-df-quickchart {\n",
              "      --bg-color: #3B4455;\n",
              "      --fill-color: #D2E3FC;\n",
              "      --hover-bg-color: #434B5C;\n",
              "      --hover-fill-color: #FFFFFF;\n",
              "      --disabled-bg-color: #3B4455;\n",
              "      --disabled-fill-color: #666;\n",
              "  }\n",
              "\n",
              "  .colab-df-quickchart {\n",
              "    background-color: var(--bg-color);\n",
              "    border: none;\n",
              "    border-radius: 50%;\n",
              "    cursor: pointer;\n",
              "    display: none;\n",
              "    fill: var(--fill-color);\n",
              "    height: 32px;\n",
              "    padding: 0;\n",
              "    width: 32px;\n",
              "  }\n",
              "\n",
              "  .colab-df-quickchart:hover {\n",
              "    background-color: var(--hover-bg-color);\n",
              "    box-shadow: 0 1px 2px rgba(60, 64, 67, 0.3), 0 1px 3px 1px rgba(60, 64, 67, 0.15);\n",
              "    fill: var(--button-hover-fill-color);\n",
              "  }\n",
              "\n",
              "  .colab-df-quickchart-complete:disabled,\n",
              "  .colab-df-quickchart-complete:disabled:hover {\n",
              "    background-color: var(--disabled-bg-color);\n",
              "    fill: var(--disabled-fill-color);\n",
              "    box-shadow: none;\n",
              "  }\n",
              "\n",
              "  .colab-df-spinner {\n",
              "    border: 2px solid var(--fill-color);\n",
              "    border-color: transparent;\n",
              "    border-bottom-color: var(--fill-color);\n",
              "    animation:\n",
              "      spin 1s steps(1) infinite;\n",
              "  }\n",
              "\n",
              "  @keyframes spin {\n",
              "    0% {\n",
              "      border-color: transparent;\n",
              "      border-bottom-color: var(--fill-color);\n",
              "      border-left-color: var(--fill-color);\n",
              "    }\n",
              "    20% {\n",
              "      border-color: transparent;\n",
              "      border-left-color: var(--fill-color);\n",
              "      border-top-color: var(--fill-color);\n",
              "    }\n",
              "    30% {\n",
              "      border-color: transparent;\n",
              "      border-left-color: var(--fill-color);\n",
              "      border-top-color: var(--fill-color);\n",
              "      border-right-color: var(--fill-color);\n",
              "    }\n",
              "    40% {\n",
              "      border-color: transparent;\n",
              "      border-right-color: var(--fill-color);\n",
              "      border-top-color: var(--fill-color);\n",
              "    }\n",
              "    60% {\n",
              "      border-color: transparent;\n",
              "      border-right-color: var(--fill-color);\n",
              "    }\n",
              "    80% {\n",
              "      border-color: transparent;\n",
              "      border-right-color: var(--fill-color);\n",
              "      border-bottom-color: var(--fill-color);\n",
              "    }\n",
              "    90% {\n",
              "      border-color: transparent;\n",
              "      border-bottom-color: var(--fill-color);\n",
              "    }\n",
              "  }\n",
              "</style>\n",
              "\n",
              "  <script>\n",
              "    async function quickchart(key) {\n",
              "      const quickchartButtonEl =\n",
              "        document.querySelector('#' + key + ' button');\n",
              "      quickchartButtonEl.disabled = true;  // To prevent multiple clicks.\n",
              "      quickchartButtonEl.classList.add('colab-df-spinner');\n",
              "      try {\n",
              "        const charts = await google.colab.kernel.invokeFunction(\n",
              "            'suggestCharts', [key], {});\n",
              "      } catch (error) {\n",
              "        console.error('Error during call to suggestCharts:', error);\n",
              "      }\n",
              "      quickchartButtonEl.classList.remove('colab-df-spinner');\n",
              "      quickchartButtonEl.classList.add('colab-df-quickchart-complete');\n",
              "    }\n",
              "    (() => {\n",
              "      let quickchartButtonEl =\n",
              "        document.querySelector('#df-dfeede84-b661-473e-944e-08a677aa3089 button');\n",
              "      quickchartButtonEl.style.display =\n",
              "        google.colab.kernel.accessAllowed ? 'block' : 'none';\n",
              "    })();\n",
              "  </script>\n",
              "</div>\n",
              "\n",
              "  <div id=\"id_9553bc37-eabf-4281-b36a-8bc979b9431c\">\n",
              "    <style>\n",
              "      .colab-df-generate {\n",
              "        background-color: #E8F0FE;\n",
              "        border: none;\n",
              "        border-radius: 50%;\n",
              "        cursor: pointer;\n",
              "        display: none;\n",
              "        fill: #1967D2;\n",
              "        height: 32px;\n",
              "        padding: 0 0 0 0;\n",
              "        width: 32px;\n",
              "      }\n",
              "\n",
              "      .colab-df-generate:hover {\n",
              "        background-color: #E2EBFA;\n",
              "        box-shadow: 0px 1px 2px rgba(60, 64, 67, 0.3), 0px 1px 3px 1px rgba(60, 64, 67, 0.15);\n",
              "        fill: #174EA6;\n",
              "      }\n",
              "\n",
              "      [theme=dark] .colab-df-generate {\n",
              "        background-color: #3B4455;\n",
              "        fill: #D2E3FC;\n",
              "      }\n",
              "\n",
              "      [theme=dark] .colab-df-generate:hover {\n",
              "        background-color: #434B5C;\n",
              "        box-shadow: 0px 1px 3px 1px rgba(0, 0, 0, 0.15);\n",
              "        filter: drop-shadow(0px 1px 2px rgba(0, 0, 0, 0.3));\n",
              "        fill: #FFFFFF;\n",
              "      }\n",
              "    </style>\n",
              "    <button class=\"colab-df-generate\" onclick=\"generateWithVariable('df')\"\n",
              "            title=\"Generate code using this dataframe.\"\n",
              "            style=\"display:none;\">\n",
              "\n",
              "  <svg xmlns=\"http://www.w3.org/2000/svg\" height=\"24px\"viewBox=\"0 0 24 24\"\n",
              "       width=\"24px\">\n",
              "    <path d=\"M7,19H8.4L18.45,9,17,7.55,7,17.6ZM5,21V16.75L18.45,3.32a2,2,0,0,1,2.83,0l1.4,1.43a1.91,1.91,0,0,1,.58,1.4,1.91,1.91,0,0,1-.58,1.4L9.25,21ZM18.45,9,17,7.55Zm-12,3A5.31,5.31,0,0,0,4.9,8.1,5.31,5.31,0,0,0,1,6.5,5.31,5.31,0,0,0,4.9,4.9,5.31,5.31,0,0,0,6.5,1,5.31,5.31,0,0,0,8.1,4.9,5.31,5.31,0,0,0,12,6.5,5.46,5.46,0,0,0,6.5,12Z\"/>\n",
              "  </svg>\n",
              "    </button>\n",
              "    <script>\n",
              "      (() => {\n",
              "      const buttonEl =\n",
              "        document.querySelector('#id_9553bc37-eabf-4281-b36a-8bc979b9431c button.colab-df-generate');\n",
              "      buttonEl.style.display =\n",
              "        google.colab.kernel.accessAllowed ? 'block' : 'none';\n",
              "\n",
              "      buttonEl.onclick = () => {\n",
              "        google.colab.notebook.generateWithVariable('df');\n",
              "      }\n",
              "      })();\n",
              "    </script>\n",
              "  </div>\n",
              "\n",
              "    </div>\n",
              "  </div>\n"
            ],
            "application/vnd.google.colaboratory.intrinsic+json": {
              "type": "dataframe",
              "variable_name": "df",
              "summary": "{\n  \"name\": \"df\",\n  \"rows\": 24999,\n  \"fields\": [\n    {\n      \"column\": \"First Name\",\n      \"properties\": {\n        \"dtype\": \"category\",\n        \"num_unique_values\": 688,\n        \"samples\": [\n          \"Olivia\",\n          \"Darius\",\n          \"Carla\"\n        ],\n        \"semantic_type\": \"\",\n        \"description\": \"\"\n      }\n    },\n    {\n      \"column\": \"Last Name\",\n      \"properties\": {\n        \"dtype\": \"category\",\n        \"num_unique_values\": 1004,\n        \"samples\": [\n          \"Greer\",\n          \"Hammond\",\n          \"Dalton\"\n        ],\n        \"semantic_type\": \"\",\n        \"description\": \"\"\n      }\n    },\n    {\n      \"column\": \"Age\",\n      \"properties\": {\n        \"dtype\": \"number\",\n        \"std\": 19,\n        \"min\": 18,\n        \"max\": 85,\n        \"num_unique_values\": 68,\n        \"samples\": [\n          29,\n          63,\n          43\n        ],\n        \"semantic_type\": \"\",\n        \"description\": \"\"\n      }\n    },\n    {\n      \"column\": \"Gender\",\n      \"properties\": {\n        \"dtype\": \"category\",\n        \"num_unique_values\": 2,\n        \"samples\": [\n          \"Female\",\n          \"Male\"\n        ],\n        \"semantic_type\": \"\",\n        \"description\": \"\"\n      }\n    },\n    {\n      \"column\": \"BloodType\",\n      \"properties\": {\n        \"dtype\": \"category\",\n        \"num_unique_values\": 8,\n        \"samples\": [\n          \"A+\",\n          \"AB-\"\n        ],\n        \"semantic_type\": \"\",\n        \"description\": \"\"\n      }\n    },\n    {\n      \"column\": \"MedicalCondition\",\n      \"properties\": {\n        \"dtype\": \"category\",\n        \"num_unique_values\": 6,\n        \"samples\": [\n          \"Cancer\",\n          \"Obesity\"\n        ],\n        \"semantic_type\": \"\",\n        \"description\": \"\"\n      }\n    },\n    {\n      \"column\": \"DateofAdmission\",\n      \"properties\": {\n        \"dtype\": \"date\",\n        \"min\": \"2019-05-08 00:00:00\",\n        \"max\": \"2024-05-07 00:00:00\",\n        \"num_unique_values\": 1827,\n        \"samples\": [\n          \"2022-12-24 00:00:00\",\n          \"2022-02-14 00:00:00\"\n        ],\n        \"semantic_type\": \"\",\n        \"description\": \"\"\n      }\n    },\n    {\n      \"column\": \"Doctor\",\n      \"properties\": {\n        \"dtype\": \"string\",\n        \"num_unique_values\": 22096,\n        \"samples\": [\n          \"Rachel Cook\",\n          \"Theresa Martin\"\n        ],\n        \"semantic_type\": \"\",\n        \"description\": \"\"\n      }\n    },\n    {\n      \"column\": \"Hospital\",\n      \"properties\": {\n        \"dtype\": \"string\",\n        \"num_unique_values\": 21445,\n        \"samples\": [\n          \"Reed Sons and\",\n          \"Ball-Bell\"\n        ],\n        \"semantic_type\": \"\",\n        \"description\": \"\"\n      }\n    },\n    {\n      \"column\": \"InsuranceProvider\",\n      \"properties\": {\n        \"dtype\": \"category\",\n        \"num_unique_values\": 6,\n        \"samples\": [\n          \"Blue Cross\",\n          \"Medicare\"\n        ],\n        \"semantic_type\": \"\",\n        \"description\": \"\"\n      }\n    },\n    {\n      \"column\": \"BillingAmount\",\n      \"properties\": {\n        \"dtype\": \"number\",\n        \"std\": 13810537014963580,\n        \"min\": 144242393735,\n        \"max\": 81541564149807104,\n        \"num_unique_values\": 24999,\n        \"samples\": [\n          4903010758227820,\n          15631566130227100\n        ],\n        \"semantic_type\": \"\",\n        \"description\": \"\"\n      }\n    },\n    {\n      \"column\": \"RoomNumber\",\n      \"properties\": {\n        \"dtype\": \"number\",\n        \"std\": 115,\n        \"min\": 101,\n        \"max\": 500,\n        \"num_unique_values\": 400,\n        \"samples\": [\n          176,\n          146\n        ],\n        \"semantic_type\": \"\",\n        \"description\": \"\"\n      }\n    },\n    {\n      \"column\": \"AdmissionType\",\n      \"properties\": {\n        \"dtype\": \"category\",\n        \"num_unique_values\": 3,\n        \"samples\": [\n          \"Urgent\",\n          \"Emergency\"\n        ],\n        \"semantic_type\": \"\",\n        \"description\": \"\"\n      }\n    },\n    {\n      \"column\": \"DischargeDate\",\n      \"properties\": {\n        \"dtype\": \"date\",\n        \"min\": \"2019-05-09 00:00:00\",\n        \"max\": \"2024-06-05 00:00:00\",\n        \"num_unique_values\": 1854,\n        \"samples\": [\n          \"2020-10-29 00:00:00\",\n          \"2023-05-19 00:00:00\"\n        ],\n        \"semantic_type\": \"\",\n        \"description\": \"\"\n      }\n    },\n    {\n      \"column\": \"Medication\",\n      \"properties\": {\n        \"dtype\": \"category\",\n        \"num_unique_values\": 5,\n        \"samples\": [\n          \"Ibuprofen\",\n          \"Lipitor\"\n        ],\n        \"semantic_type\": \"\",\n        \"description\": \"\"\n      }\n    },\n    {\n      \"column\": \"TestResults\",\n      \"properties\": {\n        \"dtype\": \"category\",\n        \"num_unique_values\": 3,\n        \"samples\": [\n          \"Normal\",\n          \"Inconclusive\"\n        ],\n        \"semantic_type\": \"\",\n        \"description\": \"\"\n      }\n    }\n  ]\n}"
            }
          },
          "metadata": {},
          "execution_count": 232
        }
      ],
      "source": [
        "df"
      ]
    },
    {
      "cell_type": "code",
      "execution_count": 233,
      "metadata": {
        "colab": {
          "base_uri": "https://localhost:8080/",
          "height": 261
        },
        "id": "9xiXP4OJMoHD",
        "outputId": "86e117e3-420a-44bc-a8c9-641383c701c0"
      },
      "outputs": [
        {
          "output_type": "execute_result",
          "data": {
            "text/plain": [
              "                   count                           mean                  min  \\\n",
              "Age              24999.0                      51.696108                 18.0   \n",
              "DateofAdmission    24999  2021-10-28 12:20:39.025560832  2019-05-08 00:00:00   \n",
              "BillingAmount    24999.0            14127711482773164.0       144242393735.0   \n",
              "RoomNumber       24999.0                      300.26089                101.0   \n",
              "DischargeDate      24999  2021-11-13 00:07:08.561142528  2019-05-09 00:00:00   \n",
              "\n",
              "                                 25%                  50%  \\\n",
              "Age                             35.0                 52.0   \n",
              "DateofAdmission  2020-07-24 00:00:00  2021-10-30 00:00:00   \n",
              "BillingAmount     3613059209710200.0   7602570703576840.0   \n",
              "RoomNumber                     201.0                301.0   \n",
              "DischargeDate    2020-08-08 12:00:00  2021-11-14 00:00:00   \n",
              "\n",
              "                                 75%                  max                  std  \n",
              "Age                             69.0                 85.0            19.580256  \n",
              "DateofAdmission  2023-01-28 00:00:00  2024-05-07 00:00:00                  NaN  \n",
              "BillingAmount    23272474847778900.0  81541564149807104.0  13810537014963580.0  \n",
              "RoomNumber                     399.0                500.0           115.114697  \n",
              "DischargeDate    2023-02-13 00:00:00  2024-06-05 00:00:00                  NaN  "
            ],
            "text/html": [
              "\n",
              "  <div id=\"df-03f19482-fb89-4c11-84b9-3f4f7c095642\" class=\"colab-df-container\">\n",
              "    <div>\n",
              "<style scoped>\n",
              "    .dataframe tbody tr th:only-of-type {\n",
              "        vertical-align: middle;\n",
              "    }\n",
              "\n",
              "    .dataframe tbody tr th {\n",
              "        vertical-align: top;\n",
              "    }\n",
              "\n",
              "    .dataframe thead th {\n",
              "        text-align: right;\n",
              "    }\n",
              "</style>\n",
              "<table border=\"1\" class=\"dataframe\">\n",
              "  <thead>\n",
              "    <tr style=\"text-align: right;\">\n",
              "      <th></th>\n",
              "      <th>count</th>\n",
              "      <th>mean</th>\n",
              "      <th>min</th>\n",
              "      <th>25%</th>\n",
              "      <th>50%</th>\n",
              "      <th>75%</th>\n",
              "      <th>max</th>\n",
              "      <th>std</th>\n",
              "    </tr>\n",
              "  </thead>\n",
              "  <tbody>\n",
              "    <tr>\n",
              "      <th>Age</th>\n",
              "      <td>24999.0</td>\n",
              "      <td>51.696108</td>\n",
              "      <td>18.0</td>\n",
              "      <td>35.0</td>\n",
              "      <td>52.0</td>\n",
              "      <td>69.0</td>\n",
              "      <td>85.0</td>\n",
              "      <td>19.580256</td>\n",
              "    </tr>\n",
              "    <tr>\n",
              "      <th>DateofAdmission</th>\n",
              "      <td>24999</td>\n",
              "      <td>2021-10-28 12:20:39.025560832</td>\n",
              "      <td>2019-05-08 00:00:00</td>\n",
              "      <td>2020-07-24 00:00:00</td>\n",
              "      <td>2021-10-30 00:00:00</td>\n",
              "      <td>2023-01-28 00:00:00</td>\n",
              "      <td>2024-05-07 00:00:00</td>\n",
              "      <td>NaN</td>\n",
              "    </tr>\n",
              "    <tr>\n",
              "      <th>BillingAmount</th>\n",
              "      <td>24999.0</td>\n",
              "      <td>14127711482773164.0</td>\n",
              "      <td>144242393735.0</td>\n",
              "      <td>3613059209710200.0</td>\n",
              "      <td>7602570703576840.0</td>\n",
              "      <td>23272474847778900.0</td>\n",
              "      <td>81541564149807104.0</td>\n",
              "      <td>13810537014963580.0</td>\n",
              "    </tr>\n",
              "    <tr>\n",
              "      <th>RoomNumber</th>\n",
              "      <td>24999.0</td>\n",
              "      <td>300.26089</td>\n",
              "      <td>101.0</td>\n",
              "      <td>201.0</td>\n",
              "      <td>301.0</td>\n",
              "      <td>399.0</td>\n",
              "      <td>500.0</td>\n",
              "      <td>115.114697</td>\n",
              "    </tr>\n",
              "    <tr>\n",
              "      <th>DischargeDate</th>\n",
              "      <td>24999</td>\n",
              "      <td>2021-11-13 00:07:08.561142528</td>\n",
              "      <td>2019-05-09 00:00:00</td>\n",
              "      <td>2020-08-08 12:00:00</td>\n",
              "      <td>2021-11-14 00:00:00</td>\n",
              "      <td>2023-02-13 00:00:00</td>\n",
              "      <td>2024-06-05 00:00:00</td>\n",
              "      <td>NaN</td>\n",
              "    </tr>\n",
              "  </tbody>\n",
              "</table>\n",
              "</div>\n",
              "    <div class=\"colab-df-buttons\">\n",
              "\n",
              "  <div class=\"colab-df-container\">\n",
              "    <button class=\"colab-df-convert\" onclick=\"convertToInteractive('df-03f19482-fb89-4c11-84b9-3f4f7c095642')\"\n",
              "            title=\"Convert this dataframe to an interactive table.\"\n",
              "            style=\"display:none;\">\n",
              "\n",
              "  <svg xmlns=\"http://www.w3.org/2000/svg\" height=\"24px\" viewBox=\"0 -960 960 960\">\n",
              "    <path d=\"M120-120v-720h720v720H120Zm60-500h600v-160H180v160Zm220 220h160v-160H400v160Zm0 220h160v-160H400v160ZM180-400h160v-160H180v160Zm440 0h160v-160H620v160ZM180-180h160v-160H180v160Zm440 0h160v-160H620v160Z\"/>\n",
              "  </svg>\n",
              "    </button>\n",
              "\n",
              "  <style>\n",
              "    .colab-df-container {\n",
              "      display:flex;\n",
              "      gap: 12px;\n",
              "    }\n",
              "\n",
              "    .colab-df-convert {\n",
              "      background-color: #E8F0FE;\n",
              "      border: none;\n",
              "      border-radius: 50%;\n",
              "      cursor: pointer;\n",
              "      display: none;\n",
              "      fill: #1967D2;\n",
              "      height: 32px;\n",
              "      padding: 0 0 0 0;\n",
              "      width: 32px;\n",
              "    }\n",
              "\n",
              "    .colab-df-convert:hover {\n",
              "      background-color: #E2EBFA;\n",
              "      box-shadow: 0px 1px 2px rgba(60, 64, 67, 0.3), 0px 1px 3px 1px rgba(60, 64, 67, 0.15);\n",
              "      fill: #174EA6;\n",
              "    }\n",
              "\n",
              "    .colab-df-buttons div {\n",
              "      margin-bottom: 4px;\n",
              "    }\n",
              "\n",
              "    [theme=dark] .colab-df-convert {\n",
              "      background-color: #3B4455;\n",
              "      fill: #D2E3FC;\n",
              "    }\n",
              "\n",
              "    [theme=dark] .colab-df-convert:hover {\n",
              "      background-color: #434B5C;\n",
              "      box-shadow: 0px 1px 3px 1px rgba(0, 0, 0, 0.15);\n",
              "      filter: drop-shadow(0px 1px 2px rgba(0, 0, 0, 0.3));\n",
              "      fill: #FFFFFF;\n",
              "    }\n",
              "  </style>\n",
              "\n",
              "    <script>\n",
              "      const buttonEl =\n",
              "        document.querySelector('#df-03f19482-fb89-4c11-84b9-3f4f7c095642 button.colab-df-convert');\n",
              "      buttonEl.style.display =\n",
              "        google.colab.kernel.accessAllowed ? 'block' : 'none';\n",
              "\n",
              "      async function convertToInteractive(key) {\n",
              "        const element = document.querySelector('#df-03f19482-fb89-4c11-84b9-3f4f7c095642');\n",
              "        const dataTable =\n",
              "          await google.colab.kernel.invokeFunction('convertToInteractive',\n",
              "                                                    [key], {});\n",
              "        if (!dataTable) return;\n",
              "\n",
              "        const docLinkHtml = 'Like what you see? Visit the ' +\n",
              "          '<a target=\"_blank\" href=https://colab.research.google.com/notebooks/data_table.ipynb>data table notebook</a>'\n",
              "          + ' to learn more about interactive tables.';\n",
              "        element.innerHTML = '';\n",
              "        dataTable['output_type'] = 'display_data';\n",
              "        await google.colab.output.renderOutput(dataTable, element);\n",
              "        const docLink = document.createElement('div');\n",
              "        docLink.innerHTML = docLinkHtml;\n",
              "        element.appendChild(docLink);\n",
              "      }\n",
              "    </script>\n",
              "  </div>\n",
              "\n",
              "\n",
              "<div id=\"df-c6615e98-a40c-41c3-a3fe-3172f3138c11\">\n",
              "  <button class=\"colab-df-quickchart\" onclick=\"quickchart('df-c6615e98-a40c-41c3-a3fe-3172f3138c11')\"\n",
              "            title=\"Suggest charts\"\n",
              "            style=\"display:none;\">\n",
              "\n",
              "<svg xmlns=\"http://www.w3.org/2000/svg\" height=\"24px\"viewBox=\"0 0 24 24\"\n",
              "     width=\"24px\">\n",
              "    <g>\n",
              "        <path d=\"M19 3H5c-1.1 0-2 .9-2 2v14c0 1.1.9 2 2 2h14c1.1 0 2-.9 2-2V5c0-1.1-.9-2-2-2zM9 17H7v-7h2v7zm4 0h-2V7h2v10zm4 0h-2v-4h2v4z\"/>\n",
              "    </g>\n",
              "</svg>\n",
              "  </button>\n",
              "\n",
              "<style>\n",
              "  .colab-df-quickchart {\n",
              "      --bg-color: #E8F0FE;\n",
              "      --fill-color: #1967D2;\n",
              "      --hover-bg-color: #E2EBFA;\n",
              "      --hover-fill-color: #174EA6;\n",
              "      --disabled-fill-color: #AAA;\n",
              "      --disabled-bg-color: #DDD;\n",
              "  }\n",
              "\n",
              "  [theme=dark] .colab-df-quickchart {\n",
              "      --bg-color: #3B4455;\n",
              "      --fill-color: #D2E3FC;\n",
              "      --hover-bg-color: #434B5C;\n",
              "      --hover-fill-color: #FFFFFF;\n",
              "      --disabled-bg-color: #3B4455;\n",
              "      --disabled-fill-color: #666;\n",
              "  }\n",
              "\n",
              "  .colab-df-quickchart {\n",
              "    background-color: var(--bg-color);\n",
              "    border: none;\n",
              "    border-radius: 50%;\n",
              "    cursor: pointer;\n",
              "    display: none;\n",
              "    fill: var(--fill-color);\n",
              "    height: 32px;\n",
              "    padding: 0;\n",
              "    width: 32px;\n",
              "  }\n",
              "\n",
              "  .colab-df-quickchart:hover {\n",
              "    background-color: var(--hover-bg-color);\n",
              "    box-shadow: 0 1px 2px rgba(60, 64, 67, 0.3), 0 1px 3px 1px rgba(60, 64, 67, 0.15);\n",
              "    fill: var(--button-hover-fill-color);\n",
              "  }\n",
              "\n",
              "  .colab-df-quickchart-complete:disabled,\n",
              "  .colab-df-quickchart-complete:disabled:hover {\n",
              "    background-color: var(--disabled-bg-color);\n",
              "    fill: var(--disabled-fill-color);\n",
              "    box-shadow: none;\n",
              "  }\n",
              "\n",
              "  .colab-df-spinner {\n",
              "    border: 2px solid var(--fill-color);\n",
              "    border-color: transparent;\n",
              "    border-bottom-color: var(--fill-color);\n",
              "    animation:\n",
              "      spin 1s steps(1) infinite;\n",
              "  }\n",
              "\n",
              "  @keyframes spin {\n",
              "    0% {\n",
              "      border-color: transparent;\n",
              "      border-bottom-color: var(--fill-color);\n",
              "      border-left-color: var(--fill-color);\n",
              "    }\n",
              "    20% {\n",
              "      border-color: transparent;\n",
              "      border-left-color: var(--fill-color);\n",
              "      border-top-color: var(--fill-color);\n",
              "    }\n",
              "    30% {\n",
              "      border-color: transparent;\n",
              "      border-left-color: var(--fill-color);\n",
              "      border-top-color: var(--fill-color);\n",
              "      border-right-color: var(--fill-color);\n",
              "    }\n",
              "    40% {\n",
              "      border-color: transparent;\n",
              "      border-right-color: var(--fill-color);\n",
              "      border-top-color: var(--fill-color);\n",
              "    }\n",
              "    60% {\n",
              "      border-color: transparent;\n",
              "      border-right-color: var(--fill-color);\n",
              "    }\n",
              "    80% {\n",
              "      border-color: transparent;\n",
              "      border-right-color: var(--fill-color);\n",
              "      border-bottom-color: var(--fill-color);\n",
              "    }\n",
              "    90% {\n",
              "      border-color: transparent;\n",
              "      border-bottom-color: var(--fill-color);\n",
              "    }\n",
              "  }\n",
              "</style>\n",
              "\n",
              "  <script>\n",
              "    async function quickchart(key) {\n",
              "      const quickchartButtonEl =\n",
              "        document.querySelector('#' + key + ' button');\n",
              "      quickchartButtonEl.disabled = true;  // To prevent multiple clicks.\n",
              "      quickchartButtonEl.classList.add('colab-df-spinner');\n",
              "      try {\n",
              "        const charts = await google.colab.kernel.invokeFunction(\n",
              "            'suggestCharts', [key], {});\n",
              "      } catch (error) {\n",
              "        console.error('Error during call to suggestCharts:', error);\n",
              "      }\n",
              "      quickchartButtonEl.classList.remove('colab-df-spinner');\n",
              "      quickchartButtonEl.classList.add('colab-df-quickchart-complete');\n",
              "    }\n",
              "    (() => {\n",
              "      let quickchartButtonEl =\n",
              "        document.querySelector('#df-c6615e98-a40c-41c3-a3fe-3172f3138c11 button');\n",
              "      quickchartButtonEl.style.display =\n",
              "        google.colab.kernel.accessAllowed ? 'block' : 'none';\n",
              "    })();\n",
              "  </script>\n",
              "</div>\n",
              "\n",
              "    </div>\n",
              "  </div>\n"
            ],
            "application/vnd.google.colaboratory.intrinsic+json": {
              "type": "dataframe",
              "summary": "{\n  \"name\": \"df\",\n  \"rows\": 5,\n  \"fields\": [\n    {\n      \"column\": \"count\",\n      \"properties\": {\n        \"dtype\": \"date\",\n        \"min\": 24999.0,\n        \"max\": 24999.0,\n        \"num_unique_values\": 1,\n        \"samples\": [\n          24999.0\n        ],\n        \"semantic_type\": \"\",\n        \"description\": \"\"\n      }\n    },\n    {\n      \"column\": \"mean\",\n      \"properties\": {\n        \"dtype\": \"date\",\n        \"min\": \"1970-01-01 00:00:00.000000051\",\n        \"max\": \"2021-11-13 00:07:08.561142528\",\n        \"num_unique_values\": 5,\n        \"samples\": [\n          \"2021-10-28 12:20:39.025560832\"\n        ],\n        \"semantic_type\": \"\",\n        \"description\": \"\"\n      }\n    },\n    {\n      \"column\": \"min\",\n      \"properties\": {\n        \"dtype\": \"date\",\n        \"min\": \"1970-01-01 00:00:00.000000018\",\n        \"max\": \"2019-05-09 00:00:00\",\n        \"num_unique_values\": 5,\n        \"samples\": [\n          \"2019-05-08 00:00:00\"\n        ],\n        \"semantic_type\": \"\",\n        \"description\": \"\"\n      }\n    },\n    {\n      \"column\": \"25%\",\n      \"properties\": {\n        \"dtype\": \"date\",\n        \"min\": \"1970-01-01 00:00:00.000000035\",\n        \"max\": \"2020-08-08 12:00:00\",\n        \"num_unique_values\": 5,\n        \"samples\": [\n          \"2020-07-24 00:00:00\"\n        ],\n        \"semantic_type\": \"\",\n        \"description\": \"\"\n      }\n    },\n    {\n      \"column\": \"50%\",\n      \"properties\": {\n        \"dtype\": \"date\",\n        \"min\": \"1970-01-01 00:00:00.000000052\",\n        \"max\": \"2021-11-14 00:00:00\",\n        \"num_unique_values\": 5,\n        \"samples\": [\n          \"2021-10-30 00:00:00\"\n        ],\n        \"semantic_type\": \"\",\n        \"description\": \"\"\n      }\n    },\n    {\n      \"column\": \"75%\",\n      \"properties\": {\n        \"dtype\": \"date\",\n        \"min\": \"1970-01-01 00:00:00.000000069\",\n        \"max\": \"2023-02-13 00:00:00\",\n        \"num_unique_values\": 5,\n        \"samples\": [\n          \"2023-01-28 00:00:00\"\n        ],\n        \"semantic_type\": \"\",\n        \"description\": \"\"\n      }\n    },\n    {\n      \"column\": \"max\",\n      \"properties\": {\n        \"dtype\": \"date\",\n        \"min\": \"1970-01-01 00:00:00.000000085\",\n        \"max\": \"2024-06-05 00:00:00\",\n        \"num_unique_values\": 5,\n        \"samples\": [\n          \"2024-05-07 00:00:00\"\n        ],\n        \"semantic_type\": \"\",\n        \"description\": \"\"\n      }\n    },\n    {\n      \"column\": \"std\",\n      \"properties\": {\n        \"dtype\": \"date\",\n        \"min\": 19.580256488801762,\n        \"max\": 1.381053701496358e+16,\n        \"num_unique_values\": 3,\n        \"samples\": [\n          19.580256488801762\n        ],\n        \"semantic_type\": \"\",\n        \"description\": \"\"\n      }\n    }\n  ]\n}"
            }
          },
          "metadata": {},
          "execution_count": 233
        }
      ],
      "source": [
        "# Calculo las estadísticas descriptivas del dataframe\n",
        "df.describe().T"
      ]
    },
    {
      "cell_type": "code",
      "execution_count": 234,
      "metadata": {
        "colab": {
          "base_uri": "https://localhost:8080/",
          "height": 394
        },
        "id": "z66rFDRgNIse",
        "outputId": "95827ba6-8c92-4e2c-8ff5-a4803a63e142"
      },
      "outputs": [
        {
          "output_type": "execute_result",
          "data": {
            "text/plain": [
              "                   count unique            top   freq\n",
              "First Name         24999    688        Michael    615\n",
              "Last Name          24999   1004          Smith    561\n",
              "Gender             24999      2           Male  12524\n",
              "BloodType          24999      8            AB+   3170\n",
              "MedicalCondition   24999      6      Arthritis   4274\n",
              "Doctor             24999  22096  Michael Smith     11\n",
              "Hospital           24999  21445      Ltd Smith     21\n",
              "InsuranceProvider  24999      6          Cigna   5055\n",
              "AdmissionType      24999      3       Elective   8515\n",
              "Medication         24999      5     Penicillin   5076\n",
              "TestResults        24999      3       Abnormal   8370"
            ],
            "text/html": [
              "\n",
              "  <div id=\"df-73a254af-a1dc-4eb3-abf6-b3e4afd2b3a6\" class=\"colab-df-container\">\n",
              "    <div>\n",
              "<style scoped>\n",
              "    .dataframe tbody tr th:only-of-type {\n",
              "        vertical-align: middle;\n",
              "    }\n",
              "\n",
              "    .dataframe tbody tr th {\n",
              "        vertical-align: top;\n",
              "    }\n",
              "\n",
              "    .dataframe thead th {\n",
              "        text-align: right;\n",
              "    }\n",
              "</style>\n",
              "<table border=\"1\" class=\"dataframe\">\n",
              "  <thead>\n",
              "    <tr style=\"text-align: right;\">\n",
              "      <th></th>\n",
              "      <th>count</th>\n",
              "      <th>unique</th>\n",
              "      <th>top</th>\n",
              "      <th>freq</th>\n",
              "    </tr>\n",
              "  </thead>\n",
              "  <tbody>\n",
              "    <tr>\n",
              "      <th>First Name</th>\n",
              "      <td>24999</td>\n",
              "      <td>688</td>\n",
              "      <td>Michael</td>\n",
              "      <td>615</td>\n",
              "    </tr>\n",
              "    <tr>\n",
              "      <th>Last Name</th>\n",
              "      <td>24999</td>\n",
              "      <td>1004</td>\n",
              "      <td>Smith</td>\n",
              "      <td>561</td>\n",
              "    </tr>\n",
              "    <tr>\n",
              "      <th>Gender</th>\n",
              "      <td>24999</td>\n",
              "      <td>2</td>\n",
              "      <td>Male</td>\n",
              "      <td>12524</td>\n",
              "    </tr>\n",
              "    <tr>\n",
              "      <th>BloodType</th>\n",
              "      <td>24999</td>\n",
              "      <td>8</td>\n",
              "      <td>AB+</td>\n",
              "      <td>3170</td>\n",
              "    </tr>\n",
              "    <tr>\n",
              "      <th>MedicalCondition</th>\n",
              "      <td>24999</td>\n",
              "      <td>6</td>\n",
              "      <td>Arthritis</td>\n",
              "      <td>4274</td>\n",
              "    </tr>\n",
              "    <tr>\n",
              "      <th>Doctor</th>\n",
              "      <td>24999</td>\n",
              "      <td>22096</td>\n",
              "      <td>Michael Smith</td>\n",
              "      <td>11</td>\n",
              "    </tr>\n",
              "    <tr>\n",
              "      <th>Hospital</th>\n",
              "      <td>24999</td>\n",
              "      <td>21445</td>\n",
              "      <td>Ltd Smith</td>\n",
              "      <td>21</td>\n",
              "    </tr>\n",
              "    <tr>\n",
              "      <th>InsuranceProvider</th>\n",
              "      <td>24999</td>\n",
              "      <td>6</td>\n",
              "      <td>Cigna</td>\n",
              "      <td>5055</td>\n",
              "    </tr>\n",
              "    <tr>\n",
              "      <th>AdmissionType</th>\n",
              "      <td>24999</td>\n",
              "      <td>3</td>\n",
              "      <td>Elective</td>\n",
              "      <td>8515</td>\n",
              "    </tr>\n",
              "    <tr>\n",
              "      <th>Medication</th>\n",
              "      <td>24999</td>\n",
              "      <td>5</td>\n",
              "      <td>Penicillin</td>\n",
              "      <td>5076</td>\n",
              "    </tr>\n",
              "    <tr>\n",
              "      <th>TestResults</th>\n",
              "      <td>24999</td>\n",
              "      <td>3</td>\n",
              "      <td>Abnormal</td>\n",
              "      <td>8370</td>\n",
              "    </tr>\n",
              "  </tbody>\n",
              "</table>\n",
              "</div>\n",
              "    <div class=\"colab-df-buttons\">\n",
              "\n",
              "  <div class=\"colab-df-container\">\n",
              "    <button class=\"colab-df-convert\" onclick=\"convertToInteractive('df-73a254af-a1dc-4eb3-abf6-b3e4afd2b3a6')\"\n",
              "            title=\"Convert this dataframe to an interactive table.\"\n",
              "            style=\"display:none;\">\n",
              "\n",
              "  <svg xmlns=\"http://www.w3.org/2000/svg\" height=\"24px\" viewBox=\"0 -960 960 960\">\n",
              "    <path d=\"M120-120v-720h720v720H120Zm60-500h600v-160H180v160Zm220 220h160v-160H400v160Zm0 220h160v-160H400v160ZM180-400h160v-160H180v160Zm440 0h160v-160H620v160ZM180-180h160v-160H180v160Zm440 0h160v-160H620v160Z\"/>\n",
              "  </svg>\n",
              "    </button>\n",
              "\n",
              "  <style>\n",
              "    .colab-df-container {\n",
              "      display:flex;\n",
              "      gap: 12px;\n",
              "    }\n",
              "\n",
              "    .colab-df-convert {\n",
              "      background-color: #E8F0FE;\n",
              "      border: none;\n",
              "      border-radius: 50%;\n",
              "      cursor: pointer;\n",
              "      display: none;\n",
              "      fill: #1967D2;\n",
              "      height: 32px;\n",
              "      padding: 0 0 0 0;\n",
              "      width: 32px;\n",
              "    }\n",
              "\n",
              "    .colab-df-convert:hover {\n",
              "      background-color: #E2EBFA;\n",
              "      box-shadow: 0px 1px 2px rgba(60, 64, 67, 0.3), 0px 1px 3px 1px rgba(60, 64, 67, 0.15);\n",
              "      fill: #174EA6;\n",
              "    }\n",
              "\n",
              "    .colab-df-buttons div {\n",
              "      margin-bottom: 4px;\n",
              "    }\n",
              "\n",
              "    [theme=dark] .colab-df-convert {\n",
              "      background-color: #3B4455;\n",
              "      fill: #D2E3FC;\n",
              "    }\n",
              "\n",
              "    [theme=dark] .colab-df-convert:hover {\n",
              "      background-color: #434B5C;\n",
              "      box-shadow: 0px 1px 3px 1px rgba(0, 0, 0, 0.15);\n",
              "      filter: drop-shadow(0px 1px 2px rgba(0, 0, 0, 0.3));\n",
              "      fill: #FFFFFF;\n",
              "    }\n",
              "  </style>\n",
              "\n",
              "    <script>\n",
              "      const buttonEl =\n",
              "        document.querySelector('#df-73a254af-a1dc-4eb3-abf6-b3e4afd2b3a6 button.colab-df-convert');\n",
              "      buttonEl.style.display =\n",
              "        google.colab.kernel.accessAllowed ? 'block' : 'none';\n",
              "\n",
              "      async function convertToInteractive(key) {\n",
              "        const element = document.querySelector('#df-73a254af-a1dc-4eb3-abf6-b3e4afd2b3a6');\n",
              "        const dataTable =\n",
              "          await google.colab.kernel.invokeFunction('convertToInteractive',\n",
              "                                                    [key], {});\n",
              "        if (!dataTable) return;\n",
              "\n",
              "        const docLinkHtml = 'Like what you see? Visit the ' +\n",
              "          '<a target=\"_blank\" href=https://colab.research.google.com/notebooks/data_table.ipynb>data table notebook</a>'\n",
              "          + ' to learn more about interactive tables.';\n",
              "        element.innerHTML = '';\n",
              "        dataTable['output_type'] = 'display_data';\n",
              "        await google.colab.output.renderOutput(dataTable, element);\n",
              "        const docLink = document.createElement('div');\n",
              "        docLink.innerHTML = docLinkHtml;\n",
              "        element.appendChild(docLink);\n",
              "      }\n",
              "    </script>\n",
              "  </div>\n",
              "\n",
              "\n",
              "<div id=\"df-3fd7dda8-2301-4c48-bcbb-5c23bd395a02\">\n",
              "  <button class=\"colab-df-quickchart\" onclick=\"quickchart('df-3fd7dda8-2301-4c48-bcbb-5c23bd395a02')\"\n",
              "            title=\"Suggest charts\"\n",
              "            style=\"display:none;\">\n",
              "\n",
              "<svg xmlns=\"http://www.w3.org/2000/svg\" height=\"24px\"viewBox=\"0 0 24 24\"\n",
              "     width=\"24px\">\n",
              "    <g>\n",
              "        <path d=\"M19 3H5c-1.1 0-2 .9-2 2v14c0 1.1.9 2 2 2h14c1.1 0 2-.9 2-2V5c0-1.1-.9-2-2-2zM9 17H7v-7h2v7zm4 0h-2V7h2v10zm4 0h-2v-4h2v4z\"/>\n",
              "    </g>\n",
              "</svg>\n",
              "  </button>\n",
              "\n",
              "<style>\n",
              "  .colab-df-quickchart {\n",
              "      --bg-color: #E8F0FE;\n",
              "      --fill-color: #1967D2;\n",
              "      --hover-bg-color: #E2EBFA;\n",
              "      --hover-fill-color: #174EA6;\n",
              "      --disabled-fill-color: #AAA;\n",
              "      --disabled-bg-color: #DDD;\n",
              "  }\n",
              "\n",
              "  [theme=dark] .colab-df-quickchart {\n",
              "      --bg-color: #3B4455;\n",
              "      --fill-color: #D2E3FC;\n",
              "      --hover-bg-color: #434B5C;\n",
              "      --hover-fill-color: #FFFFFF;\n",
              "      --disabled-bg-color: #3B4455;\n",
              "      --disabled-fill-color: #666;\n",
              "  }\n",
              "\n",
              "  .colab-df-quickchart {\n",
              "    background-color: var(--bg-color);\n",
              "    border: none;\n",
              "    border-radius: 50%;\n",
              "    cursor: pointer;\n",
              "    display: none;\n",
              "    fill: var(--fill-color);\n",
              "    height: 32px;\n",
              "    padding: 0;\n",
              "    width: 32px;\n",
              "  }\n",
              "\n",
              "  .colab-df-quickchart:hover {\n",
              "    background-color: var(--hover-bg-color);\n",
              "    box-shadow: 0 1px 2px rgba(60, 64, 67, 0.3), 0 1px 3px 1px rgba(60, 64, 67, 0.15);\n",
              "    fill: var(--button-hover-fill-color);\n",
              "  }\n",
              "\n",
              "  .colab-df-quickchart-complete:disabled,\n",
              "  .colab-df-quickchart-complete:disabled:hover {\n",
              "    background-color: var(--disabled-bg-color);\n",
              "    fill: var(--disabled-fill-color);\n",
              "    box-shadow: none;\n",
              "  }\n",
              "\n",
              "  .colab-df-spinner {\n",
              "    border: 2px solid var(--fill-color);\n",
              "    border-color: transparent;\n",
              "    border-bottom-color: var(--fill-color);\n",
              "    animation:\n",
              "      spin 1s steps(1) infinite;\n",
              "  }\n",
              "\n",
              "  @keyframes spin {\n",
              "    0% {\n",
              "      border-color: transparent;\n",
              "      border-bottom-color: var(--fill-color);\n",
              "      border-left-color: var(--fill-color);\n",
              "    }\n",
              "    20% {\n",
              "      border-color: transparent;\n",
              "      border-left-color: var(--fill-color);\n",
              "      border-top-color: var(--fill-color);\n",
              "    }\n",
              "    30% {\n",
              "      border-color: transparent;\n",
              "      border-left-color: var(--fill-color);\n",
              "      border-top-color: var(--fill-color);\n",
              "      border-right-color: var(--fill-color);\n",
              "    }\n",
              "    40% {\n",
              "      border-color: transparent;\n",
              "      border-right-color: var(--fill-color);\n",
              "      border-top-color: var(--fill-color);\n",
              "    }\n",
              "    60% {\n",
              "      border-color: transparent;\n",
              "      border-right-color: var(--fill-color);\n",
              "    }\n",
              "    80% {\n",
              "      border-color: transparent;\n",
              "      border-right-color: var(--fill-color);\n",
              "      border-bottom-color: var(--fill-color);\n",
              "    }\n",
              "    90% {\n",
              "      border-color: transparent;\n",
              "      border-bottom-color: var(--fill-color);\n",
              "    }\n",
              "  }\n",
              "</style>\n",
              "\n",
              "  <script>\n",
              "    async function quickchart(key) {\n",
              "      const quickchartButtonEl =\n",
              "        document.querySelector('#' + key + ' button');\n",
              "      quickchartButtonEl.disabled = true;  // To prevent multiple clicks.\n",
              "      quickchartButtonEl.classList.add('colab-df-spinner');\n",
              "      try {\n",
              "        const charts = await google.colab.kernel.invokeFunction(\n",
              "            'suggestCharts', [key], {});\n",
              "      } catch (error) {\n",
              "        console.error('Error during call to suggestCharts:', error);\n",
              "      }\n",
              "      quickchartButtonEl.classList.remove('colab-df-spinner');\n",
              "      quickchartButtonEl.classList.add('colab-df-quickchart-complete');\n",
              "    }\n",
              "    (() => {\n",
              "      let quickchartButtonEl =\n",
              "        document.querySelector('#df-3fd7dda8-2301-4c48-bcbb-5c23bd395a02 button');\n",
              "      quickchartButtonEl.style.display =\n",
              "        google.colab.kernel.accessAllowed ? 'block' : 'none';\n",
              "    })();\n",
              "  </script>\n",
              "</div>\n",
              "\n",
              "    </div>\n",
              "  </div>\n"
            ],
            "application/vnd.google.colaboratory.intrinsic+json": {
              "type": "dataframe",
              "summary": "{\n  \"name\": \"df\",\n  \"rows\": 11,\n  \"fields\": [\n    {\n      \"column\": \"count\",\n      \"properties\": {\n        \"dtype\": \"date\",\n        \"min\": \"24999\",\n        \"max\": \"24999\",\n        \"num_unique_values\": 1,\n        \"samples\": [\n          \"24999\"\n        ],\n        \"semantic_type\": \"\",\n        \"description\": \"\"\n      }\n    },\n    {\n      \"column\": \"unique\",\n      \"properties\": {\n        \"dtype\": \"date\",\n        \"min\": 2,\n        \"max\": 22096,\n        \"num_unique_values\": 9,\n        \"samples\": [\n          3\n        ],\n        \"semantic_type\": \"\",\n        \"description\": \"\"\n      }\n    },\n    {\n      \"column\": \"top\",\n      \"properties\": {\n        \"dtype\": \"string\",\n        \"num_unique_values\": 11,\n        \"samples\": [\n          \"Michael Smith\"\n        ],\n        \"semantic_type\": \"\",\n        \"description\": \"\"\n      }\n    },\n    {\n      \"column\": \"freq\",\n      \"properties\": {\n        \"dtype\": \"date\",\n        \"min\": \"11\",\n        \"max\": \"12524\",\n        \"num_unique_values\": 11,\n        \"samples\": [\n          \"11\"\n        ],\n        \"semantic_type\": \"\",\n        \"description\": \"\"\n      }\n    }\n  ]\n}"
            }
          },
          "metadata": {},
          "execution_count": 234
        }
      ],
      "source": [
        "df.describe(include=['object']).T"
      ]
    },
    {
      "cell_type": "code",
      "source": [
        "# Agrego StayDuration. Otro parámetro a cruzar, por ejemplo, con Billing Amount\n",
        "df['StayDuration'] = (df['DischargeDate'] - df['DateofAdmission']).dt.days\n",
        "print(df['StayDuration'].describe())"
      ],
      "metadata": {
        "colab": {
          "base_uri": "https://localhost:8080/"
        },
        "id": "G34t2Szq-HZr",
        "outputId": "a68d51a2-37e6-4a6e-bd18-5e30143b4f6b"
      },
      "execution_count": 235,
      "outputs": [
        {
          "output_type": "stream",
          "name": "stdout",
          "text": [
            "count    24999.000000\n",
            "mean        15.490620\n",
            "std          8.644589\n",
            "min          1.000000\n",
            "25%          8.000000\n",
            "50%         16.000000\n",
            "75%         23.000000\n",
            "max         30.000000\n",
            "Name: StayDuration, dtype: float64\n"
          ]
        }
      ]
    },
    {
      "cell_type": "markdown",
      "source": [
        "**Defino Colores y Estilos, antes de realizar gráficos.**"
      ],
      "metadata": {
        "id": "wJLBS7nmjR76"
      }
    },
    {
      "cell_type": "code",
      "source": [
        "# Definición de colores y estilo\n",
        "sns.set_palette(\"pastel\")\n",
        "sns.set_style(\"whitegrid\")\n",
        "\n",
        "plt.style.use('ggplot')\n",
        "colors = ['#4C72B0', '#55A868', '#C44E52', '#8172B2', '#CCB974', '#64B5CD']\n",
        "plt.rcParams['axes.prop_cycle'] = plt.cycler(color=colors)"
      ],
      "metadata": {
        "id": "vU-7iX2Zjb8Z"
      },
      "execution_count": 236,
      "outputs": []
    },
    {
      "cell_type": "markdown",
      "metadata": {
        "id": "g4oNLO7ritJN"
      },
      "source": [
        "**Cálculo del Costo Total para el Hospital**"
      ]
    },
    {
      "cell_type": "code",
      "execution_count": 237,
      "metadata": {
        "colab": {
          "base_uri": "https://localhost:8080/"
        },
        "id": "5klp23qCi0dY",
        "outputId": "b4dec89b-aedf-4d00-827b-be41b5bca13b"
      },
      "outputs": [
        {
          "output_type": "stream",
          "name": "stdout",
          "text": [
            "2,690,521,957,364,844,397\n"
          ]
        }
      ],
      "source": [
        "costo_total = df['BillingAmount'].sum()\n",
        "print('{:,}'.format(costo_total))"
      ]
    },
    {
      "cell_type": "markdown",
      "metadata": {
        "id": "_Q3nGhT4jFKU"
      },
      "source": [
        "Cálculo del Costo Total para el Hospital,\n",
        "Agrupación por diferentes Categorías, **(por Condición Médica).**"
      ]
    },
    {
      "cell_type": "code",
      "execution_count": 238,
      "metadata": {
        "colab": {
          "base_uri": "https://localhost:8080/"
        },
        "id": "s_NhsEdUjO-c",
        "outputId": "c0ae39bd-803d-4182-cbf9-2b058fcd2f58"
      },
      "outputs": [
        {
          "output_type": "stream",
          "name": "stdout",
          "text": [
            "MedicalCondition\n",
            "Arthritis       4,847,688,873,881,365,308\n",
            "Asthma          2,486,396,356,089,029,687\n",
            "Cancer          2,864,787,209,464,263,339\n",
            "Diabetes        3,448,804,847,901,741,981\n",
            "Hypertension    4,544,522,496,212,492,009\n",
            "Obesity         2,945,066,247,525,503,689\n",
            "Name: BillingAmount, dtype: object\n"
          ]
        }
      ],
      "source": [
        "costo_por_condicion = df.groupby('MedicalCondition')['BillingAmount'].sum()\n",
        "costo_por_condicion_formateado = costo_por_condicion.apply('{:,}'.format)\n",
        "print(costo_por_condicion_formateado)"
      ]
    },
    {
      "cell_type": "code",
      "execution_count": 239,
      "metadata": {
        "colab": {
          "base_uri": "https://localhost:8080/",
          "height": 396
        },
        "id": "e01yGUFSlZrs",
        "outputId": "3359a21b-5995-4f1e-ecce-7d203d9e17de"
      },
      "outputs": [
        {
          "output_type": "display_data",
          "data": {
            "text/plain": [
              "<Figure size 1000x600 with 1 Axes>"
            ],
            "image/png": "[encoded data removed]"
          },
          "metadata": {}
        }
      ],
      "source": [
        "import matplotlib.pyplot as plt\n",
        "\n",
        "costo_por_condicion = df.groupby('MedicalCondition')['BillingAmount'].sum()\n",
        "\n",
        "\n",
        "plt.figure(figsize=(10, 6))  # Ajusto el tamaño del gráfico\n",
        "costo_por_condicion.sort_values().plot(kind='bar')\n",
        "plt.xlabel('Condición Médica')\n",
        "plt.ylabel('Costo Total')\n",
        "plt.title('Costo Total por Condición Médica')\n",
        "plt.xticks(rotation=45, ha='right')  # Roto las etiquetas del eje x para mayor legibilidad\n",
        "plt.tight_layout()  # Ajusto el diseño, para evitar superposiciones\n",
        "plt.show()"
      ]
    },
    {
      "cell_type": "markdown",
      "source": [
        "# **PREPROCESAMIENTO DE DATOS**"
      ],
      "metadata": {
        "id": "NvIcds3p5zaf"
      }
    },
    {
      "cell_type": "markdown",
      "metadata": {
        "id": "MRv1594L1Srs"
      },
      "source": [
        "# Aclaración sobre la Eliminación de Valores NaN (Not a Number).\n",
        "**Previamente, había verificado una gran cantidad de datos NaN, (18.635); (Con el Formato.csv).**\n",
        "\n",
        "Donde salvo el campo 'Name', (Con Cero valor faltante); en los otros datos o celdas, se mantenía la misma cantidad de faltantes. **Era Constante**.\n",
        "\n",
        "En principio, decidí eliminarlos, ya que entorpecían al modelo con el que estoy trabajando.\n",
        "\n",
        "**Finalmente, para solucionarlo, cambié el Formato a Excel, (.xlsx) y de esa manera, quedó solucionado.**"
      ]
    },
    {
      "cell_type": "markdown",
      "metadata": {
        "id": "-VGfXnktLW8F"
      },
      "source": [
        "# **Limpieza y transformación de datos**"
      ]
    },
    {
      "cell_type": "markdown",
      "metadata": {
        "id": "SWdhsnJfNASj"
      },
      "source": [
        "**Valores Duplicados**"
      ]
    },
    {
      "cell_type": "code",
      "execution_count": 240,
      "metadata": {
        "colab": {
          "base_uri": "https://localhost:8080/"
        },
        "id": "4TsiFlHtNEDq",
        "outputId": "06d5b20a-4d91-4569-b71f-eced5935f0e2"
      },
      "outputs": [
        {
          "output_type": "execute_result",
          "data": {
            "text/plain": [
              "0"
            ]
          },
          "metadata": {},
          "execution_count": 240
        }
      ],
      "source": [
        "df.duplicated().sum()"
      ]
    },
    {
      "cell_type": "markdown",
      "metadata": {
        "id": "QX_ke1rVNKOu"
      },
      "source": [
        "**Valores Nulos**"
      ]
    },
    {
      "cell_type": "code",
      "execution_count": 241,
      "metadata": {
        "colab": {
          "base_uri": "https://localhost:8080/",
          "height": 617
        },
        "id": "oeoTh4s5KkAx",
        "outputId": "b6b62af0-f3fb-482d-d11c-013c46841aab"
      },
      "outputs": [
        {
          "output_type": "execute_result",
          "data": {
            "text/plain": [
              "First Name           0\n",
              "Last Name            0\n",
              "Age                  0\n",
              "Gender               0\n",
              "BloodType            0\n",
              "MedicalCondition     0\n",
              "DateofAdmission      0\n",
              "Doctor               0\n",
              "Hospital             0\n",
              "InsuranceProvider    0\n",
              "BillingAmount        0\n",
              "RoomNumber           0\n",
              "AdmissionType        0\n",
              "DischargeDate        0\n",
              "Medication           0\n",
              "TestResults          0\n",
              "StayDuration         0\n",
              "dtype: int64"
            ],
            "text/html": [
              "<div>\n",
              "<style scoped>\n",
              "    .dataframe tbody tr th:only-of-type {\n",
              "        vertical-align: middle;\n",
              "    }\n",
              "\n",
              "    .dataframe tbody tr th {\n",
              "        vertical-align: top;\n",
              "    }\n",
              "\n",
              "    .dataframe thead th {\n",
              "        text-align: right;\n",
              "    }\n",
              "</style>\n",
              "<table border=\"1\" class=\"dataframe\">\n",
              "  <thead>\n",
              "    <tr style=\"text-align: right;\">\n",
              "      <th></th>\n",
              "      <th>0</th>\n",
              "    </tr>\n",
              "  </thead>\n",
              "  <tbody>\n",
              "    <tr>\n",
              "      <th>First Name</th>\n",
              "      <td>0</td>\n",
              "    </tr>\n",
              "    <tr>\n",
              "      <th>Last Name</th>\n",
              "      <td>0</td>\n",
              "    </tr>\n",
              "    <tr>\n",
              "      <th>Age</th>\n",
              "      <td>0</td>\n",
              "    </tr>\n",
              "    <tr>\n",
              "      <th>Gender</th>\n",
              "      <td>0</td>\n",
              "    </tr>\n",
              "    <tr>\n",
              "      <th>BloodType</th>\n",
              "      <td>0</td>\n",
              "    </tr>\n",
              "    <tr>\n",
              "      <th>MedicalCondition</th>\n",
              "      <td>0</td>\n",
              "    </tr>\n",
              "    <tr>\n",
              "      <th>DateofAdmission</th>\n",
              "      <td>0</td>\n",
              "    </tr>\n",
              "    <tr>\n",
              "      <th>Doctor</th>\n",
              "      <td>0</td>\n",
              "    </tr>\n",
              "    <tr>\n",
              "      <th>Hospital</th>\n",
              "      <td>0</td>\n",
              "    </tr>\n",
              "    <tr>\n",
              "      <th>InsuranceProvider</th>\n",
              "      <td>0</td>\n",
              "    </tr>\n",
              "    <tr>\n",
              "      <th>BillingAmount</th>\n",
              "      <td>0</td>\n",
              "    </tr>\n",
              "    <tr>\n",
              "      <th>RoomNumber</th>\n",
              "      <td>0</td>\n",
              "    </tr>\n",
              "    <tr>\n",
              "      <th>AdmissionType</th>\n",
              "      <td>0</td>\n",
              "    </tr>\n",
              "    <tr>\n",
              "      <th>DischargeDate</th>\n",
              "      <td>0</td>\n",
              "    </tr>\n",
              "    <tr>\n",
              "      <th>Medication</th>\n",
              "      <td>0</td>\n",
              "    </tr>\n",
              "    <tr>\n",
              "      <th>TestResults</th>\n",
              "      <td>0</td>\n",
              "    </tr>\n",
              "    <tr>\n",
              "      <th>StayDuration</th>\n",
              "      <td>0</td>\n",
              "    </tr>\n",
              "  </tbody>\n",
              "</table>\n",
              "</div><br><label><b>dtype:</b> int64</label>"
            ]
          },
          "metadata": {},
          "execution_count": 241
        }
      ],
      "source": [
        "df.isnull().sum()"
      ]
    },
    {
      "cell_type": "markdown",
      "metadata": {
        "id": "ErjLSLTPQJn_"
      },
      "source": [
        "# **Valores Outliers**"
      ]
    },
    {
      "cell_type": "code",
      "execution_count": 242,
      "metadata": {
        "colab": {
          "base_uri": "https://localhost:8080/",
          "height": 439
        },
        "id": "segqhw6KQaxc",
        "outputId": "02c3e9b7-c89b-48ca-cbc1-a96ed312b5c4"
      },
      "outputs": [
        {
          "output_type": "display_data",
          "data": {
            "text/plain": [
              "<Figure size 1500x1000 with 4 Axes>"
            ],
            "image/png": "[encoded data removed]"
          },
          "metadata": {}
        }
      ],
      "source": [
        "numeric_columns = df.select_dtypes(include=['int64', 'float64'])\n",
        "\n",
        "# Calculo el número de filas y columnas para los subgráficos\n",
        "num_vars = len(numeric_columns.columns)\n",
        "num_rows = (num_vars // 3) + (1 if num_vars % 3 > 0 else 0)\n",
        "num_cols = min(num_vars, 3)\n",
        "\n",
        "# Configuro el tamaño de la figura\n",
        "plt.figure(figsize=(15, 5*num_rows))\n",
        "\n",
        "# Genero y muestro los diagramas de caja, para cada variable numérica\n",
        "for i, col in enumerate(numeric_columns.columns):\n",
        "    plt.subplot(num_rows, num_cols, i+1)\n",
        "    sns.boxplot(x=df[col])\n",
        "    plt.title(\"Boxplot de {}\".format(col))\n",
        "    plt.tight_layout()\n",
        "\n",
        "plt.show()"
      ]
    },
    {
      "cell_type": "markdown",
      "source": [
        "# **Puedo visualizar una gran cantidad de outliers, en el Boxplot de Billing Amount.**\n",
        "\n",
        "Considero las siguientes opciones:\n",
        "\n",
        "1. **Investigar la causa de los Outliers:**\n",
        "\n",
        "¿Representan errores de medición o son valores reales?\n",
        "¿Hay algún patrón en los outliers?\n",
        "Por ejemplo, ¿están asociados a ciertas condiciones médicas, tipos de admisión o rangos de edad?\n",
        "¿Podrían deberse a factores externos, como cambios en los costos de los servicios médicos?\n",
        "\n",
        "Al haberse generado el dataset de manera ficticia, los importes de 'Billing Amount', son muy desproporcionados.\n",
        "Incluso había muchísimos casos de importes Negativos.\n",
        "A los que he Normalizado.\n",
        "\n",
        "2. **Considerar la transformación de la variable**:\n",
        "\n",
        "Dado que \"Billing Amount\" representa un costo, es posible que una transformación logarítmica, ayude a reducir la influencia de los outliers y mejorar la distribución de los datos.\n",
        "\n",
        "Probaré aplicar np.log(), a la columna \"Billing Amount\" y luego generar un nuevo boxplot, para ver si la cantidad de outliers se reduce.\n",
        "3. Evaluar métodos robustos para el modelado:\n",
        "\n",
        "Si decido mantener los outliers en el dataset, puedo considerar utilizar algoritmos de machine learning que sean menos sensibles a ellos, como Random Forest o Support Vector Machines.\n",
        "Estos modelos pueden manejar mejor la presencia de outliers sin verse afectados significativamente en su rendimiento."
      ],
      "metadata": {
        "id": "exoW8C719w3g"
      }
    },
    {
      "cell_type": "markdown",
      "source": [
        "# Buscaré realizar una Transformación Logarítmica, de \"Billing Amount\".\n",
        "\n",
        "* Puede ayudar a reducir la influencia de los outliers y mejorar la distribución de los datos."
      ],
      "metadata": {
        "id": "yl1dC4_ZYRMv"
      }
    },
    {
      "cell_type": "code",
      "source": [
        "# 1. Creo una nueva columna con la transformación logarítmica\n",
        "df['Billing Amount Log'] = np.log(df['BillingAmount'])"
      ],
      "metadata": {
        "id": "HjxP5LHqY27c"
      },
      "execution_count": 243,
      "outputs": []
    },
    {
      "cell_type": "code",
      "source": [
        "# 2. Genero el boxplot de la columna transformada\n",
        "plt.figure(figsize=(8, 6))\n",
        "sns.boxplot(x=np.log(df['BillingAmount'])) # Usamos la transformación que ya aplicamos\n",
        "plt.title(\"Boxplot de Billing Amount (Transformación Logarítmica)\")\n",
        "plt.show()"
      ],
      "metadata": {
        "colab": {
          "base_uri": "https://localhost:8080/",
          "height": 566
        },
        "id": "gPLmzwIoaUi4",
        "outputId": "20496d9b-d2c8-4f9e-fadb-b9390919e9ba"
      },
      "execution_count": 244,
      "outputs": [
        {
          "output_type": "display_data",
          "data": {
            "text/plain": [
              "<Figure size 800x600 with 1 Axes>"
            ],
            "image/png": "[encoded data removed]"
          },
          "metadata": {}
        }
      ]
    },
    {
      "cell_type": "markdown",
      "source": [
        "**3. Evaluación:** Observo el nuevo boxplot y lo comparo con el original.\n",
        "\n",
        "**Aún verifico una alta cantidad de outliers.**\n",
        "\n",
        "Puedo intentar otras transformaciones o considerar utilizar un modelo robusto a outliers.\n",
        "\n",
        "**4. Razonamiento:**\n",
        "\n",
        "La transformación logarítmica comprime los valores altos, reduciendo la influencia de los outliers en la visualización. Esto permite una mejor apreciación de la distribución de los datos y facilita la identificación de patrones.\n",
        "\n",
        "**Pasos adicionales:**\n",
        "\n",
        "*Si la transformación logarítmica no es suficiente*, **puedo considerar otras transformaciones como la raíz cuadrada o la inversa, directamente sobre los datos originales.**\n",
        "\n",
        "Si decido mantener los outliers, debo recordar elegir un modelo robusto a su presencia."
      ],
      "metadata": {
        "id": "epelhkFea9RS"
      }
    },
    {
      "cell_type": "markdown",
      "source": [
        "\n",
        "\n",
        "---\n",
        "\n",
        "Ahora y primero que nada, necesito **Eliminar la Columna 'Billing Amount Log'**, de mi DataFrame df, dado que no ha dado resultado la Transformación Logarítmica.\n",
        "\n",
        "Utilizaré el método drop().\n",
        "\n",
        "Esto es para evitar problemas en el tratamiento del DataFrame."
      ],
      "metadata": {
        "id": "fH_RKw2CZw4l"
      }
    },
    {
      "cell_type": "code",
      "source": [
        "df = df.drop('Billing Amount Log', axis=1)"
      ],
      "metadata": {
        "id": "XcrWkT_aaljz"
      },
      "execution_count": 245,
      "outputs": []
    },
    {
      "cell_type": "code",
      "source": [
        "df.info()"
      ],
      "metadata": {
        "colab": {
          "base_uri": "https://localhost:8080/"
        },
        "id": "WjQnIq7abcOV",
        "outputId": "54c24cc3-6ecb-4c3c-8fd1-ef28ebf2dfbc"
      },
      "execution_count": 246,
      "outputs": [
        {
          "output_type": "stream",
          "name": "stdout",
          "text": [
            "<class 'pandas.core.frame.DataFrame'>\n",
            "RangeIndex: 24999 entries, 0 to 24998\n",
            "Data columns (total 17 columns):\n",
            " #   Column             Non-Null Count  Dtype         \n",
            "---  ------             --------------  -----         \n",
            " 0   First Name         24999 non-null  object        \n",
            " 1   Last Name          24999 non-null  object        \n",
            " 2   Age                24999 non-null  int64         \n",
            " 3   Gender             24999 non-null  object        \n",
            " 4   BloodType          24999 non-null  object        \n",
            " 5   MedicalCondition   24999 non-null  object        \n",
            " 6   DateofAdmission    24999 non-null  datetime64[ns]\n",
            " 7   Doctor             24999 non-null  object        \n",
            " 8   Hospital           24999 non-null  object        \n",
            " 9   InsuranceProvider  24999 non-null  object        \n",
            " 10  BillingAmount      24999 non-null  int64         \n",
            " 11  RoomNumber         24999 non-null  int64         \n",
            " 12  AdmissionType      24999 non-null  object        \n",
            " 13  DischargeDate      24999 non-null  datetime64[ns]\n",
            " 14  Medication         24999 non-null  object        \n",
            " 15  TestResults        24999 non-null  object        \n",
            " 16  StayDuration       24999 non-null  int64         \n",
            "dtypes: datetime64[ns](2), int64(4), object(11)\n",
            "memory usage: 3.2+ MB\n"
          ]
        }
      ]
    },
    {
      "cell_type": "markdown",
      "source": [
        "\n",
        "\n",
        "---\n",
        "\n",
        "\n",
        "# **1. Transformación de Raíz Cuadrada:**"
      ],
      "metadata": {
        "id": "fDAtDiMEbIiy"
      }
    },
    {
      "cell_type": "code",
      "source": [
        "# Creo una nueva columna con la transformación de raíz cuadrada\n",
        "df['Billing Amount Sqrt'] = np.sqrt(df['BillingAmount'])"
      ],
      "metadata": {
        "id": "dpsBGrbbd3Y6"
      },
      "execution_count": 247,
      "outputs": []
    },
    {
      "cell_type": "code",
      "source": [
        "# 1. Calculo el rango intercuartílico (IQR)\n",
        "Q1 = df['Billing Amount Sqrt'].quantile(0.25)\n",
        "Q3 = df['Billing Amount Sqrt'].quantile(0.75)\n",
        "IQR = Q3 - Q1\n",
        "\n",
        "# 2. Defino los límites para detectar outliers\n",
        "limite_inferior = Q1 - 1.5 * IQR\n",
        "limite_superior = Q3 + 1.5 * IQR\n",
        "\n",
        "# 3. Reemplazo los outliers con el límite correspondiente\n",
        "df['Billing Amount Sqrt'] = np.where(\n",
        "    df['Billing Amount Sqrt'] < limite_inferior,\n",
        "    limite_inferior,\n",
        "    np.where(\n",
        "        df['Billing Amount Sqrt'] > limite_superior,\n",
        "        limite_superior,\n",
        "        df['Billing Amount Sqrt']\n",
        "    )\n",
        ")"
      ],
      "metadata": {
        "id": "GezX_Vvzpea6"
      },
      "execution_count": 248,
      "outputs": []
    },
    {
      "cell_type": "markdown",
      "source": [
        "**2. Nuevo boxplot:**"
      ],
      "metadata": {
        "id": "vV0z8DkqeCKp"
      }
    },
    {
      "cell_type": "code",
      "source": [
        "# Genero el boxplot de la nueva columna\n",
        "plt.figure(figsize=(8, 6))\n",
        "sns.boxplot(x=df['Billing Amount Sqrt'])\n",
        "plt.title(\"Boxplot de Billing Amount (Transformación Raíz Cuadrada)\")\n",
        "plt.show()"
      ],
      "metadata": {
        "colab": {
          "base_uri": "https://localhost:8080/",
          "height": 566
        },
        "id": "1lJd7sw1eG8p",
        "outputId": "7947719e-17a5-4807-ab38-d05bc97abcff"
      },
      "execution_count": 249,
      "outputs": [
        {
          "output_type": "display_data",
          "data": {
            "text/plain": [
              "<Figure size 800x600 with 1 Axes>"
            ],
            "image/png": "[encoded data removed]"
          },
          "metadata": {}
        }
      ]
    },
    {
      "cell_type": "markdown",
      "source": [
        "# Explicación:\n",
        "\n",
        "Quiero limpiar los outliers.\n",
        "\n",
        "Cálculo del IQR: Calculamos el rango intercuartílico (IQR) para identificar la dispersión de los datos.\n",
        "Definición de límites: Definimos los límites inferior y superior para detectar outliers, utilizando el IQR y un factor de 1.5.\n",
        "Reemplazo de outliers: Reemplazamos los valores que caen fuera de estos límites, con el límite correspondiente.\n",
        "Esto ayuda a reducir el impacto de los outliers en los modelos."
      ],
      "metadata": {
        "id": "Tz3BsSjwp7cb"
      }
    },
    {
      "cell_type": "markdown",
      "source": [
        "**3. Evaluación:**\n",
        "Ahora comparo este nuevo boxplot, con el original y con el de la transformación logarítmica.\n",
        "Evalúo cuál de las dos transformaciones, reduce mejor la influencia de los outliers y mejora la distribución de los datos para tu análisis.\n",
        "\n",
        "Claramente, **la Transformación de Raíz Cuadrada**, ha sido la mejor opción.\n",
        "\n",
        "**Razón por la cual, decido utilizar la columna 'Billing Amount Sqrt', en mis modelos de Machine Learning.**\n",
        "\n",
        "Debo aplicarla también a los datos de prueba, antes de hacer predicciones.\n",
        "\n",
        "**Razonamiento:**\n",
        "\n",
        "Aplicar transformaciones consecutivas puede distorsionar la interpretación de los datos.\n",
        "\n",
        "La raíz cuadrada, al igual que el logaritmo, comprime los valores altos, pero de forma menos drástica.\n",
        "\n",
        "Es importante elegir la transformación que mejor se adapte a la naturaleza de los datos y al objetivo del análisis.\n",
        "\n",
        "La elección de la transformación, puede afectar el rendimiento de los modelos de Machine Learning, que utilice posteriormente."
      ],
      "metadata": {
        "id": "trOfuB8geaPD"
      }
    },
    {
      "cell_type": "code",
      "source": [
        "df.info()"
      ],
      "metadata": {
        "colab": {
          "base_uri": "https://localhost:8080/"
        },
        "id": "to1qgSCJQE5C",
        "outputId": "295a806f-53fd-40a9-e314-f5972011202e"
      },
      "execution_count": 250,
      "outputs": [
        {
          "output_type": "stream",
          "name": "stdout",
          "text": [
            "<class 'pandas.core.frame.DataFrame'>\n",
            "RangeIndex: 24999 entries, 0 to 24998\n",
            "Data columns (total 18 columns):\n",
            " #   Column               Non-Null Count  Dtype         \n",
            "---  ------               --------------  -----         \n",
            " 0   First Name           24999 non-null  object        \n",
            " 1   Last Name            24999 non-null  object        \n",
            " 2   Age                  24999 non-null  int64         \n",
            " 3   Gender               24999 non-null  object        \n",
            " 4   BloodType            24999 non-null  object        \n",
            " 5   MedicalCondition     24999 non-null  object        \n",
            " 6   DateofAdmission      24999 non-null  datetime64[ns]\n",
            " 7   Doctor               24999 non-null  object        \n",
            " 8   Hospital             24999 non-null  object        \n",
            " 9   InsuranceProvider    24999 non-null  object        \n",
            " 10  BillingAmount        24999 non-null  int64         \n",
            " 11  RoomNumber           24999 non-null  int64         \n",
            " 12  AdmissionType        24999 non-null  object        \n",
            " 13  DischargeDate        24999 non-null  datetime64[ns]\n",
            " 14  Medication           24999 non-null  object        \n",
            " 15  TestResults          24999 non-null  object        \n",
            " 16  StayDuration         24999 non-null  int64         \n",
            " 17  Billing Amount Sqrt  24999 non-null  float64       \n",
            "dtypes: datetime64[ns](2), float64(1), int64(4), object(11)\n",
            "memory usage: 3.4+ MB\n"
          ]
        }
      ]
    },
    {
      "cell_type": "markdown",
      "source": [
        "**Para comparar la media, mediana, desviación estándar, mínimo y máximo de una variable numérica, puedo crear una función en Python, que calcule estas estadísticas y las presente de forma organizada**."
      ],
      "metadata": {
        "id": "ZJFU044M_8w8"
      }
    },
    {
      "cell_type": "code",
      "source": [
        " import numpy as np\n",
        "\n",
        "def comparar_estadisticas(data):\n",
        "  \"\"\"\n",
        "  Calcula y compara la media, mediana, desviación estándar, mínimo y máximo de un conjunto de datos.\n",
        "\n",
        "  Args:\n",
        "    data: Un array de NumPy o una lista de valores numéricos.\n",
        "\n",
        "  Returns:\n",
        "    Un diccionario con las estadísticas calculadas.\n",
        "  \"\"\"\n",
        "\n",
        "  media = np.mean(data)\n",
        "  mediana = np.median(data)\n",
        "  desviacion_estandar = np.std(data)\n",
        "  minimo = np.min(data)\n",
        "  maximo = np.max(data)\n",
        "\n",
        "  return {\n",
        "      \"media\": media,\n",
        "      \"mediana\": mediana,\n",
        "      \"desviacion_estandar\": desviacion_estandar,\n",
        "      \"minimo\": minimo,\n",
        "      \"maximo\": maximo\n",
        "  }\n",
        "\n",
        "# Ejemplo de uso con la columna transformada\n",
        "datos = df['Billing Amount Sqrt']  # Usamos la columna con la transformación de raíz cuadrada\n",
        "estadisticas = comparar_estadisticas(datos)\n",
        "\n",
        "for key, value in estadisticas.items():\n",
        "  print(f\"{key}: {value}\")"
      ],
      "metadata": {
        "colab": {
          "base_uri": "https://localhost:8080/"
        },
        "id": "q3Pdroh9AMP5",
        "outputId": "0593a416-8dbf-4629-d313-d19ed9ea75b4"
      },
      "execution_count": 251,
      "outputs": [
        {
          "output_type": "stream",
          "name": "stdout",
          "text": [
            "media: 104341652.99176972\n",
            "mediana: 87192721.6204245\n",
            "desviacion_estandar: 56925661.4693082\n",
            "minimo: 379792.566718992\n",
            "maximo: 285554835.62672704\n"
          ]
        }
      ]
    },
    {
      "cell_type": "markdown",
      "source": [
        "**En el Dataset, tenía varios valores negativos. Los he normalizado. Trabajando sobre el mismo.**"
      ],
      "metadata": {
        "id": "qXD4JjpnCPD3"
      }
    },
    {
      "cell_type": "markdown",
      "metadata": {
        "id": "Om0-HQLsfFp7"
      },
      "source": [
        "\n",
        "\n",
        "---\n",
        "\n",
        "\n",
        "# **Análisis Exploratorio de Datos (EDA)**"
      ]
    },
    {
      "cell_type": "markdown",
      "metadata": {
        "id": "V-tGzILHRXtn"
      },
      "source": [
        "**Análisis Univariado**"
      ]
    },
    {
      "cell_type": "code",
      "execution_count": 252,
      "metadata": {
        "colab": {
          "base_uri": "https://localhost:8080/",
          "height": 675
        },
        "id": "s4I2tGBNRia8",
        "outputId": "03386f63-e025-488c-da3f-d627e48bc289"
      },
      "outputs": [
        {
          "output_type": "display_data",
          "data": {
            "text/plain": [
              "<Figure size 800x800 with 1 Axes>"
            ],
            "image/png": "[encoded data removed]"
          },
          "metadata": {}
        }
      ],
      "source": [
        "gender_counts = df['Gender'].value_counts()\n",
        "\n",
        "plt.figure(figsize=(8, 8))\n",
        "plt.pie(gender_counts, labels=gender_counts.index, autopct='%1.1f%%', startangle=140, colors=sns.color_palette(\"viridis\", len(gender_counts)))\n",
        "\n",
        "plt.title('Distribución de Género')\n",
        "\n",
        "plt.show()"
      ]
    },
    {
      "cell_type": "markdown",
      "metadata": {
        "id": "HQ6CCVtfOLLE"
      },
      "source": [
        "**Distribución de las variables numéricas \"Age\" y \"Billing Amount\" en el DataFrame:**"
      ]
    },
    {
      "cell_type": "code",
      "execution_count": 253,
      "metadata": {
        "colab": {
          "base_uri": "https://localhost:8080/",
          "height": 977
        },
        "id": "mOexTV9TOWOe",
        "outputId": "754da9c8-2d60-47d4-cc2a-7d72335b6949"
      },
      "outputs": [
        {
          "output_type": "display_data",
          "data": {
            "text/plain": [
              "<Figure size 800x600 with 1 Axes>"
            ],
            "image/png": "[encoded data removed]"
          },
          "metadata": {}
        },
        {
          "output_type": "display_data",
          "data": {
            "text/plain": [
              "<Figure size 800x600 with 1 Axes>"
            ],
            "image/png": "[encoded data removed]"
          },
          "metadata": {}
        }
      ],
      "source": [
        "import matplotlib.pyplot as plt\n",
        "\n",
        "# Histograma para la variable \"Age\"\n",
        "plt.figure(figsize=(8, 6))  # Ajusta el tamaño de la figura si es necesario\n",
        "plt.hist(df['Age'], bins=10)  # Ajusta el número de bins según tus necesidades\n",
        "plt.xlabel('Edad')\n",
        "plt.ylabel('Frecuencia')\n",
        "plt.title('Distribución de Edad')\n",
        "plt.show()\n",
        "\n",
        "# Histograma para la variable \"Billing Amount Sqrt\"\n",
        "plt.figure(figsize=(8, 6))\n",
        "plt.hist(df['Billing Amount Sqrt'], bins=20)\n",
        "plt.xlabel('Monto de Facturación')\n",
        "plt.ylabel('Frecuencia')\n",
        "plt.title('Distribución de Monto de Facturación, Transformado por Raíz Cuadrada')\n",
        "plt.show()"
      ]
    },
    {
      "cell_type": "markdown",
      "metadata": {
        "id": "-rTIqJ4DSrah"
      },
      "source": [
        "**Análisis Bivariado**"
      ]
    },
    {
      "cell_type": "code",
      "execution_count": 254,
      "metadata": {
        "colab": {
          "base_uri": "https://localhost:8080/",
          "height": 416
        },
        "id": "TZslvQ_OTJY8",
        "outputId": "3867a90e-99a3-4ac3-845c-b316688ecefc"
      },
      "outputs": [
        {
          "output_type": "display_data",
          "data": {
            "text/plain": [
              "<Figure size 1000x600 with 1 Axes>"
            ],
            "image/png": "[encoded data removed]"
          },
          "metadata": {}
        }
      ],
      "source": [
        "plt.figure(figsize=(10, 6))\n",
        "sns.boxplot(x='Age', y='Gender', data=df, hue='Gender', palette=\"viridis\")\n",
        "plt.title('Age vs Gender')\n",
        "plt.show()"
      ]
    },
    {
      "cell_type": "code",
      "execution_count": 255,
      "metadata": {
        "colab": {
          "base_uri": "https://localhost:8080/",
          "height": 477
        },
        "id": "vfR2IJFsYWcf",
        "outputId": "a19b7a92-6d96-4895-ada6-4b8454f9b5b7"
      },
      "outputs": [
        {
          "output_type": "display_data",
          "data": {
            "text/plain": [
              "<Figure size 640x480 with 1 Axes>"
            ],
            "image/png": "[encoded data removed]"
          },
          "metadata": {}
        }
      ],
      "source": [
        "# Distribución por Edad\n",
        "plt.hist(df['Age'])\n",
        "plt.xlabel('Age')\n",
        "plt.ylabel('Frequency')\n",
        "plt.title('Distribution of Age')\n",
        "plt.show()"
      ]
    },
    {
      "cell_type": "markdown",
      "metadata": {
        "id": "eca-DefxUTsv"
      },
      "source": [
        "**Análisis Multivariado**"
      ]
    },
    {
      "cell_type": "code",
      "execution_count": 256,
      "metadata": {
        "colab": {
          "base_uri": "https://localhost:8080/",
          "height": 461
        },
        "id": "o3H307Y3GA1L",
        "outputId": "2f93cc30-4b2b-4957-d2ff-c991f394b3c7"
      },
      "outputs": [
        {
          "output_type": "display_data",
          "data": {
            "text/plain": [
              "<Figure size 1000x600 with 2 Axes>"
            ],
            "image/png": "[encoded data removed]"
          },
          "metadata": {}
        }
      ],
      "source": [
        "correlation_matrix = df[['Billing Amount Sqrt', 'Age', 'RoomNumber']].corr()\n",
        "plt.figure(figsize=(10, 6))\n",
        "sns.heatmap(correlation_matrix, annot=True, cmap='coolwarm')\n",
        "plt.title('Correlation Heatmap')\n",
        "plt.show()"
      ]
    },
    {
      "cell_type": "markdown",
      "metadata": {
        "id": "fFNh6H0zQfaw"
      },
      "source": [
        "**Interpretación del Mapa de Calor:**\n",
        "\n",
        "Colores: Los colores en el mapa de calor representan la fuerza y la dirección de la correlación.\n",
        "Los colores cálidos (como el rojo) indican una correlación positiva, lo que significa que a medida que una variable aumenta, la otra también tiende a aumentar.\n",
        "Los colores fríos (como el azul) indican una correlación negativa, lo que significa que a medida que una variable aumenta, la otra tiende a disminuir.\n",
        "Los colores cercanos al blanco indican una correlación débil o nula.\n",
        "Números: Los números en cada celda representan el coeficiente de correlación, que varía entre -1 y 1.\n",
        "Un coeficiente de 1 indica una correlación positiva perfecta.\n",
        "Un coeficiente de -1 indica una correlación negativa perfecta.\n",
        "Un coeficiente de 0 indica que no hay correlación.\n",
        "Análisis del Mapa de Calor:\n",
        "\n",
        "Basándome en el mapa de calor compartido, parece que:\n",
        "\n",
        "No hay una correlación fuerte entre ninguna de las variables. Los coeficientes de correlación son relativamente bajos, lo que sugiere que no hay una relación lineal fuerte, entre \"Billing Amount Sqtr\", \"Age\" y \"Room Number\"."
      ]
    },
    {
      "cell_type": "code",
      "execution_count": 257,
      "metadata": {
        "colab": {
          "base_uri": "https://localhost:8080/",
          "height": 467
        },
        "id": "3640tBJ-aI27",
        "outputId": "a8798820-fdaa-415c-f61b-cf7edf70c7b7"
      },
      "outputs": [
        {
          "output_type": "display_data",
          "data": {
            "text/plain": [
              "<Figure size 1000x600 with 1 Axes>"
            ],
            "image/png": "[encoded data removed]"
          },
          "metadata": {}
        }
      ],
      "source": [
        "# Creamos un boxplot, para comparar la distribución del \"Billong Amount Sqrt\",\n",
        "# (Monto de Facturación con Transformación de Raíz Cuadrada), entre los diferentes tipos de admisión,\n",
        "#\"Admision Type.\"\n",
        "plt.figure(figsize=(10, 6))\n",
        "sns.boxplot(x= 'AdmissionType', y='Billing Amount Sqrt', data=df)\n",
        "plt.xlabel('AdmissionType')\n",
        "plt.ylabel('Billing Amount Sqrt')\n",
        "plt.title('Distribution of Billing Amount Sqrt by Admission Type')\n",
        "plt.xticks(rotation=45)  # Rotate x-axis labels for readability\n",
        "plt.show()"
      ]
    },
    {
      "cell_type": "markdown",
      "metadata": {
        "id": "bELl8fWcS1AD"
      },
      "source": [
        "Analizando el boxplot, se puede observar:\n",
        "1. Diferencias en la mediana:\n",
        "\n",
        "La mediana del \"Billing Amount Sqrt\" para las admisiones de \"Emergency\" parece ser ligeramente más alta que para los otros tipos de admisión. Esto sugiere que, en promedio, los costos de facturación tienden a ser mayores para las admisiones de emergencia.\n",
        "Las admisiones \"Elective\" y \"Urgent\" tienen medianas similares, lo que indica que los costos promedio de facturación para estos tipos de admisión son comparables.\n",
        "2. Dispersión de los datos:\n",
        "\n",
        "La caja para las admisiones de \"Emergency\", es más grande que las cajas para los otros tipos de admisión, lo que indica una mayor variabilidad en los costos de facturación, para este tipo de admisión.\n",
        "Las admisiones \"Elective\" y \"Urgent\" tienen cajas de tamaño similar, lo que sugiere una variabilidad similar en los costos de facturación.\n",
        "3. Valores atípicos:\n",
        "\n",
        "Al realizar la Transformación por Raíz Cuadrada, se han eliminado los Outliers.\n",
        "\n",
        "4. Patrones generales:\n",
        "\n",
        "En general, parece haber una tendencia a que los costos de facturación, sean más altos para las admisiones de \"Emergency\", en comparación con los otros tipos de admisión. Sin embargo, la variabilidad en los costos es mayor para las admisiones de \"Emergency\", lo que significa que hay una gama más amplia de costos posibles."
      ]
    },
    {
      "cell_type": "code",
      "execution_count": 258,
      "metadata": {
        "colab": {
          "base_uri": "https://localhost:8080/",
          "height": 442
        },
        "id": "8enzrrPEb3iu",
        "outputId": "007614b9-ddef-4929-85bd-f9171787a8eb"
      },
      "outputs": [
        {
          "output_type": "display_data",
          "data": {
            "text/plain": [
              "<Figure size 1400x800 with 1 Axes>"
            ],
            "image/png": "[encoded data removed]"
          },
          "metadata": {}
        }
      ],
      "source": [
        "plt.figure(figsize=(14, 8))  # Adjust figure size as needed\n",
        "sns.countplot(x='MedicalCondition', data=df)\n",
        "plt.xlabel('Medical Condition')\n",
        "plt.ylabel('Count')\n",
        "plt.title('Frequency of Medical Conditions')\n",
        "plt.xticks(rotation=90)  # Rotate x-axis labels for readability\n",
        "plt.show()"
      ]
    },
    {
      "cell_type": "code",
      "execution_count": 259,
      "metadata": {
        "colab": {
          "base_uri": "https://localhost:8080/",
          "height": 525
        },
        "id": "3ck4RJwjcs6q",
        "outputId": "ee7ca964-cde1-486a-ed52-9caace7fde6c"
      },
      "outputs": [
        {
          "output_type": "display_data",
          "data": {
            "text/plain": [
              "<Figure size 800x600 with 1 Axes>"
            ],
            "image/png": "[encoded data removed]"
          },
          "metadata": {}
        }
      ],
      "source": [
        "# Creo un gráfico de violín (violinplot), para visualizar la distribución de la edad, según el género\n",
        "\n",
        "plt.figure(figsize=(8, 6))\n",
        "sns.violinplot(x='Gender', y='Age', data=df)\n",
        "plt.xlabel('Gender')\n",
        "plt.ylabel('Age')\n",
        "plt.title('Distribution of Age by Gender')\n",
        "plt.show()"
      ]
    },
    {
      "cell_type": "code",
      "execution_count": 260,
      "metadata": {
        "colab": {
          "base_uri": "https://localhost:8080/",
          "height": 546
        },
        "id": "Q09mn2F2c3Qh",
        "outputId": "90bdfa6f-4dc1-4379-c1b2-9d2c3775da5e"
      },
      "outputs": [
        {
          "output_type": "display_data",
          "data": {
            "text/plain": [
              "<Figure size 800x600 with 2 Axes>"
            ],
            "image/png": "[encoded data removed]"
          },
          "metadata": {}
        }
      ],
      "source": [
        "correlation_matrix = df[['Billing Amount Sqrt', 'Age', 'StayDuration']].corr()\n",
        "plt.figure(figsize=(8, 6))\n",
        "sns.heatmap(correlation_matrix, annot=True, cmap='coolwarm')\n",
        "plt.title('Correlation Heatmap')\n",
        "plt.show()"
      ]
    },
    {
      "cell_type": "markdown",
      "metadata": {
        "id": "zSHn6s_DIFFz"
      },
      "source": [
        "Quiero comparar \"Medical Condition\", por \"Gender\" y \"Age\".\n",
        "\n",
        "Condición Médica, en relación al Género y a la Edad.\n",
        "\n",
        "Gráfico de barras agrupadas:\n",
        "\n",
        "Primero, agrupo los datos por \"Gender\", \"Medical Condition\" y calculo el promedio de edad para cada grupo.\n"
      ]
    },
    {
      "cell_type": "code",
      "execution_count": 261,
      "metadata": {
        "id": "D2q8CTtTJBnp"
      },
      "outputs": [],
      "source": [
        "grouped_data = df.groupby(['Gender', 'MedicalCondition'])['Age'].mean().reset_index()"
      ]
    },
    {
      "cell_type": "markdown",
      "metadata": {
        "id": "MSga8Yx8JWFC"
      },
      "source": [
        "Luego creo el gráfico de barras:"
      ]
    },
    {
      "cell_type": "code",
      "execution_count": 262,
      "metadata": {
        "colab": {
          "base_uri": "https://localhost:8080/",
          "height": 418
        },
        "id": "8ckmUE1kJcgu",
        "outputId": "6d2f1222-659c-4884-c90d-948222e71723"
      },
      "outputs": [
        {
          "output_type": "display_data",
          "data": {
            "text/plain": [
              "<Figure size 1200x600 with 1 Axes>"
            ],
            "image/png": "[encoded data removed]"
          },
          "metadata": {}
        }
      ],
      "source": [
        "plt.figure(figsize=(12, 6))\n",
        "sns.barplot(x='MedicalCondition', y='Age', hue='Gender', data=grouped_data)\n",
        "plt.xlabel('Medical Condition')\n",
        "plt.ylabel('Average Age')\n",
        "plt.title('Average Age by Medical Condition and Gender')\n",
        "plt.xticks(rotation=90)\n",
        "plt.legend()\n",
        "plt.show()"
      ]
    },
    {
      "cell_type": "markdown",
      "metadata": {
        "id": "oRS8ciHZXsam"
      },
      "source": [
        "Analizando el gráfico de barras agrupadas, puedo observar lo siguiente:\n",
        "\n",
        "1. Diferencias en la edad promedio por género y condición médica:\n",
        "\n",
        "Artritis: La edad promedio de las mujeres con artritis, es ligeramente mayor que la de los hombres con la misma condición.\n",
        "Cáncer: La edad promedio de los hombres con cáncer, es ligeramente mayor que la de las mujeres con cáncer.\n",
        "Diabetes: La edad promedio de las mujeres con diabetes, es ligeramente mayor que la de los hombres con diabetes.\n",
        "Enfermedad cardíaca: La edad promedio de los hombres con enfermedad cardíaca, es ligeramente mayor que la de las mujeres con la misma condición.\n",
        "Hipertensión: La edad promedio de las mujeres con hipertensión, es ligeramente mayor que la de los hombres con hipertensión.\n",
        "2. Patrones generales:\n",
        "\n",
        "En general, parece haber una ligera tendencia a que las mujeres tengan una edad promedio ligeramente mayor que los hombres, para la mayoría de las condiciones médicas, excepto para el cáncer y la enfermedad cardíaca.\n",
        "Las condiciones médicas que afectan principalmente a personas mayores, como la artritis y la hipertensión, muestran una mayor diferencia en la edad promedio entre géneros.\n",
        "3. Conclusiones:\n",
        "\n",
        "Aunque las diferencias en la edad promedio entre géneros no son muy pronunciadas, el gráfico sugiere que podría haber algunas variaciones en la edad de inicio o diagnóstico de ciertas condiciones médicas según el género."
      ]
    },
    {
      "cell_type": "markdown",
      "metadata": {
        "id": "y9Jz51VoJqMn"
      },
      "source": [
        "Finalmente armo el gráfico de dispersión con codificación de color:"
      ]
    },
    {
      "cell_type": "code",
      "execution_count": 263,
      "metadata": {
        "colab": {
          "base_uri": "https://localhost:8080/",
          "height": 400
        },
        "id": "UvalZRQ3J43m",
        "outputId": "0446a43e-15c0-40cf-fc79-425c924a6af8"
      },
      "outputs": [
        {
          "output_type": "display_data",
          "data": {
            "text/plain": [
              "<Figure size 1000x600 with 1 Axes>"
            ],
            "image/png": "[encoded data removed]"
          },
          "metadata": {}
        }
      ],
      "source": [
        "plt.figure(figsize=(10, 6))\n",
        "sns.scatterplot(x='Age', y='MedicalCondition', hue='Gender', data=df)\n",
        "plt.xlabel('Age')\n",
        "plt.ylabel('Medical Condition')\n",
        "plt.title('Medical Condition by Age and Gender')\n",
        "plt.xticks(rotation=90)\n",
        "plt.legend()\n",
        "plt.show()"
      ]
    },
    {
      "cell_type": "markdown",
      "metadata": {
        "id": "GkC0V7p2YXqr"
      },
      "source": [
        "Analizando el gráfico de dispersión, puedo observar lo siguiente:\n",
        "\n",
        "1. Distribución de las condiciones médicas:\n",
        "\n",
        "Cáncer: Parece ser más frecuente en personas mayores, especialmente a partir de los 50 años, tanto en hombres como en mujeres.\n",
        "Enfermedad cardíaca: También muestra una mayor incidencia en personas mayores, pero con una ligera concentración en hombres a partir de los 40 años.\n",
        "Diabetes: Se distribuye de manera más uniforme a lo largo de las edades, aunque hay una ligera tendencia a aumentar su frecuencia en personas mayores.\n",
        "Hipertensión: Se observa una mayor concentración en personas mayores, tanto en hombres como en mujeres.\n",
        "2. Tendencias por edad:\n",
        "\n",
        "En general, las condiciones médicas parecen ser más frecuentes en personas mayores, lo que sugiere que la edad es un factor de riesgo importante.\n",
        "No se observan diferencias significativas en las tendencias por edad entre hombres y mujeres, aunque la enfermedad cardíaca parece ser ligeramente más común en hombres a partir de los 40 años.\n",
        "3. Valores atípicos:\n",
        "\n",
        "Hay algunos puntos que se alejan del patrón general, especialmente en el caso del cáncer. Estos valores atípicos podrían representar casos especiales que requieren una investigación más profunda.\n",
        "4. Interacción entre variables:\n",
        "\n",
        "No parece haber una interacción clara entre la edad, la condición médica y el género, aunque la enfermedad cardíaca muestra una ligera tendencia a ser más común en hombres a partir de los 40 años.\n",
        "\n",
        "**Conclusiones:**\n",
        "\n",
        "En general, el gráfico sugiere que la edad es un factor de riesgo importante para las condiciones médicas analizadas. Sin embargo, no se observan diferencias significativas, en las tendencias por edad entre hombres y mujeres. La enfermedad cardíaca, parece ser ligeramente más común en hombres, a partir de los 40 años."
      ]
    },
    {
      "cell_type": "markdown",
      "metadata": {
        "id": "lzQvM5dAX8kh"
      },
      "source": [
        "# Conclusiones del EDA\n",
        "\n",
        "\n",
        "---\n",
        "\n"
      ]
    },
    {
      "cell_type": "markdown",
      "metadata": {
        "id": "qZM2z6dCYLgG"
      },
      "source": [
        "# Codificación de Variables Categóricas"
      ]
    },
    {
      "cell_type": "code",
      "source": [
        "df.columns"
      ],
      "metadata": {
        "colab": {
          "base_uri": "https://localhost:8080/"
        },
        "id": "QOVPobgQM2a3",
        "outputId": "4f35ec6c-f661-4b1a-f0fe-c21a41ea0be0"
      },
      "execution_count": 264,
      "outputs": [
        {
          "output_type": "execute_result",
          "data": {
            "text/plain": [
              "Index(['First Name', 'Last Name', 'Age', 'Gender', 'BloodType',\n",
              "       'MedicalCondition', 'DateofAdmission', 'Doctor', 'Hospital',\n",
              "       'InsuranceProvider', 'BillingAmount', 'RoomNumber', 'AdmissionType',\n",
              "       'DischargeDate', 'Medication', 'TestResults', 'StayDuration',\n",
              "       'Billing Amount Sqrt'],\n",
              "      dtype='object')"
            ]
          },
          "metadata": {},
          "execution_count": 264
        }
      ]
    },
    {
      "cell_type": "code",
      "source": [
        "df.info()"
      ],
      "metadata": {
        "colab": {
          "base_uri": "https://localhost:8080/"
        },
        "id": "8AUKuuT4sMGE",
        "outputId": "d8da398c-3575-438e-febf-b3cf8800ed40"
      },
      "execution_count": 265,
      "outputs": [
        {
          "output_type": "stream",
          "name": "stdout",
          "text": [
            "<class 'pandas.core.frame.DataFrame'>\n",
            "RangeIndex: 24999 entries, 0 to 24998\n",
            "Data columns (total 18 columns):\n",
            " #   Column               Non-Null Count  Dtype         \n",
            "---  ------               --------------  -----         \n",
            " 0   First Name           24999 non-null  object        \n",
            " 1   Last Name            24999 non-null  object        \n",
            " 2   Age                  24999 non-null  int64         \n",
            " 3   Gender               24999 non-null  object        \n",
            " 4   BloodType            24999 non-null  object        \n",
            " 5   MedicalCondition     24999 non-null  object        \n",
            " 6   DateofAdmission      24999 non-null  datetime64[ns]\n",
            " 7   Doctor               24999 non-null  object        \n",
            " 8   Hospital             24999 non-null  object        \n",
            " 9   InsuranceProvider    24999 non-null  object        \n",
            " 10  BillingAmount        24999 non-null  int64         \n",
            " 11  RoomNumber           24999 non-null  int64         \n",
            " 12  AdmissionType        24999 non-null  object        \n",
            " 13  DischargeDate        24999 non-null  datetime64[ns]\n",
            " 14  Medication           24999 non-null  object        \n",
            " 15  TestResults          24999 non-null  object        \n",
            " 16  StayDuration         24999 non-null  int64         \n",
            " 17  Billing Amount Sqrt  24999 non-null  float64       \n",
            "dtypes: datetime64[ns](2), float64(1), int64(4), object(11)\n",
            "memory usage: 3.4+ MB\n"
          ]
        }
      ]
    },
    {
      "cell_type": "markdown",
      "source": [
        "# **MODELO A APLICAR**\n",
        "\n",
        "Quiero predecir **\"Billing Amount Sqrt\"**, que es una variable numérica continua, por lo que empezaré con un modelo de **REGRESIÓN LINEAL**."
      ],
      "metadata": {
        "id": "4V5_hgst-83b"
      }
    },
    {
      "cell_type": "markdown",
      "metadata": {
        "id": "E3qqj1zHPFJr"
      },
      "source": [
        "# **Selección de Características** - **(Feature Selection)**"
      ]
    },
    {
      "cell_type": "markdown",
      "metadata": {
        "id": "5kcpBnYEUtqt"
      },
      "source": [
        "**Selección de variable objetivo y variables independientes**"
      ]
    },
    {
      "cell_type": "markdown",
      "metadata": {
        "id": "NssHmj9gU537"
      },
      "source": [
        "** Voy a cambiar la \"Variable Objetivo\", a \"Costo del Servicio del Hospital\", (Transformado por la Raíz Cuadrada) o directamente \"Billing Amount Sqtr\".**"
      ]
    },
    {
      "cell_type": "markdown",
      "source": [
        "# Modelo de Regresión Lineal"
      ],
      "metadata": {
        "id": "S24thcnR44rK"
      }
    },
    {
      "cell_type": "code",
      "source": [
        "import pandas as pd\n",
        "from sklearn.model_selection import train_test_split\n",
        "from sklearn.linear_model import LinearRegression\n",
        "from sklearn.metrics import mean_squared_error, mean_absolute_error, r2_score\n",
        "\n",
        "# 1. Calculo la raíz cuadrada de 'Billing Amount'\n",
        "df['Billing Amount Sqrt'] = df['BillingAmount'] ** 0.5\n",
        "\n",
        "# 2. Target Encoding for Categorical Variables\n",
        "categorical_cols = ['First Name', 'Last Name', 'MedicalCondition', 'Gender', 'BloodType',\n",
        "                    'AdmissionType', 'TestResults', 'Doctor', 'Hospital',\n",
        "                    'InsuranceProvider', 'Medication']\n",
        "\n",
        "for col in categorical_cols:\n",
        "    if col in df.columns:\n",
        "        target_means = df.groupby(col)['Billing Amount Sqrt'].mean()\n",
        "        df[col + '_target_encoded'] = df[col].map(target_means)\n",
        "\n",
        "# 3. Definir objetivo y variables predictoras\n",
        "y = df['Billing Amount Sqrt']\n",
        "\n",
        "# Eliminar columnas originales y codificadas\n",
        "columns_to_drop = ['Age', 'RoomNumber', 'BillingAmount', 'StayDuration']\n",
        "columns_to_drop += categorical_cols\n",
        "X = df.drop(columns_to_drop, axis=1)\n",
        "\n",
        "# 4. Convertir columnas de marca de tiempo a numéricas (si las hay)\n",
        "for col in X.select_dtypes(include=['datetime']):\n",
        "    X[col] = X[col].apply(lambda t: t.timestamp() if pd.notna(t) else t)\n",
        "\n",
        "# 5. Dividir datos en conjuntos de entrenamiento y prueba\n",
        "X_train, X_test, y_train, y_test = train_test_split(X, y, test_size=0.3, random_state=42)\n",
        "\n",
        "# 6. Crear y entrenar el Modelo de Regresión Lineal\n",
        "model_linear = LinearRegression()\n",
        "model_linear.fit(X_train, y_train)\n",
        "\n",
        "# 7. Realizar predicciones en los datos de prueba\n",
        "y_pred = model_linear.predict(X_test)\n",
        "\n",
        "# 8. Calcular las métricas de evaluación\n",
        "mse = mean_squared_error(y_test, y_pred)\n",
        "rmse = mean_squared_error(y_test, y_pred, squared=False)\n",
        "mae = mean_absolute_error(y_test, y_pred)\n",
        "r2 = r2_score(y_test, y_pred)\n",
        "\n",
        "# 9. Imprimir los resultados\n",
        "print(\"Error cuadrático medio (MSE):\", mse)\n",
        "print(\"Raíz del error cuadrático medio (RMSE):\", rmse)\n",
        "print(\"Error absoluto medio (MAE):\", mae)\n",
        "print(\"Coeficiente de determinación (R^2):\", r2)"
      ],
      "metadata": {
        "colab": {
          "base_uri": "https://localhost:8080/"
        },
        "id": "a9T05MVrfukY",
        "outputId": "e17fdeb6-bb04-4bf4-ef32-e5cf7a09c4b1"
      },
      "execution_count": 268,
      "outputs": [
        {
          "output_type": "stream",
          "name": "stdout",
          "text": [
            "Error cuadrático medio (MSE): 1.9537515702494622e-15\n",
            "Raíz del error cuadrático medio (RMSE): 4.42012620888755e-08\n",
            "Error absoluto medio (MAE): 3.5226593414942423e-08\n",
            "Coeficiente de determinación (R^2): 1.0\n"
          ]
        }
      ]
    },
    {
      "cell_type": "code",
      "source": [
        "categorical_cols = ['First Name', 'Last Name', 'MedicalCondition', 'Gender', 'BloodType',\n",
        "                    'AdmissionType', 'TestResults', 'Doctor', 'Hospital',\n",
        "                    'InsuranceProvider', 'Medication']"
      ],
      "metadata": {
        "id": "TDNWJJpkYthY"
      },
      "execution_count": 269,
      "outputs": []
    },
    {
      "cell_type": "code",
      "source": [
        "df.columns"
      ],
      "metadata": {
        "colab": {
          "base_uri": "https://localhost:8080/"
        },
        "id": "qXXic6QwYzSC",
        "outputId": "4c420576-ced9-4f71-d3c5-b1ba3e5f532f"
      },
      "execution_count": 270,
      "outputs": [
        {
          "output_type": "execute_result",
          "data": {
            "text/plain": [
              "Index(['First Name', 'Last Name', 'Age', 'Gender', 'BloodType',\n",
              "       'MedicalCondition', 'DateofAdmission', 'Doctor', 'Hospital',\n",
              "       'InsuranceProvider', 'BillingAmount', 'RoomNumber', 'AdmissionType',\n",
              "       'DischargeDate', 'Medication', 'TestResults', 'StayDuration',\n",
              "       'Billing Amount Sqrt', 'First Name_target_encoded',\n",
              "       'Last Name_target_encoded', 'MedicalCondition_target_encoded',\n",
              "       'Gender_target_encoded', 'BloodType_target_encoded',\n",
              "       'AdmissionType_target_encoded', 'TestResults_target_encoded',\n",
              "       'Doctor_target_encoded', 'Hospital_target_encoded',\n",
              "       'InsuranceProvider_target_encoded', 'Medication_target_encoded'],\n",
              "      dtype='object')"
            ]
          },
          "metadata": {},
          "execution_count": 270
        }
      ]
    },
    {
      "cell_type": "code",
      "source": [
        "df.info()"
      ],
      "metadata": {
        "colab": {
          "base_uri": "https://localhost:8080/"
        },
        "id": "CLARZnA9Y9UR",
        "outputId": "cae2c916-4617-46d0-aa45-7d413c06936d"
      },
      "execution_count": 271,
      "outputs": [
        {
          "output_type": "stream",
          "name": "stdout",
          "text": [
            "<class 'pandas.core.frame.DataFrame'>\n",
            "RangeIndex: 24999 entries, 0 to 24998\n",
            "Data columns (total 29 columns):\n",
            " #   Column                            Non-Null Count  Dtype         \n",
            "---  ------                            --------------  -----         \n",
            " 0   First Name                        24999 non-null  object        \n",
            " 1   Last Name                         24999 non-null  object        \n",
            " 2   Age                               24999 non-null  int64         \n",
            " 3   Gender                            24999 non-null  object        \n",
            " 4   BloodType                         24999 non-null  object        \n",
            " 5   MedicalCondition                  24999 non-null  object        \n",
            " 6   DateofAdmission                   24999 non-null  datetime64[ns]\n",
            " 7   Doctor                            24999 non-null  object        \n",
            " 8   Hospital                          24999 non-null  object        \n",
            " 9   InsuranceProvider                 24999 non-null  object        \n",
            " 10  BillingAmount                     24999 non-null  int64         \n",
            " 11  RoomNumber                        24999 non-null  int64         \n",
            " 12  AdmissionType                     24999 non-null  object        \n",
            " 13  DischargeDate                     24999 non-null  datetime64[ns]\n",
            " 14  Medication                        24999 non-null  object        \n",
            " 15  TestResults                       24999 non-null  object        \n",
            " 16  StayDuration                      24999 non-null  int64         \n",
            " 17  Billing Amount Sqrt               24999 non-null  float64       \n",
            " 18  First Name_target_encoded         24999 non-null  float64       \n",
            " 19  Last Name_target_encoded          24999 non-null  float64       \n",
            " 20  MedicalCondition_target_encoded   24999 non-null  float64       \n",
            " 21  Gender_target_encoded             24999 non-null  float64       \n",
            " 22  BloodType_target_encoded          24999 non-null  float64       \n",
            " 23  AdmissionType_target_encoded      24999 non-null  float64       \n",
            " 24  TestResults_target_encoded        24999 non-null  float64       \n",
            " 25  Doctor_target_encoded             24999 non-null  float64       \n",
            " 26  Hospital_target_encoded           24999 non-null  float64       \n",
            " 27  InsuranceProvider_target_encoded  24999 non-null  float64       \n",
            " 28  Medication_target_encoded         24999 non-null  float64       \n",
            "dtypes: datetime64[ns](2), float64(12), int64(4), object(11)\n",
            "memory usage: 5.5+ MB\n"
          ]
        }
      ]
    },
    {
      "cell_type": "code",
      "execution_count": 272,
      "metadata": {
        "colab": {
          "base_uri": "https://localhost:8080/"
        },
        "id": "OnAwgobvgjDr",
        "outputId": "396332f3-bbcd-43de-a542-d34f60f201a1"
      },
      "outputs": [
        {
          "output_type": "execute_result",
          "data": {
            "text/plain": [
              "Index(['DateofAdmission', 'DischargeDate', 'Billing Amount Sqrt',\n",
              "       'First Name_target_encoded', 'Last Name_target_encoded',\n",
              "       'MedicalCondition_target_encoded', 'Gender_target_encoded',\n",
              "       'BloodType_target_encoded', 'AdmissionType_target_encoded',\n",
              "       'TestResults_target_encoded', 'Doctor_target_encoded',\n",
              "       'Hospital_target_encoded', 'InsuranceProvider_target_encoded',\n",
              "       'Medication_target_encoded'],\n",
              "      dtype='object')"
            ]
          },
          "metadata": {},
          "execution_count": 272
        }
      ],
      "source": [
        "# Variables independientes\n",
        "X.columns"
      ]
    },
    {
      "cell_type": "code",
      "execution_count": 273,
      "metadata": {
        "colab": {
          "base_uri": "https://localhost:8080/",
          "height": 398
        },
        "id": "AdtEzHUMg4ig",
        "outputId": "bb13e207-d7f6-4c7e-d63a-4abd49909279"
      },
      "outputs": [
        {
          "output_type": "execute_result",
          "data": {
            "text/plain": [
              "350      1.003837e+08\n",
              "2371     6.947032e+07\n",
              "11679    1.528026e+08\n",
              "6429     1.765223e+08\n",
              "1896     1.468683e+08\n",
              "5551     1.926841e+08\n",
              "2325     2.146263e+07\n",
              "21107    6.587154e+07\n",
              "13704    5.929243e+07\n",
              "8183     1.042429e+08\n",
              "Name: Billing Amount Sqrt, dtype: float64"
            ],
            "text/html": [
              "<div>\n",
              "<style scoped>\n",
              "    .dataframe tbody tr th:only-of-type {\n",
              "        vertical-align: middle;\n",
              "    }\n",
              "\n",
              "    .dataframe tbody tr th {\n",
              "        vertical-align: top;\n",
              "    }\n",
              "\n",
              "    .dataframe thead th {\n",
              "        text-align: right;\n",
              "    }\n",
              "</style>\n",
              "<table border=\"1\" class=\"dataframe\">\n",
              "  <thead>\n",
              "    <tr style=\"text-align: right;\">\n",
              "      <th></th>\n",
              "      <th>Billing Amount Sqrt</th>\n",
              "    </tr>\n",
              "  </thead>\n",
              "  <tbody>\n",
              "    <tr>\n",
              "      <th>350</th>\n",
              "      <td>1.003837e+08</td>\n",
              "    </tr>\n",
              "    <tr>\n",
              "      <th>2371</th>\n",
              "      <td>6.947032e+07</td>\n",
              "    </tr>\n",
              "    <tr>\n",
              "      <th>11679</th>\n",
              "      <td>1.528026e+08</td>\n",
              "    </tr>\n",
              "    <tr>\n",
              "      <th>6429</th>\n",
              "      <td>1.765223e+08</td>\n",
              "    </tr>\n",
              "    <tr>\n",
              "      <th>1896</th>\n",
              "      <td>1.468683e+08</td>\n",
              "    </tr>\n",
              "    <tr>\n",
              "      <th>5551</th>\n",
              "      <td>1.926841e+08</td>\n",
              "    </tr>\n",
              "    <tr>\n",
              "      <th>2325</th>\n",
              "      <td>2.146263e+07</td>\n",
              "    </tr>\n",
              "    <tr>\n",
              "      <th>21107</th>\n",
              "      <td>6.587154e+07</td>\n",
              "    </tr>\n",
              "    <tr>\n",
              "      <th>13704</th>\n",
              "      <td>5.929243e+07</td>\n",
              "    </tr>\n",
              "    <tr>\n",
              "      <th>8183</th>\n",
              "      <td>1.042429e+08</td>\n",
              "    </tr>\n",
              "  </tbody>\n",
              "</table>\n",
              "</div><br><label><b>dtype:</b> float64</label>"
            ]
          },
          "metadata": {},
          "execution_count": 273
        }
      ],
      "source": [
        "# Variable dependiente\n",
        "y.sample(10)"
      ]
    },
    {
      "cell_type": "markdown",
      "source": [
        "# Árbol de Decisión"
      ],
      "metadata": {
        "id": "CPKnMO9eYtZo"
      }
    },
    {
      "cell_type": "code",
      "source": [
        "from sklearn.tree import DecisionTreeRegressor\n",
        "\n",
        "# Creo y entreno el modelo de árbol de decisión\n",
        "model_tree = DecisionTreeRegressor(random_state=42)\n",
        "model_tree.fit(X_train, y_train)\n",
        "\n",
        "# Realizo predicciones en los datos de prueba\n",
        "y_pred_tree = model_tree.predict(X_test)\n",
        "\n",
        "# Evalúo el modelo\n",
        "mse_tree = mean_squared_error(y_test, y_pred_tree)\n",
        "r2_tree = r2_score(y_test, y_pred_tree)\n",
        "\n",
        "print(\"\\nÁrbol de Decisión:\")\n",
        "print(\"Error cuadrático medio (MSE):\", mse_tree)\n",
        "print(\"Coeficiente de determinación (R^2):\", r2_tree)"
      ],
      "metadata": {
        "colab": {
          "base_uri": "https://localhost:8080/"
        },
        "id": "isrGxGIGYy_X",
        "outputId": "dca8af45-f976-4fda-b9b4-12727595aed7"
      },
      "execution_count": 274,
      "outputs": [
        {
          "output_type": "stream",
          "name": "stdout",
          "text": [
            "\n",
            "Árbol de Decisión:\n",
            "Error cuadrático medio (MSE): 6733923350.296548\n",
            "Coeficiente de determinación (R^2): 0.9999979132733156\n"
          ]
        }
      ]
    },
    {
      "cell_type": "markdown",
      "source": [
        "# Bosque Aleatorio"
      ],
      "metadata": {
        "id": "5Fsz2ZeoY3Bg"
      }
    },
    {
      "cell_type": "code",
      "source": [
        "from sklearn.ensemble import RandomForestRegressor\n",
        "\n",
        "# Creo y entreno el modelo de bosque aleatorio\n",
        "model_forest = RandomForestRegressor(n_estimators=100, random_state=42)  # Puedes ajustar el número de árboles (n_estimators)\n",
        "model_forest.fit(X_train, y_train)\n",
        "\n",
        "# Realizo predicciones en los datos de prueba\n",
        "y_pred_forest = model_forest.predict(X_test)\n",
        "\n",
        "# Evalúo el modelo\n",
        "mse_forest = mean_squared_error(y_test, y_pred_forest)\n",
        "r2_forest = r2_score(y_test, y_pred_forest)\n",
        "\n",
        "print(\"\\nBosque Aleatorio:\")\n",
        "print(\"Error cuadrático medio (MSE):\", mse_forest)\n",
        "print(\"Coeficiente de determinación (R^2):\", r2_forest)"
      ],
      "metadata": {
        "id": "KlL-rmuGY-6T",
        "colab": {
          "base_uri": "https://localhost:8080/"
        },
        "outputId": "bb6a0c9d-01f9-4394-a8e9-6194ac611ba4"
      },
      "execution_count": 275,
      "outputs": [
        {
          "output_type": "stream",
          "name": "stdout",
          "text": [
            "\n",
            "Bosque Aleatorio:\n",
            "Error cuadrático medio (MSE): 2297776573.853951\n",
            "Coeficiente de determinación (R^2): 0.999999287958677\n"
          ]
        }
      ]
    },
    {
      "cell_type": "markdown",
      "source": [
        "# EL MSE, al igual que con el Árbol de Decisión, sigue siendo bastante alto.\n",
        "\n",
        "Posibles causas: Outliers y Complejidad del Modelo.\n",
        "Recomendaciones:\n",
        "1. Explorar outliers,\n",
        "2. Ajuste de hiperparámetros y\n",
        "3. **Validación Cruzada. Implementaré ésta última***\n",
        "\n",
        "# Validación Cruzada (k-fold cross-validation)"
      ],
      "metadata": {
        "id": "2o2VJVVBll-O"
      }
    },
    {
      "cell_type": "code",
      "source": [
        "import pandas as pd\n",
        "from sklearn.model_selection import train_test_split, KFold\n",
        "from sklearn.linear_model import LinearRegression\n",
        "from sklearn.tree import DecisionTreeRegressor\n",
        "from sklearn.ensemble import RandomForestRegressor\n",
        "from sklearn.metrics import mean_squared_error, r2_score\n",
        "\n",
        "# 'df' está cargado y los outliers han sido limpiados.\n",
        "\n",
        "# 2. Target Encoding para variables categóricas\n",
        "categorical_cols = ['First Name', 'Last Name', 'MedicalCondition', 'Gender', 'BloodType',\n",
        "                    'AdmissionType', 'TestResults', 'Doctor', 'Hospital',\n",
        "                    'InsuranceProvider', 'Medication']\n",
        "\n",
        "for col in categorical_cols:\n",
        "    if col in df.columns:\n",
        "        target_means = df.groupby(col)['Billing Amount Sqrt'].mean()\n",
        "        df[col + '_target_encoded'] = df[col].map(target_means)\n",
        "\n",
        "# 3. Defino objetivo y variables predictoras\n",
        "y = df['Billing Amount Sqrt']\n",
        "\n",
        "# Elimino las columnas categóricas originales y otras innecesarias\n",
        "columns_to_drop = ['Age', 'RoomNumber', 'BillingAmount', 'StayDuration']\n",
        "columns_to_drop += categorical_cols\n",
        "X = df.drop(columns_to_drop, axis=1)\n",
        "\n",
        "# 4. Convertir columnas de marca de tiempo a numéricas (si las hay)\n",
        "for col in X.select_dtypes(include=['datetime']):\n",
        "    X[col] = X[col].apply(lambda t: t.timestamp() if pd.notna(t) else t)\n",
        "\n",
        "# Validación cruzada (k-fold)\n",
        "kf = KFold(n_splits=5, shuffle=True, random_state=42)  # Define 5 pliegues\n",
        "\n",
        "resultados_linear = []\n",
        "resultados_tree = []\n",
        "resultados_forest = []\n",
        "\n",
        "for train_index, test_index in kf.split(X):\n",
        "    X_train, X_test = X.iloc[train_index], X.iloc[test_index]\n",
        "    y_train, y_test = y.iloc[train_index], y.iloc[test_index]\n",
        "\n",
        "    # Regresión Lineal\n",
        "    model_linear = LinearRegression()\n",
        "    model_linear.fit(X_train, y_train)\n",
        "    y_pred_linear = model_linear.predict(X_test)\n",
        "    mse_linear = mean_squared_error(y_test, y_pred_linear)\n",
        "    r2_linear = r2_score(y_test, y_pred_linear)\n",
        "    resultados_linear.append([mse_linear, r2_linear])\n",
        "\n",
        "    # Árbol de Decisión\n",
        "    model_tree = DecisionTreeRegressor(random_state=42)\n",
        "    model_tree.fit(X_train, y_train)\n",
        "    y_pred_tree = model_tree.predict(X_test)\n",
        "    mse_tree = mean_squared_error(y_test, y_pred_tree)\n",
        "    r2_tree = r2_score(y_test, y_pred_tree)\n",
        "    resultados_tree.append([mse_tree, r2_tree])\n",
        "\n",
        "    # Bosque Aleatorio\n",
        "    model_forest = RandomForestRegressor(n_estimators=100, random_state=42)\n",
        "    model_forest.fit(X_train, y_train)\n",
        "    y_pred_forest = model_forest.predict(X_test)\n",
        "    mse_forest = mean_squared_error(y_test, y_pred_forest)\n",
        "    r2_forest = r2_score(y_test, y_pred_forest)\n",
        "    resultados_forest.append([mse_forest, r2_forest])\n",
        "\n",
        "# Calculo las métricas promedio para cada modelo\n",
        "resultados_linear = pd.DataFrame(resultados_linear, columns=['MSE', 'R^2'])\n",
        "resultados_tree = pd.DataFrame(resultados_tree, columns=['MSE', 'R^2'])\n",
        "resultados_forest = pd.DataFrame(resultados_forest, columns=['MSE', 'R^2'])\n",
        "\n",
        "print(\"Regresión Lineal:\")\n",
        "print(resultados_linear.mean())\n",
        "print(\"\\nÁrbol de Decisión:\")\n",
        "print(resultados_tree.mean())\n",
        "print(\"\\nBosque Aleatorio:\")\n",
        "print(resultados_forest.mean())"
      ],
      "metadata": {
        "colab": {
          "base_uri": "https://localhost:8080/"
        },
        "id": "JPBcCLdanbuh",
        "outputId": "816dde15-211c-4832-920b-051efa3edb71"
      },
      "execution_count": 276,
      "outputs": [
        {
          "output_type": "stream",
          "name": "stdout",
          "text": [
            "Regresión Lineal:\n",
            "MSE    4.657756e-15\n",
            "R^2    1.000000e+00\n",
            "dtype: float64\n",
            "\n",
            "Árbol de Decisión:\n",
            "MSE    5.983136e+09\n",
            "R^2    9.999982e-01\n",
            "dtype: float64\n",
            "\n",
            "Bosque Aleatorio:\n",
            "MSE    3.620300e+09\n",
            "R^2    9.999989e-01\n",
            "dtype: float64\n"
          ]
        }
      ]
    },
    {
      "cell_type": "markdown",
      "metadata": {
        "id": "T_sHDozdMrmC"
      },
      "source": [
        "**Escalado de Características:**"
      ]
    },
    {
      "cell_type": "code",
      "execution_count": 277,
      "metadata": {
        "id": "I1AC3AOPM0DB"
      },
      "outputs": [],
      "source": [
        "from sklearn.preprocessing import StandardScaler\n",
        "\n",
        "scaler = StandardScaler()\n",
        "X_train_scaled = scaler.fit_transform(X_train)\n",
        "X_test_scaled = scaler.transform(X_test)"
      ]
    },
    {
      "cell_type": "markdown",
      "metadata": {
        "id": "uu1I77_pM_yS"
      },
      "source": [
        "**Evaluación del Modelo:**"
      ]
    },
    {
      "cell_type": "code",
      "execution_count": 278,
      "metadata": {
        "id": "tCNsIirmRwMB",
        "colab": {
          "base_uri": "https://localhost:8080/"
        },
        "outputId": "d358d0f5-3cab-4447-83c0-e16ef208ba48"
      },
      "outputs": [
        {
          "output_type": "execute_result",
          "data": {
            "text/plain": [
              "True"
            ]
          },
          "metadata": {},
          "execution_count": 278
        }
      ],
      "source": [
        "# Comparo si son iguales\n",
        "X_train.columns.equals(X_test.columns)\n",
        "\n",
        "all(X_train.columns.isin(X_test.columns)) and all(X_test.columns.isin(X_train.columns))"
      ]
    },
    {
      "cell_type": "code",
      "source": [
        "print(categorical_cols)"
      ],
      "metadata": {
        "colab": {
          "base_uri": "https://localhost:8080/"
        },
        "id": "WvHvB37PFC1z",
        "outputId": "832dcc6d-9436-4586-eb49-5b6e83c223db"
      },
      "execution_count": 279,
      "outputs": [
        {
          "output_type": "stream",
          "name": "stdout",
          "text": [
            "['First Name', 'Last Name', 'MedicalCondition', 'Gender', 'BloodType', 'AdmissionType', 'TestResults', 'Doctor', 'Hospital', 'InsuranceProvider', 'Medication']\n"
          ]
        }
      ]
    },
    {
      "cell_type": "markdown",
      "metadata": {
        "id": "YNZBQZAtdIbi"
      },
      "source": [
        "Explicación:\n",
        "\n",
        "Importamos Modelos Necesarios:\n",
        "DecisionTreeClassifier y RandomForestClassifier, desde sklearn.\n",
        "Diccionario de modelos: Creamos un diccionario para almacenar los modelos, facilitando su iteración y evaluación.\n",
        "Iterar y evaluar: recorremos los modelos, los ajustamos a los datos de entrenamiento remuestreados, generamos predicciones, calculamos métricas y realizamos una validación cruzada.\n",
        "Después de ejecutar este código, comparamos los resultados de los diferentes modelos:\n",
        "\n",
        "Si todos los modelos obtienen puntuaciones perfectas: esto sugiere firmemente que hay problemas potenciales como fuga de datos o fuga de objetivos, y deberíamos investigarlos más a fondo.\n",
        "Si algunos modelos tienen un peor rendimiento: esto indica que las puntuaciones perfectas pueden ser específicas de la regresión logística o deberse a un sobreajuste. Luego, puede centrarse en analizar esos modelos y ajustar sus hiperparámetros para mejorar la generalización.\n",
        "Debemos recordar analizar cuidadosamente los resultados y tener en cuenta los posibles problemas que analizamos anteriormente.\n",
        "Esta experimentación nos dará más confianza en los hallazgos y nos ayudará a construir un modelo más sólido y confiable."
      ]
    }
  ],
  "metadata": {
    "colab": {
      "provenance": [],
      "authorship_tag": "ABX9TyOusyD72jalz9AB8uUCkt4K",
      "include_colab_link": true
    },
    "kernelspec": {
      "display_name": "Python 3",
      "name": "python3"
    },
    "language_info": {
      "name": "python"
    }
  },
  "nbformat": 4,
  "nbformat_minor": 0
}